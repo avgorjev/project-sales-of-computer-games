{
 "cells": [
  {
   "cell_type": "markdown",
   "metadata": {},
   "source": [
    "# Анализ продаж компьютерных игр 2016"
   ]
  },
  {
   "cell_type": "markdown",
   "metadata": {},
   "source": [
    "## Описание проекта"
   ]
  },
  {
   "cell_type": "markdown",
   "metadata": {},
   "source": [
    "### Общие данные"
   ]
  },
  {
   "cell_type": "markdown",
   "metadata": {},
   "source": [
    "Интернет-магазин «Стримчик», который продаёт по всему миру компьютерные игры. Из открытых источников доступны исторические данные о продажах игр, оценки пользователей и экспертов, жанры и платформы (например, Xbox или PlayStation). Необходимо выявить определяющие успешность игры закономерности. Это позволит сделать ставку на потенциально популярный продукт и спланировать рекламные кампании.  \n",
    "  \n",
    "По данным до 2016 года необходимо по состоянию на декабрь 2016 г. запланировать кампанию на 2017 год.  \n",
    "  \n",
    "В наборе данных попадается аббревиатура ESRB (Entertainment Software Rating Board) — это ассоциация, определяющая возрастной рейтинг компьютерных игр. ESRB оценивает игровой контент и присваивает ему подходящую возрастную категорию, например, «Для взрослых», «Для детей младшего возраста» или «Для подростков»."
   ]
  },
  {
   "cell_type": "markdown",
   "metadata": {},
   "source": [
    "### Ознакомление с массивом данных"
   ]
  },
  {
   "cell_type": "code",
   "execution_count": 1,
   "metadata": {},
   "outputs": [],
   "source": [
    "import pandas as pd #  Импортируем библиотеку для работы с базами данных \n",
    "import matplotlib.pyplot as plt #  Импортируем библиотеку для построения графической информации\n",
    "import numpy as np \n",
    "import seaborn as sns\n",
    "from scipy import stats as st"
   ]
  },
  {
   "cell_type": "code",
   "execution_count": 2,
   "metadata": {},
   "outputs": [
    {
     "data": {
      "text/html": [
       "<div>\n",
       "<style scoped>\n",
       "    .dataframe tbody tr th:only-of-type {\n",
       "        vertical-align: middle;\n",
       "    }\n",
       "\n",
       "    .dataframe tbody tr th {\n",
       "        vertical-align: top;\n",
       "    }\n",
       "\n",
       "    .dataframe thead th {\n",
       "        text-align: right;\n",
       "    }\n",
       "</style>\n",
       "<table border=\"1\" class=\"dataframe\">\n",
       "  <thead>\n",
       "    <tr style=\"text-align: right;\">\n",
       "      <th></th>\n",
       "      <th>Name</th>\n",
       "      <th>Platform</th>\n",
       "      <th>Year_of_Release</th>\n",
       "      <th>Genre</th>\n",
       "      <th>NA_sales</th>\n",
       "      <th>EU_sales</th>\n",
       "      <th>JP_sales</th>\n",
       "      <th>Other_sales</th>\n",
       "      <th>Critic_Score</th>\n",
       "      <th>User_Score</th>\n",
       "      <th>Rating</th>\n",
       "    </tr>\n",
       "  </thead>\n",
       "  <tbody>\n",
       "    <tr>\n",
       "      <td>0</td>\n",
       "      <td>Wii Sports</td>\n",
       "      <td>Wii</td>\n",
       "      <td>2006.0</td>\n",
       "      <td>Sports</td>\n",
       "      <td>41.36</td>\n",
       "      <td>28.96</td>\n",
       "      <td>3.77</td>\n",
       "      <td>8.45</td>\n",
       "      <td>76.0</td>\n",
       "      <td>8</td>\n",
       "      <td>E</td>\n",
       "    </tr>\n",
       "    <tr>\n",
       "      <td>1</td>\n",
       "      <td>Super Mario Bros.</td>\n",
       "      <td>NES</td>\n",
       "      <td>1985.0</td>\n",
       "      <td>Platform</td>\n",
       "      <td>29.08</td>\n",
       "      <td>3.58</td>\n",
       "      <td>6.81</td>\n",
       "      <td>0.77</td>\n",
       "      <td>NaN</td>\n",
       "      <td>NaN</td>\n",
       "      <td>NaN</td>\n",
       "    </tr>\n",
       "    <tr>\n",
       "      <td>2</td>\n",
       "      <td>Mario Kart Wii</td>\n",
       "      <td>Wii</td>\n",
       "      <td>2008.0</td>\n",
       "      <td>Racing</td>\n",
       "      <td>15.68</td>\n",
       "      <td>12.76</td>\n",
       "      <td>3.79</td>\n",
       "      <td>3.29</td>\n",
       "      <td>82.0</td>\n",
       "      <td>8.3</td>\n",
       "      <td>E</td>\n",
       "    </tr>\n",
       "    <tr>\n",
       "      <td>3</td>\n",
       "      <td>Wii Sports Resort</td>\n",
       "      <td>Wii</td>\n",
       "      <td>2009.0</td>\n",
       "      <td>Sports</td>\n",
       "      <td>15.61</td>\n",
       "      <td>10.93</td>\n",
       "      <td>3.28</td>\n",
       "      <td>2.95</td>\n",
       "      <td>80.0</td>\n",
       "      <td>8</td>\n",
       "      <td>E</td>\n",
       "    </tr>\n",
       "    <tr>\n",
       "      <td>4</td>\n",
       "      <td>Pokemon Red/Pokemon Blue</td>\n",
       "      <td>GB</td>\n",
       "      <td>1996.0</td>\n",
       "      <td>Role-Playing</td>\n",
       "      <td>11.27</td>\n",
       "      <td>8.89</td>\n",
       "      <td>10.22</td>\n",
       "      <td>1.00</td>\n",
       "      <td>NaN</td>\n",
       "      <td>NaN</td>\n",
       "      <td>NaN</td>\n",
       "    </tr>\n",
       "    <tr>\n",
       "      <td>5</td>\n",
       "      <td>Tetris</td>\n",
       "      <td>GB</td>\n",
       "      <td>1989.0</td>\n",
       "      <td>Puzzle</td>\n",
       "      <td>23.20</td>\n",
       "      <td>2.26</td>\n",
       "      <td>4.22</td>\n",
       "      <td>0.58</td>\n",
       "      <td>NaN</td>\n",
       "      <td>NaN</td>\n",
       "      <td>NaN</td>\n",
       "    </tr>\n",
       "    <tr>\n",
       "      <td>6</td>\n",
       "      <td>New Super Mario Bros.</td>\n",
       "      <td>DS</td>\n",
       "      <td>2006.0</td>\n",
       "      <td>Platform</td>\n",
       "      <td>11.28</td>\n",
       "      <td>9.14</td>\n",
       "      <td>6.50</td>\n",
       "      <td>2.88</td>\n",
       "      <td>89.0</td>\n",
       "      <td>8.5</td>\n",
       "      <td>E</td>\n",
       "    </tr>\n",
       "    <tr>\n",
       "      <td>7</td>\n",
       "      <td>Wii Play</td>\n",
       "      <td>Wii</td>\n",
       "      <td>2006.0</td>\n",
       "      <td>Misc</td>\n",
       "      <td>13.96</td>\n",
       "      <td>9.18</td>\n",
       "      <td>2.93</td>\n",
       "      <td>2.84</td>\n",
       "      <td>58.0</td>\n",
       "      <td>6.6</td>\n",
       "      <td>E</td>\n",
       "    </tr>\n",
       "    <tr>\n",
       "      <td>8</td>\n",
       "      <td>New Super Mario Bros. Wii</td>\n",
       "      <td>Wii</td>\n",
       "      <td>2009.0</td>\n",
       "      <td>Platform</td>\n",
       "      <td>14.44</td>\n",
       "      <td>6.94</td>\n",
       "      <td>4.70</td>\n",
       "      <td>2.24</td>\n",
       "      <td>87.0</td>\n",
       "      <td>8.4</td>\n",
       "      <td>E</td>\n",
       "    </tr>\n",
       "    <tr>\n",
       "      <td>9</td>\n",
       "      <td>Duck Hunt</td>\n",
       "      <td>NES</td>\n",
       "      <td>1984.0</td>\n",
       "      <td>Shooter</td>\n",
       "      <td>26.93</td>\n",
       "      <td>0.63</td>\n",
       "      <td>0.28</td>\n",
       "      <td>0.47</td>\n",
       "      <td>NaN</td>\n",
       "      <td>NaN</td>\n",
       "      <td>NaN</td>\n",
       "    </tr>\n",
       "    <tr>\n",
       "      <td>10</td>\n",
       "      <td>Nintendogs</td>\n",
       "      <td>DS</td>\n",
       "      <td>2005.0</td>\n",
       "      <td>Simulation</td>\n",
       "      <td>9.05</td>\n",
       "      <td>10.95</td>\n",
       "      <td>1.93</td>\n",
       "      <td>2.74</td>\n",
       "      <td>NaN</td>\n",
       "      <td>NaN</td>\n",
       "      <td>NaN</td>\n",
       "    </tr>\n",
       "    <tr>\n",
       "      <td>11</td>\n",
       "      <td>Mario Kart DS</td>\n",
       "      <td>DS</td>\n",
       "      <td>2005.0</td>\n",
       "      <td>Racing</td>\n",
       "      <td>9.71</td>\n",
       "      <td>7.47</td>\n",
       "      <td>4.13</td>\n",
       "      <td>1.90</td>\n",
       "      <td>91.0</td>\n",
       "      <td>8.6</td>\n",
       "      <td>E</td>\n",
       "    </tr>\n",
       "    <tr>\n",
       "      <td>12</td>\n",
       "      <td>Pokemon Gold/Pokemon Silver</td>\n",
       "      <td>GB</td>\n",
       "      <td>1999.0</td>\n",
       "      <td>Role-Playing</td>\n",
       "      <td>9.00</td>\n",
       "      <td>6.18</td>\n",
       "      <td>7.20</td>\n",
       "      <td>0.71</td>\n",
       "      <td>NaN</td>\n",
       "      <td>NaN</td>\n",
       "      <td>NaN</td>\n",
       "    </tr>\n",
       "    <tr>\n",
       "      <td>13</td>\n",
       "      <td>Wii Fit</td>\n",
       "      <td>Wii</td>\n",
       "      <td>2007.0</td>\n",
       "      <td>Sports</td>\n",
       "      <td>8.92</td>\n",
       "      <td>8.03</td>\n",
       "      <td>3.60</td>\n",
       "      <td>2.15</td>\n",
       "      <td>80.0</td>\n",
       "      <td>7.7</td>\n",
       "      <td>E</td>\n",
       "    </tr>\n",
       "    <tr>\n",
       "      <td>14</td>\n",
       "      <td>Kinect Adventures!</td>\n",
       "      <td>X360</td>\n",
       "      <td>2010.0</td>\n",
       "      <td>Misc</td>\n",
       "      <td>15.00</td>\n",
       "      <td>4.89</td>\n",
       "      <td>0.24</td>\n",
       "      <td>1.69</td>\n",
       "      <td>61.0</td>\n",
       "      <td>6.3</td>\n",
       "      <td>E</td>\n",
       "    </tr>\n",
       "    <tr>\n",
       "      <td>15</td>\n",
       "      <td>Wii Fit Plus</td>\n",
       "      <td>Wii</td>\n",
       "      <td>2009.0</td>\n",
       "      <td>Sports</td>\n",
       "      <td>9.01</td>\n",
       "      <td>8.49</td>\n",
       "      <td>2.53</td>\n",
       "      <td>1.77</td>\n",
       "      <td>80.0</td>\n",
       "      <td>7.4</td>\n",
       "      <td>E</td>\n",
       "    </tr>\n",
       "    <tr>\n",
       "      <td>16</td>\n",
       "      <td>Grand Theft Auto V</td>\n",
       "      <td>PS3</td>\n",
       "      <td>2013.0</td>\n",
       "      <td>Action</td>\n",
       "      <td>7.02</td>\n",
       "      <td>9.09</td>\n",
       "      <td>0.98</td>\n",
       "      <td>3.96</td>\n",
       "      <td>97.0</td>\n",
       "      <td>8.2</td>\n",
       "      <td>M</td>\n",
       "    </tr>\n",
       "    <tr>\n",
       "      <td>17</td>\n",
       "      <td>Grand Theft Auto: San Andreas</td>\n",
       "      <td>PS2</td>\n",
       "      <td>2004.0</td>\n",
       "      <td>Action</td>\n",
       "      <td>9.43</td>\n",
       "      <td>0.40</td>\n",
       "      <td>0.41</td>\n",
       "      <td>10.57</td>\n",
       "      <td>95.0</td>\n",
       "      <td>9</td>\n",
       "      <td>M</td>\n",
       "    </tr>\n",
       "    <tr>\n",
       "      <td>18</td>\n",
       "      <td>Super Mario World</td>\n",
       "      <td>SNES</td>\n",
       "      <td>1990.0</td>\n",
       "      <td>Platform</td>\n",
       "      <td>12.78</td>\n",
       "      <td>3.75</td>\n",
       "      <td>3.54</td>\n",
       "      <td>0.55</td>\n",
       "      <td>NaN</td>\n",
       "      <td>NaN</td>\n",
       "      <td>NaN</td>\n",
       "    </tr>\n",
       "    <tr>\n",
       "      <td>19</td>\n",
       "      <td>Brain Age: Train Your Brain in Minutes a Day</td>\n",
       "      <td>DS</td>\n",
       "      <td>2005.0</td>\n",
       "      <td>Misc</td>\n",
       "      <td>4.74</td>\n",
       "      <td>9.20</td>\n",
       "      <td>4.16</td>\n",
       "      <td>2.04</td>\n",
       "      <td>77.0</td>\n",
       "      <td>7.9</td>\n",
       "      <td>E</td>\n",
       "    </tr>\n",
       "  </tbody>\n",
       "</table>\n",
       "</div>"
      ],
      "text/plain": [
       "                                            Name Platform  Year_of_Release  \\\n",
       "0                                     Wii Sports      Wii           2006.0   \n",
       "1                              Super Mario Bros.      NES           1985.0   \n",
       "2                                 Mario Kart Wii      Wii           2008.0   \n",
       "3                              Wii Sports Resort      Wii           2009.0   \n",
       "4                       Pokemon Red/Pokemon Blue       GB           1996.0   \n",
       "5                                         Tetris       GB           1989.0   \n",
       "6                          New Super Mario Bros.       DS           2006.0   \n",
       "7                                       Wii Play      Wii           2006.0   \n",
       "8                      New Super Mario Bros. Wii      Wii           2009.0   \n",
       "9                                      Duck Hunt      NES           1984.0   \n",
       "10                                    Nintendogs       DS           2005.0   \n",
       "11                                 Mario Kart DS       DS           2005.0   \n",
       "12                   Pokemon Gold/Pokemon Silver       GB           1999.0   \n",
       "13                                       Wii Fit      Wii           2007.0   \n",
       "14                            Kinect Adventures!     X360           2010.0   \n",
       "15                                  Wii Fit Plus      Wii           2009.0   \n",
       "16                            Grand Theft Auto V      PS3           2013.0   \n",
       "17                 Grand Theft Auto: San Andreas      PS2           2004.0   \n",
       "18                             Super Mario World     SNES           1990.0   \n",
       "19  Brain Age: Train Your Brain in Minutes a Day       DS           2005.0   \n",
       "\n",
       "           Genre  NA_sales  EU_sales  JP_sales  Other_sales  Critic_Score  \\\n",
       "0         Sports     41.36     28.96      3.77         8.45          76.0   \n",
       "1       Platform     29.08      3.58      6.81         0.77           NaN   \n",
       "2         Racing     15.68     12.76      3.79         3.29          82.0   \n",
       "3         Sports     15.61     10.93      3.28         2.95          80.0   \n",
       "4   Role-Playing     11.27      8.89     10.22         1.00           NaN   \n",
       "5         Puzzle     23.20      2.26      4.22         0.58           NaN   \n",
       "6       Platform     11.28      9.14      6.50         2.88          89.0   \n",
       "7           Misc     13.96      9.18      2.93         2.84          58.0   \n",
       "8       Platform     14.44      6.94      4.70         2.24          87.0   \n",
       "9        Shooter     26.93      0.63      0.28         0.47           NaN   \n",
       "10    Simulation      9.05     10.95      1.93         2.74           NaN   \n",
       "11        Racing      9.71      7.47      4.13         1.90          91.0   \n",
       "12  Role-Playing      9.00      6.18      7.20         0.71           NaN   \n",
       "13        Sports      8.92      8.03      3.60         2.15          80.0   \n",
       "14          Misc     15.00      4.89      0.24         1.69          61.0   \n",
       "15        Sports      9.01      8.49      2.53         1.77          80.0   \n",
       "16        Action      7.02      9.09      0.98         3.96          97.0   \n",
       "17        Action      9.43      0.40      0.41        10.57          95.0   \n",
       "18      Platform     12.78      3.75      3.54         0.55           NaN   \n",
       "19          Misc      4.74      9.20      4.16         2.04          77.0   \n",
       "\n",
       "   User_Score Rating  \n",
       "0           8      E  \n",
       "1         NaN    NaN  \n",
       "2         8.3      E  \n",
       "3           8      E  \n",
       "4         NaN    NaN  \n",
       "5         NaN    NaN  \n",
       "6         8.5      E  \n",
       "7         6.6      E  \n",
       "8         8.4      E  \n",
       "9         NaN    NaN  \n",
       "10        NaN    NaN  \n",
       "11        8.6      E  \n",
       "12        NaN    NaN  \n",
       "13        7.7      E  \n",
       "14        6.3      E  \n",
       "15        7.4      E  \n",
       "16        8.2      M  \n",
       "17          9      M  \n",
       "18        NaN    NaN  \n",
       "19        7.9      E  "
      ]
     },
     "execution_count": 2,
     "metadata": {},
     "output_type": "execute_result"
    }
   ],
   "source": [
    "df = pd.read_csv('/datasets/games.csv')\n",
    "df.head(20)"
   ]
  },
  {
   "cell_type": "code",
   "execution_count": 3,
   "metadata": {},
   "outputs": [
    {
     "data": {
      "text/plain": [
       "Action          3369\n",
       "Sports          2348\n",
       "Misc            1750\n",
       "Role-Playing    1498\n",
       "Shooter         1323\n",
       "Adventure       1303\n",
       "Racing          1249\n",
       "Platform         888\n",
       "Simulation       873\n",
       "Fighting         849\n",
       "Strategy         683\n",
       "Puzzle           580\n",
       "Name: Genre, dtype: int64"
      ]
     },
     "execution_count": 3,
     "metadata": {},
     "output_type": "execute_result"
    }
   ],
   "source": [
    "df.Genre.value_counts()"
   ]
  },
  {
   "cell_type": "code",
   "execution_count": 4,
   "metadata": {},
   "outputs": [
    {
     "data": {
      "text/html": [
       "<div>\n",
       "<style scoped>\n",
       "    .dataframe tbody tr th:only-of-type {\n",
       "        vertical-align: middle;\n",
       "    }\n",
       "\n",
       "    .dataframe tbody tr th {\n",
       "        vertical-align: top;\n",
       "    }\n",
       "\n",
       "    .dataframe thead th {\n",
       "        text-align: right;\n",
       "    }\n",
       "</style>\n",
       "<table border=\"1\" class=\"dataframe\">\n",
       "  <thead>\n",
       "    <tr style=\"text-align: right;\">\n",
       "      <th></th>\n",
       "      <th>Year_of_Release</th>\n",
       "      <th>NA_sales</th>\n",
       "      <th>EU_sales</th>\n",
       "      <th>JP_sales</th>\n",
       "      <th>Other_sales</th>\n",
       "      <th>Critic_Score</th>\n",
       "    </tr>\n",
       "  </thead>\n",
       "  <tbody>\n",
       "    <tr>\n",
       "      <td>count</td>\n",
       "      <td>16446.000000</td>\n",
       "      <td>16715.000000</td>\n",
       "      <td>16715.000000</td>\n",
       "      <td>16715.000000</td>\n",
       "      <td>16715.000000</td>\n",
       "      <td>8137.000000</td>\n",
       "    </tr>\n",
       "    <tr>\n",
       "      <td>mean</td>\n",
       "      <td>2006.484616</td>\n",
       "      <td>0.263377</td>\n",
       "      <td>0.145060</td>\n",
       "      <td>0.077617</td>\n",
       "      <td>0.047342</td>\n",
       "      <td>68.967679</td>\n",
       "    </tr>\n",
       "    <tr>\n",
       "      <td>std</td>\n",
       "      <td>5.877050</td>\n",
       "      <td>0.813604</td>\n",
       "      <td>0.503339</td>\n",
       "      <td>0.308853</td>\n",
       "      <td>0.186731</td>\n",
       "      <td>13.938165</td>\n",
       "    </tr>\n",
       "    <tr>\n",
       "      <td>min</td>\n",
       "      <td>1980.000000</td>\n",
       "      <td>0.000000</td>\n",
       "      <td>0.000000</td>\n",
       "      <td>0.000000</td>\n",
       "      <td>0.000000</td>\n",
       "      <td>13.000000</td>\n",
       "    </tr>\n",
       "    <tr>\n",
       "      <td>25%</td>\n",
       "      <td>2003.000000</td>\n",
       "      <td>0.000000</td>\n",
       "      <td>0.000000</td>\n",
       "      <td>0.000000</td>\n",
       "      <td>0.000000</td>\n",
       "      <td>60.000000</td>\n",
       "    </tr>\n",
       "    <tr>\n",
       "      <td>50%</td>\n",
       "      <td>2007.000000</td>\n",
       "      <td>0.080000</td>\n",
       "      <td>0.020000</td>\n",
       "      <td>0.000000</td>\n",
       "      <td>0.010000</td>\n",
       "      <td>71.000000</td>\n",
       "    </tr>\n",
       "    <tr>\n",
       "      <td>75%</td>\n",
       "      <td>2010.000000</td>\n",
       "      <td>0.240000</td>\n",
       "      <td>0.110000</td>\n",
       "      <td>0.040000</td>\n",
       "      <td>0.030000</td>\n",
       "      <td>79.000000</td>\n",
       "    </tr>\n",
       "    <tr>\n",
       "      <td>max</td>\n",
       "      <td>2016.000000</td>\n",
       "      <td>41.360000</td>\n",
       "      <td>28.960000</td>\n",
       "      <td>10.220000</td>\n",
       "      <td>10.570000</td>\n",
       "      <td>98.000000</td>\n",
       "    </tr>\n",
       "  </tbody>\n",
       "</table>\n",
       "</div>"
      ],
      "text/plain": [
       "       Year_of_Release      NA_sales      EU_sales      JP_sales  \\\n",
       "count     16446.000000  16715.000000  16715.000000  16715.000000   \n",
       "mean       2006.484616      0.263377      0.145060      0.077617   \n",
       "std           5.877050      0.813604      0.503339      0.308853   \n",
       "min        1980.000000      0.000000      0.000000      0.000000   \n",
       "25%        2003.000000      0.000000      0.000000      0.000000   \n",
       "50%        2007.000000      0.080000      0.020000      0.000000   \n",
       "75%        2010.000000      0.240000      0.110000      0.040000   \n",
       "max        2016.000000     41.360000     28.960000     10.220000   \n",
       "\n",
       "        Other_sales  Critic_Score  \n",
       "count  16715.000000   8137.000000  \n",
       "mean       0.047342     68.967679  \n",
       "std        0.186731     13.938165  \n",
       "min        0.000000     13.000000  \n",
       "25%        0.000000     60.000000  \n",
       "50%        0.010000     71.000000  \n",
       "75%        0.030000     79.000000  \n",
       "max       10.570000     98.000000  "
      ]
     },
     "execution_count": 4,
     "metadata": {},
     "output_type": "execute_result"
    }
   ],
   "source": [
    "df.describe()"
   ]
  },
  {
   "cell_type": "code",
   "execution_count": 5,
   "metadata": {
    "scrolled": true
   },
   "outputs": [
    {
     "name": "stdout",
     "output_type": "stream",
     "text": [
      "<class 'pandas.core.frame.DataFrame'>\n",
      "RangeIndex: 16715 entries, 0 to 16714\n",
      "Data columns (total 11 columns):\n",
      "Name               16713 non-null object\n",
      "Platform           16715 non-null object\n",
      "Year_of_Release    16446 non-null float64\n",
      "Genre              16713 non-null object\n",
      "NA_sales           16715 non-null float64\n",
      "EU_sales           16715 non-null float64\n",
      "JP_sales           16715 non-null float64\n",
      "Other_sales        16715 non-null float64\n",
      "Critic_Score       8137 non-null float64\n",
      "User_Score         10014 non-null object\n",
      "Rating             9949 non-null object\n",
      "dtypes: float64(6), object(5)\n",
      "memory usage: 1.4+ MB\n"
     ]
    }
   ],
   "source": [
    "df.info()"
   ]
  },
  {
   "cell_type": "code",
   "execution_count": 6,
   "metadata": {},
   "outputs": [],
   "source": [
    "df.columns = df.columns.str.lower()"
   ]
  },
  {
   "cell_type": "code",
   "execution_count": 7,
   "metadata": {},
   "outputs": [
    {
     "name": "stdout",
     "output_type": "stream",
     "text": [
      "<class 'pandas.core.frame.DataFrame'>\n",
      "RangeIndex: 16715 entries, 0 to 16714\n",
      "Data columns (total 11 columns):\n",
      "name               16713 non-null object\n",
      "platform           16715 non-null object\n",
      "year_of_release    16446 non-null float64\n",
      "genre              16713 non-null object\n",
      "na_sales           16715 non-null float64\n",
      "eu_sales           16715 non-null float64\n",
      "jp_sales           16715 non-null float64\n",
      "other_sales        16715 non-null float64\n",
      "critic_score       8137 non-null float64\n",
      "user_score         10014 non-null object\n",
      "rating             9949 non-null object\n",
      "dtypes: float64(6), object(5)\n",
      "memory usage: 1.4+ MB\n"
     ]
    }
   ],
   "source": [
    "df.info()"
   ]
  },
  {
   "cell_type": "code",
   "execution_count": 8,
   "metadata": {},
   "outputs": [
    {
     "data": {
      "text/plain": [
       "269"
      ]
     },
     "execution_count": 8,
     "metadata": {},
     "output_type": "execute_result"
    }
   ],
   "source": [
    "len(df[df['year_of_release'].isna()]) #  Определим количество пропусков в поле year_of_release"
   ]
  },
  {
   "cell_type": "code",
   "execution_count": 9,
   "metadata": {
    "scrolled": true
   },
   "outputs": [],
   "source": [
    "df = df.dropna(subset=['year_of_release']) #  Избавляемся от пропусков"
   ]
  },
  {
   "cell_type": "code",
   "execution_count": 10,
   "metadata": {},
   "outputs": [],
   "source": [
    "df['year_of_release'] = df['year_of_release'].astype('int') #  Преобразуем значения в поле в цельночисленный формат"
   ]
  },
  {
   "cell_type": "code",
   "execution_count": 11,
   "metadata": {},
   "outputs": [
    {
     "data": {
      "text/html": [
       "<div>\n",
       "<style scoped>\n",
       "    .dataframe tbody tr th:only-of-type {\n",
       "        vertical-align: middle;\n",
       "    }\n",
       "\n",
       "    .dataframe tbody tr th {\n",
       "        vertical-align: top;\n",
       "    }\n",
       "\n",
       "    .dataframe thead th {\n",
       "        text-align: right;\n",
       "    }\n",
       "</style>\n",
       "<table border=\"1\" class=\"dataframe\">\n",
       "  <thead>\n",
       "    <tr style=\"text-align: right;\">\n",
       "      <th></th>\n",
       "      <th>name</th>\n",
       "      <th>platform</th>\n",
       "      <th>year_of_release</th>\n",
       "      <th>genre</th>\n",
       "      <th>na_sales</th>\n",
       "      <th>eu_sales</th>\n",
       "      <th>jp_sales</th>\n",
       "      <th>other_sales</th>\n",
       "      <th>critic_score</th>\n",
       "      <th>user_score</th>\n",
       "      <th>rating</th>\n",
       "    </tr>\n",
       "  </thead>\n",
       "  <tbody>\n",
       "    <tr>\n",
       "      <td>0</td>\n",
       "      <td>Wii Sports</td>\n",
       "      <td>Wii</td>\n",
       "      <td>2006</td>\n",
       "      <td>Sports</td>\n",
       "      <td>41.36</td>\n",
       "      <td>28.96</td>\n",
       "      <td>3.77</td>\n",
       "      <td>8.45</td>\n",
       "      <td>76.0</td>\n",
       "      <td>8</td>\n",
       "      <td>E</td>\n",
       "    </tr>\n",
       "    <tr>\n",
       "      <td>1</td>\n",
       "      <td>Super Mario Bros.</td>\n",
       "      <td>NES</td>\n",
       "      <td>1985</td>\n",
       "      <td>Platform</td>\n",
       "      <td>29.08</td>\n",
       "      <td>3.58</td>\n",
       "      <td>6.81</td>\n",
       "      <td>0.77</td>\n",
       "      <td>NaN</td>\n",
       "      <td>NaN</td>\n",
       "      <td>NaN</td>\n",
       "    </tr>\n",
       "    <tr>\n",
       "      <td>2</td>\n",
       "      <td>Mario Kart Wii</td>\n",
       "      <td>Wii</td>\n",
       "      <td>2008</td>\n",
       "      <td>Racing</td>\n",
       "      <td>15.68</td>\n",
       "      <td>12.76</td>\n",
       "      <td>3.79</td>\n",
       "      <td>3.29</td>\n",
       "      <td>82.0</td>\n",
       "      <td>8.3</td>\n",
       "      <td>E</td>\n",
       "    </tr>\n",
       "    <tr>\n",
       "      <td>3</td>\n",
       "      <td>Wii Sports Resort</td>\n",
       "      <td>Wii</td>\n",
       "      <td>2009</td>\n",
       "      <td>Sports</td>\n",
       "      <td>15.61</td>\n",
       "      <td>10.93</td>\n",
       "      <td>3.28</td>\n",
       "      <td>2.95</td>\n",
       "      <td>80.0</td>\n",
       "      <td>8</td>\n",
       "      <td>E</td>\n",
       "    </tr>\n",
       "    <tr>\n",
       "      <td>4</td>\n",
       "      <td>Pokemon Red/Pokemon Blue</td>\n",
       "      <td>GB</td>\n",
       "      <td>1996</td>\n",
       "      <td>Role-Playing</td>\n",
       "      <td>11.27</td>\n",
       "      <td>8.89</td>\n",
       "      <td>10.22</td>\n",
       "      <td>1.00</td>\n",
       "      <td>NaN</td>\n",
       "      <td>NaN</td>\n",
       "      <td>NaN</td>\n",
       "    </tr>\n",
       "  </tbody>\n",
       "</table>\n",
       "</div>"
      ],
      "text/plain": [
       "                       name platform  year_of_release         genre  na_sales  \\\n",
       "0                Wii Sports      Wii             2006        Sports     41.36   \n",
       "1         Super Mario Bros.      NES             1985      Platform     29.08   \n",
       "2            Mario Kart Wii      Wii             2008        Racing     15.68   \n",
       "3         Wii Sports Resort      Wii             2009        Sports     15.61   \n",
       "4  Pokemon Red/Pokemon Blue       GB             1996  Role-Playing     11.27   \n",
       "\n",
       "   eu_sales  jp_sales  other_sales  critic_score user_score rating  \n",
       "0     28.96      3.77         8.45          76.0          8      E  \n",
       "1      3.58      6.81         0.77           NaN        NaN    NaN  \n",
       "2     12.76      3.79         3.29          82.0        8.3      E  \n",
       "3     10.93      3.28         2.95          80.0          8      E  \n",
       "4      8.89     10.22         1.00           NaN        NaN    NaN  "
      ]
     },
     "execution_count": 11,
     "metadata": {},
     "output_type": "execute_result"
    }
   ],
   "source": [
    "df.head()"
   ]
  },
  {
   "cell_type": "code",
   "execution_count": 12,
   "metadata": {},
   "outputs": [],
   "source": [
    "df['user_score'] = pd.to_numeric(df['user_score'], errors = 'coerce') #  Преобразуем данные в числа"
   ]
  },
  {
   "cell_type": "code",
   "execution_count": 13,
   "metadata": {},
   "outputs": [
    {
     "name": "stdout",
     "output_type": "stream",
     "text": [
      "<class 'pandas.core.frame.DataFrame'>\n",
      "Int64Index: 16446 entries, 0 to 16714\n",
      "Data columns (total 11 columns):\n",
      "name               16444 non-null object\n",
      "platform           16446 non-null object\n",
      "year_of_release    16446 non-null int64\n",
      "genre              16444 non-null object\n",
      "na_sales           16446 non-null float64\n",
      "eu_sales           16446 non-null float64\n",
      "jp_sales           16446 non-null float64\n",
      "other_sales        16446 non-null float64\n",
      "critic_score       7983 non-null float64\n",
      "user_score         7463 non-null float64\n",
      "rating             9768 non-null object\n",
      "dtypes: float64(6), int64(1), object(4)\n",
      "memory usage: 1.5+ MB\n"
     ]
    }
   ],
   "source": [
    "df.info()"
   ]
  },
  {
   "cell_type": "code",
   "execution_count": 14,
   "metadata": {},
   "outputs": [
    {
     "data": {
      "text/html": [
       "<div>\n",
       "<style scoped>\n",
       "    .dataframe tbody tr th:only-of-type {\n",
       "        vertical-align: middle;\n",
       "    }\n",
       "\n",
       "    .dataframe tbody tr th {\n",
       "        vertical-align: top;\n",
       "    }\n",
       "\n",
       "    .dataframe thead th {\n",
       "        text-align: right;\n",
       "    }\n",
       "</style>\n",
       "<table border=\"1\" class=\"dataframe\">\n",
       "  <thead>\n",
       "    <tr style=\"text-align: right;\">\n",
       "      <th></th>\n",
       "      <th>year_of_release</th>\n",
       "      <th>na_sales</th>\n",
       "      <th>eu_sales</th>\n",
       "      <th>jp_sales</th>\n",
       "      <th>other_sales</th>\n",
       "      <th>critic_score</th>\n",
       "      <th>user_score</th>\n",
       "    </tr>\n",
       "  </thead>\n",
       "  <tbody>\n",
       "    <tr>\n",
       "      <td>count</td>\n",
       "      <td>16446.000000</td>\n",
       "      <td>16446.000000</td>\n",
       "      <td>16446.000000</td>\n",
       "      <td>16446.000000</td>\n",
       "      <td>16446.000000</td>\n",
       "      <td>7983.000000</td>\n",
       "      <td>7463.000000</td>\n",
       "    </tr>\n",
       "    <tr>\n",
       "      <td>mean</td>\n",
       "      <td>2006.484616</td>\n",
       "      <td>0.264089</td>\n",
       "      <td>0.145945</td>\n",
       "      <td>0.078479</td>\n",
       "      <td>0.047593</td>\n",
       "      <td>68.994363</td>\n",
       "      <td>7.126330</td>\n",
       "    </tr>\n",
       "    <tr>\n",
       "      <td>std</td>\n",
       "      <td>5.877050</td>\n",
       "      <td>0.818416</td>\n",
       "      <td>0.506696</td>\n",
       "      <td>0.311082</td>\n",
       "      <td>0.187994</td>\n",
       "      <td>13.920060</td>\n",
       "      <td>1.499447</td>\n",
       "    </tr>\n",
       "    <tr>\n",
       "      <td>min</td>\n",
       "      <td>1980.000000</td>\n",
       "      <td>0.000000</td>\n",
       "      <td>0.000000</td>\n",
       "      <td>0.000000</td>\n",
       "      <td>0.000000</td>\n",
       "      <td>13.000000</td>\n",
       "      <td>0.000000</td>\n",
       "    </tr>\n",
       "    <tr>\n",
       "      <td>25%</td>\n",
       "      <td>2003.000000</td>\n",
       "      <td>0.000000</td>\n",
       "      <td>0.000000</td>\n",
       "      <td>0.000000</td>\n",
       "      <td>0.000000</td>\n",
       "      <td>60.000000</td>\n",
       "      <td>6.400000</td>\n",
       "    </tr>\n",
       "    <tr>\n",
       "      <td>50%</td>\n",
       "      <td>2007.000000</td>\n",
       "      <td>0.080000</td>\n",
       "      <td>0.020000</td>\n",
       "      <td>0.000000</td>\n",
       "      <td>0.010000</td>\n",
       "      <td>71.000000</td>\n",
       "      <td>7.500000</td>\n",
       "    </tr>\n",
       "    <tr>\n",
       "      <td>75%</td>\n",
       "      <td>2010.000000</td>\n",
       "      <td>0.240000</td>\n",
       "      <td>0.110000</td>\n",
       "      <td>0.040000</td>\n",
       "      <td>0.030000</td>\n",
       "      <td>79.000000</td>\n",
       "      <td>8.200000</td>\n",
       "    </tr>\n",
       "    <tr>\n",
       "      <td>max</td>\n",
       "      <td>2016.000000</td>\n",
       "      <td>41.360000</td>\n",
       "      <td>28.960000</td>\n",
       "      <td>10.220000</td>\n",
       "      <td>10.570000</td>\n",
       "      <td>98.000000</td>\n",
       "      <td>9.700000</td>\n",
       "    </tr>\n",
       "  </tbody>\n",
       "</table>\n",
       "</div>"
      ],
      "text/plain": [
       "       year_of_release      na_sales      eu_sales      jp_sales  \\\n",
       "count     16446.000000  16446.000000  16446.000000  16446.000000   \n",
       "mean       2006.484616      0.264089      0.145945      0.078479   \n",
       "std           5.877050      0.818416      0.506696      0.311082   \n",
       "min        1980.000000      0.000000      0.000000      0.000000   \n",
       "25%        2003.000000      0.000000      0.000000      0.000000   \n",
       "50%        2007.000000      0.080000      0.020000      0.000000   \n",
       "75%        2010.000000      0.240000      0.110000      0.040000   \n",
       "max        2016.000000     41.360000     28.960000     10.220000   \n",
       "\n",
       "        other_sales  critic_score   user_score  \n",
       "count  16446.000000   7983.000000  7463.000000  \n",
       "mean       0.047593     68.994363     7.126330  \n",
       "std        0.187994     13.920060     1.499447  \n",
       "min        0.000000     13.000000     0.000000  \n",
       "25%        0.000000     60.000000     6.400000  \n",
       "50%        0.010000     71.000000     7.500000  \n",
       "75%        0.030000     79.000000     8.200000  \n",
       "max       10.570000     98.000000     9.700000  "
      ]
     },
     "execution_count": 14,
     "metadata": {},
     "output_type": "execute_result"
    }
   ],
   "source": [
    "df.describe()"
   ]
  },
  {
   "cell_type": "code",
   "execution_count": 15,
   "metadata": {},
   "outputs": [],
   "source": [
    "df['user_score'] = df['user_score'] * 10  #  Шкала оценок критиков и пользователей отличается, приведем к одной шкале"
   ]
  },
  {
   "cell_type": "code",
   "execution_count": 16,
   "metadata": {},
   "outputs": [
    {
     "data": {
      "text/html": [
       "<div>\n",
       "<style scoped>\n",
       "    .dataframe tbody tr th:only-of-type {\n",
       "        vertical-align: middle;\n",
       "    }\n",
       "\n",
       "    .dataframe tbody tr th {\n",
       "        vertical-align: top;\n",
       "    }\n",
       "\n",
       "    .dataframe thead th {\n",
       "        text-align: right;\n",
       "    }\n",
       "</style>\n",
       "<table border=\"1\" class=\"dataframe\">\n",
       "  <thead>\n",
       "    <tr style=\"text-align: right;\">\n",
       "      <th></th>\n",
       "      <th>year_of_release</th>\n",
       "      <th>na_sales</th>\n",
       "      <th>eu_sales</th>\n",
       "      <th>jp_sales</th>\n",
       "      <th>other_sales</th>\n",
       "      <th>critic_score</th>\n",
       "      <th>user_score</th>\n",
       "    </tr>\n",
       "  </thead>\n",
       "  <tbody>\n",
       "    <tr>\n",
       "      <td>count</td>\n",
       "      <td>16446.000000</td>\n",
       "      <td>16446.000000</td>\n",
       "      <td>16446.000000</td>\n",
       "      <td>16446.000000</td>\n",
       "      <td>16446.000000</td>\n",
       "      <td>7983.000000</td>\n",
       "      <td>7463.000000</td>\n",
       "    </tr>\n",
       "    <tr>\n",
       "      <td>mean</td>\n",
       "      <td>2006.484616</td>\n",
       "      <td>0.264089</td>\n",
       "      <td>0.145945</td>\n",
       "      <td>0.078479</td>\n",
       "      <td>0.047593</td>\n",
       "      <td>68.994363</td>\n",
       "      <td>71.263299</td>\n",
       "    </tr>\n",
       "    <tr>\n",
       "      <td>std</td>\n",
       "      <td>5.877050</td>\n",
       "      <td>0.818416</td>\n",
       "      <td>0.506696</td>\n",
       "      <td>0.311082</td>\n",
       "      <td>0.187994</td>\n",
       "      <td>13.920060</td>\n",
       "      <td>14.994467</td>\n",
       "    </tr>\n",
       "    <tr>\n",
       "      <td>min</td>\n",
       "      <td>1980.000000</td>\n",
       "      <td>0.000000</td>\n",
       "      <td>0.000000</td>\n",
       "      <td>0.000000</td>\n",
       "      <td>0.000000</td>\n",
       "      <td>13.000000</td>\n",
       "      <td>0.000000</td>\n",
       "    </tr>\n",
       "    <tr>\n",
       "      <td>25%</td>\n",
       "      <td>2003.000000</td>\n",
       "      <td>0.000000</td>\n",
       "      <td>0.000000</td>\n",
       "      <td>0.000000</td>\n",
       "      <td>0.000000</td>\n",
       "      <td>60.000000</td>\n",
       "      <td>64.000000</td>\n",
       "    </tr>\n",
       "    <tr>\n",
       "      <td>50%</td>\n",
       "      <td>2007.000000</td>\n",
       "      <td>0.080000</td>\n",
       "      <td>0.020000</td>\n",
       "      <td>0.000000</td>\n",
       "      <td>0.010000</td>\n",
       "      <td>71.000000</td>\n",
       "      <td>75.000000</td>\n",
       "    </tr>\n",
       "    <tr>\n",
       "      <td>75%</td>\n",
       "      <td>2010.000000</td>\n",
       "      <td>0.240000</td>\n",
       "      <td>0.110000</td>\n",
       "      <td>0.040000</td>\n",
       "      <td>0.030000</td>\n",
       "      <td>79.000000</td>\n",
       "      <td>82.000000</td>\n",
       "    </tr>\n",
       "    <tr>\n",
       "      <td>max</td>\n",
       "      <td>2016.000000</td>\n",
       "      <td>41.360000</td>\n",
       "      <td>28.960000</td>\n",
       "      <td>10.220000</td>\n",
       "      <td>10.570000</td>\n",
       "      <td>98.000000</td>\n",
       "      <td>97.000000</td>\n",
       "    </tr>\n",
       "  </tbody>\n",
       "</table>\n",
       "</div>"
      ],
      "text/plain": [
       "       year_of_release      na_sales      eu_sales      jp_sales  \\\n",
       "count     16446.000000  16446.000000  16446.000000  16446.000000   \n",
       "mean       2006.484616      0.264089      0.145945      0.078479   \n",
       "std           5.877050      0.818416      0.506696      0.311082   \n",
       "min        1980.000000      0.000000      0.000000      0.000000   \n",
       "25%        2003.000000      0.000000      0.000000      0.000000   \n",
       "50%        2007.000000      0.080000      0.020000      0.000000   \n",
       "75%        2010.000000      0.240000      0.110000      0.040000   \n",
       "max        2016.000000     41.360000     28.960000     10.220000   \n",
       "\n",
       "        other_sales  critic_score   user_score  \n",
       "count  16446.000000   7983.000000  7463.000000  \n",
       "mean       0.047593     68.994363    71.263299  \n",
       "std        0.187994     13.920060    14.994467  \n",
       "min        0.000000     13.000000     0.000000  \n",
       "25%        0.000000     60.000000    64.000000  \n",
       "50%        0.010000     71.000000    75.000000  \n",
       "75%        0.030000     79.000000    82.000000  \n",
       "max       10.570000     98.000000    97.000000  "
      ]
     },
     "execution_count": 16,
     "metadata": {},
     "output_type": "execute_result"
    }
   ],
   "source": [
    "df.describe()"
   ]
  },
  {
   "cell_type": "code",
   "execution_count": 17,
   "metadata": {},
   "outputs": [
    {
     "data": {
      "text/plain": [
       "E       3921\n",
       "T       2905\n",
       "M       1536\n",
       "E10+    1393\n",
       "EC         8\n",
       "K-A        3\n",
       "AO         1\n",
       "RP         1\n",
       "Name: rating, dtype: int64"
      ]
     },
     "execution_count": 17,
     "metadata": {},
     "output_type": "execute_result"
    }
   ],
   "source": [
    "df.rating.value_counts() #  Аббревиатура tbd не встречается"
   ]
  },
  {
   "cell_type": "code",
   "execution_count": 18,
   "metadata": {},
   "outputs": [],
   "source": [
    "df['total_sales'] = df[['na_sales', 'eu_sales', 'jp_sales', 'other_sales']].sum(axis=1)"
   ]
  },
  {
   "cell_type": "code",
   "execution_count": 19,
   "metadata": {},
   "outputs": [
    {
     "data": {
      "text/html": [
       "<div>\n",
       "<style scoped>\n",
       "    .dataframe tbody tr th:only-of-type {\n",
       "        vertical-align: middle;\n",
       "    }\n",
       "\n",
       "    .dataframe tbody tr th {\n",
       "        vertical-align: top;\n",
       "    }\n",
       "\n",
       "    .dataframe thead th {\n",
       "        text-align: right;\n",
       "    }\n",
       "</style>\n",
       "<table border=\"1\" class=\"dataframe\">\n",
       "  <thead>\n",
       "    <tr style=\"text-align: right;\">\n",
       "      <th></th>\n",
       "      <th>name</th>\n",
       "      <th>platform</th>\n",
       "      <th>year_of_release</th>\n",
       "      <th>genre</th>\n",
       "      <th>na_sales</th>\n",
       "      <th>eu_sales</th>\n",
       "      <th>jp_sales</th>\n",
       "      <th>other_sales</th>\n",
       "      <th>critic_score</th>\n",
       "      <th>user_score</th>\n",
       "      <th>rating</th>\n",
       "      <th>total_sales</th>\n",
       "    </tr>\n",
       "  </thead>\n",
       "  <tbody>\n",
       "    <tr>\n",
       "      <td>0</td>\n",
       "      <td>Wii Sports</td>\n",
       "      <td>Wii</td>\n",
       "      <td>2006</td>\n",
       "      <td>Sports</td>\n",
       "      <td>41.36</td>\n",
       "      <td>28.96</td>\n",
       "      <td>3.77</td>\n",
       "      <td>8.45</td>\n",
       "      <td>76.0</td>\n",
       "      <td>80.0</td>\n",
       "      <td>E</td>\n",
       "      <td>82.54</td>\n",
       "    </tr>\n",
       "    <tr>\n",
       "      <td>1</td>\n",
       "      <td>Super Mario Bros.</td>\n",
       "      <td>NES</td>\n",
       "      <td>1985</td>\n",
       "      <td>Platform</td>\n",
       "      <td>29.08</td>\n",
       "      <td>3.58</td>\n",
       "      <td>6.81</td>\n",
       "      <td>0.77</td>\n",
       "      <td>NaN</td>\n",
       "      <td>NaN</td>\n",
       "      <td>NaN</td>\n",
       "      <td>40.24</td>\n",
       "    </tr>\n",
       "    <tr>\n",
       "      <td>2</td>\n",
       "      <td>Mario Kart Wii</td>\n",
       "      <td>Wii</td>\n",
       "      <td>2008</td>\n",
       "      <td>Racing</td>\n",
       "      <td>15.68</td>\n",
       "      <td>12.76</td>\n",
       "      <td>3.79</td>\n",
       "      <td>3.29</td>\n",
       "      <td>82.0</td>\n",
       "      <td>83.0</td>\n",
       "      <td>E</td>\n",
       "      <td>35.52</td>\n",
       "    </tr>\n",
       "    <tr>\n",
       "      <td>3</td>\n",
       "      <td>Wii Sports Resort</td>\n",
       "      <td>Wii</td>\n",
       "      <td>2009</td>\n",
       "      <td>Sports</td>\n",
       "      <td>15.61</td>\n",
       "      <td>10.93</td>\n",
       "      <td>3.28</td>\n",
       "      <td>2.95</td>\n",
       "      <td>80.0</td>\n",
       "      <td>80.0</td>\n",
       "      <td>E</td>\n",
       "      <td>32.77</td>\n",
       "    </tr>\n",
       "    <tr>\n",
       "      <td>4</td>\n",
       "      <td>Pokemon Red/Pokemon Blue</td>\n",
       "      <td>GB</td>\n",
       "      <td>1996</td>\n",
       "      <td>Role-Playing</td>\n",
       "      <td>11.27</td>\n",
       "      <td>8.89</td>\n",
       "      <td>10.22</td>\n",
       "      <td>1.00</td>\n",
       "      <td>NaN</td>\n",
       "      <td>NaN</td>\n",
       "      <td>NaN</td>\n",
       "      <td>31.38</td>\n",
       "    </tr>\n",
       "  </tbody>\n",
       "</table>\n",
       "</div>"
      ],
      "text/plain": [
       "                       name platform  year_of_release         genre  na_sales  \\\n",
       "0                Wii Sports      Wii             2006        Sports     41.36   \n",
       "1         Super Mario Bros.      NES             1985      Platform     29.08   \n",
       "2            Mario Kart Wii      Wii             2008        Racing     15.68   \n",
       "3         Wii Sports Resort      Wii             2009        Sports     15.61   \n",
       "4  Pokemon Red/Pokemon Blue       GB             1996  Role-Playing     11.27   \n",
       "\n",
       "   eu_sales  jp_sales  other_sales  critic_score  user_score rating  \\\n",
       "0     28.96      3.77         8.45          76.0        80.0      E   \n",
       "1      3.58      6.81         0.77           NaN         NaN    NaN   \n",
       "2     12.76      3.79         3.29          82.0        83.0      E   \n",
       "3     10.93      3.28         2.95          80.0        80.0      E   \n",
       "4      8.89     10.22         1.00           NaN         NaN    NaN   \n",
       "\n",
       "   total_sales  \n",
       "0        82.54  \n",
       "1        40.24  \n",
       "2        35.52  \n",
       "3        32.77  \n",
       "4        31.38  "
      ]
     },
     "execution_count": 19,
     "metadata": {},
     "output_type": "execute_result"
    }
   ],
   "source": [
    "df.head()"
   ]
  },
  {
   "cell_type": "code",
   "execution_count": 20,
   "metadata": {},
   "outputs": [
    {
     "data": {
      "text/html": [
       "<div>\n",
       "<style scoped>\n",
       "    .dataframe tbody tr th:only-of-type {\n",
       "        vertical-align: middle;\n",
       "    }\n",
       "\n",
       "    .dataframe tbody tr th {\n",
       "        vertical-align: top;\n",
       "    }\n",
       "\n",
       "    .dataframe thead th {\n",
       "        text-align: right;\n",
       "    }\n",
       "</style>\n",
       "<table border=\"1\" class=\"dataframe\">\n",
       "  <thead>\n",
       "    <tr style=\"text-align: right;\">\n",
       "      <th></th>\n",
       "      <th>name</th>\n",
       "      <th>platform</th>\n",
       "      <th>year_of_release</th>\n",
       "      <th>genre</th>\n",
       "      <th>na_sales</th>\n",
       "      <th>eu_sales</th>\n",
       "      <th>jp_sales</th>\n",
       "      <th>other_sales</th>\n",
       "      <th>critic_score</th>\n",
       "      <th>user_score</th>\n",
       "      <th>rating</th>\n",
       "      <th>total_sales</th>\n",
       "    </tr>\n",
       "  </thead>\n",
       "  <tbody>\n",
       "    <tr>\n",
       "      <td>16676</td>\n",
       "      <td>G1 Jockey 4 2008</td>\n",
       "      <td>PS3</td>\n",
       "      <td>2008</td>\n",
       "      <td>Sports</td>\n",
       "      <td>0.00</td>\n",
       "      <td>0.0</td>\n",
       "      <td>0.00</td>\n",
       "      <td>0.0</td>\n",
       "      <td>NaN</td>\n",
       "      <td>NaN</td>\n",
       "      <td>NaN</td>\n",
       "      <td>0.00</td>\n",
       "    </tr>\n",
       "    <tr>\n",
       "      <td>16709</td>\n",
       "      <td>SCORE International Baja 1000: The Official Game</td>\n",
       "      <td>PS2</td>\n",
       "      <td>2008</td>\n",
       "      <td>Racing</td>\n",
       "      <td>0.00</td>\n",
       "      <td>0.0</td>\n",
       "      <td>0.00</td>\n",
       "      <td>0.0</td>\n",
       "      <td>NaN</td>\n",
       "      <td>NaN</td>\n",
       "      <td>NaN</td>\n",
       "      <td>0.00</td>\n",
       "    </tr>\n",
       "    <tr>\n",
       "      <td>16184</td>\n",
       "      <td>Higurashi no Naku Koro ni Iki</td>\n",
       "      <td>PS3</td>\n",
       "      <td>2015</td>\n",
       "      <td>Action</td>\n",
       "      <td>0.00</td>\n",
       "      <td>0.0</td>\n",
       "      <td>0.01</td>\n",
       "      <td>0.0</td>\n",
       "      <td>NaN</td>\n",
       "      <td>NaN</td>\n",
       "      <td>NaN</td>\n",
       "      <td>0.01</td>\n",
       "    </tr>\n",
       "    <tr>\n",
       "      <td>16183</td>\n",
       "      <td>Uta no * Prince-Sama: Sweet Serenade</td>\n",
       "      <td>PSP</td>\n",
       "      <td>2011</td>\n",
       "      <td>Adventure</td>\n",
       "      <td>0.00</td>\n",
       "      <td>0.0</td>\n",
       "      <td>0.01</td>\n",
       "      <td>0.0</td>\n",
       "      <td>NaN</td>\n",
       "      <td>NaN</td>\n",
       "      <td>NaN</td>\n",
       "      <td>0.01</td>\n",
       "    </tr>\n",
       "    <tr>\n",
       "      <td>16182</td>\n",
       "      <td>Rocksmith 2014 Edition Remastered</td>\n",
       "      <td>XOne</td>\n",
       "      <td>2016</td>\n",
       "      <td>Misc</td>\n",
       "      <td>0.01</td>\n",
       "      <td>0.0</td>\n",
       "      <td>0.00</td>\n",
       "      <td>0.0</td>\n",
       "      <td>NaN</td>\n",
       "      <td>NaN</td>\n",
       "      <td>T</td>\n",
       "      <td>0.01</td>\n",
       "    </tr>\n",
       "  </tbody>\n",
       "</table>\n",
       "</div>"
      ],
      "text/plain": [
       "                                                   name platform  \\\n",
       "16676                                  G1 Jockey 4 2008      PS3   \n",
       "16709  SCORE International Baja 1000: The Official Game      PS2   \n",
       "16184                     Higurashi no Naku Koro ni Iki      PS3   \n",
       "16183              Uta no * Prince-Sama: Sweet Serenade      PSP   \n",
       "16182                 Rocksmith 2014 Edition Remastered     XOne   \n",
       "\n",
       "       year_of_release      genre  na_sales  eu_sales  jp_sales  other_sales  \\\n",
       "16676             2008     Sports      0.00       0.0      0.00          0.0   \n",
       "16709             2008     Racing      0.00       0.0      0.00          0.0   \n",
       "16184             2015     Action      0.00       0.0      0.01          0.0   \n",
       "16183             2011  Adventure      0.00       0.0      0.01          0.0   \n",
       "16182             2016       Misc      0.01       0.0      0.00          0.0   \n",
       "\n",
       "       critic_score  user_score rating  total_sales  \n",
       "16676           NaN         NaN    NaN         0.00  \n",
       "16709           NaN         NaN    NaN         0.00  \n",
       "16184           NaN         NaN    NaN         0.01  \n",
       "16183           NaN         NaN    NaN         0.01  \n",
       "16182           NaN         NaN      T         0.01  "
      ]
     },
     "execution_count": 20,
     "metadata": {},
     "output_type": "execute_result"
    }
   ],
   "source": [
    "df.sort_values(by = 'total_sales').head()"
   ]
  },
  {
   "cell_type": "markdown",
   "metadata": {},
   "source": [
    "### Вывод"
   ]
  },
  {
   "cell_type": "markdown",
   "metadata": {},
   "source": [
    "В датасете представлена информация по продажам игр, начиная с 1980 года. Всего содержится 16715 записей. Имеются незаполненные поля. В частности есть пропуски в поле year_of_release, которые можно признать случайными. Учитывая их незначительное количество, они были удалены."
   ]
  },
  {
   "cell_type": "markdown",
   "metadata": {},
   "source": [
    "## Исследовательский анализ"
   ]
  },
  {
   "cell_type": "markdown",
   "metadata": {},
   "source": [
    "### Исследование периодизации"
   ]
  },
  {
   "cell_type": "code",
   "execution_count": 21,
   "metadata": {},
   "outputs": [
    {
     "data": {
      "text/html": [
       "<div>\n",
       "<style scoped>\n",
       "    .dataframe tbody tr th:only-of-type {\n",
       "        vertical-align: middle;\n",
       "    }\n",
       "\n",
       "    .dataframe tbody tr th {\n",
       "        vertical-align: top;\n",
       "    }\n",
       "\n",
       "    .dataframe thead th {\n",
       "        text-align: right;\n",
       "    }\n",
       "</style>\n",
       "<table border=\"1\" class=\"dataframe\">\n",
       "  <thead>\n",
       "    <tr style=\"text-align: right;\">\n",
       "      <th></th>\n",
       "      <th>year_of_release</th>\n",
       "      <th>count</th>\n",
       "      <th>total_sales</th>\n",
       "    </tr>\n",
       "  </thead>\n",
       "  <tbody>\n",
       "    <tr>\n",
       "      <td>count</td>\n",
       "      <td>37.000000</td>\n",
       "      <td>37.000000</td>\n",
       "      <td>37.000000</td>\n",
       "    </tr>\n",
       "    <tr>\n",
       "      <td>mean</td>\n",
       "      <td>1998.000000</td>\n",
       "      <td>444.486486</td>\n",
       "      <td>238.291622</td>\n",
       "    </tr>\n",
       "    <tr>\n",
       "      <td>std</td>\n",
       "      <td>10.824355</td>\n",
       "      <td>451.557159</td>\n",
       "      <td>207.535172</td>\n",
       "    </tr>\n",
       "    <tr>\n",
       "      <td>min</td>\n",
       "      <td>1980.000000</td>\n",
       "      <td>9.000000</td>\n",
       "      <td>11.380000</td>\n",
       "    </tr>\n",
       "    <tr>\n",
       "      <td>25%</td>\n",
       "      <td>1989.000000</td>\n",
       "      <td>36.000000</td>\n",
       "      <td>49.370000</td>\n",
       "    </tr>\n",
       "    <tr>\n",
       "      <td>50%</td>\n",
       "      <td>1998.000000</td>\n",
       "      <td>338.000000</td>\n",
       "      <td>201.070000</td>\n",
       "    </tr>\n",
       "    <tr>\n",
       "      <td>75%</td>\n",
       "      <td>2007.000000</td>\n",
       "      <td>762.000000</td>\n",
       "      <td>361.240000</td>\n",
       "    </tr>\n",
       "    <tr>\n",
       "      <td>max</td>\n",
       "      <td>2016.000000</td>\n",
       "      <td>1427.000000</td>\n",
       "      <td>671.500000</td>\n",
       "    </tr>\n",
       "  </tbody>\n",
       "</table>\n",
       "</div>"
      ],
      "text/plain": [
       "       year_of_release        count  total_sales\n",
       "count        37.000000    37.000000    37.000000\n",
       "mean       1998.000000   444.486486   238.291622\n",
       "std          10.824355   451.557159   207.535172\n",
       "min        1980.000000     9.000000    11.380000\n",
       "25%        1989.000000    36.000000    49.370000\n",
       "50%        1998.000000   338.000000   201.070000\n",
       "75%        2007.000000   762.000000   361.240000\n",
       "max        2016.000000  1427.000000   671.500000"
      ]
     },
     "execution_count": 21,
     "metadata": {},
     "output_type": "execute_result"
    }
   ],
   "source": [
    "df_year_log = df.groupby(['year_of_release']).agg({'total_sales':('count', 'sum')}).reset_index() #  Группируем данные\n",
    "df_year_log.columns = ('year_of_release', 'count', 'total_sales')\n",
    "df_year_log.describe()"
   ]
  },
  {
   "cell_type": "markdown",
   "metadata": {},
   "source": [
    "Определим наиболее популярные платформы за весь период"
   ]
  },
  {
   "cell_type": "code",
   "execution_count": 22,
   "metadata": {},
   "outputs": [
    {
     "data": {
      "text/html": [
       "<div>\n",
       "<style scoped>\n",
       "    .dataframe tbody tr th:only-of-type {\n",
       "        vertical-align: middle;\n",
       "    }\n",
       "\n",
       "    .dataframe tbody tr th {\n",
       "        vertical-align: top;\n",
       "    }\n",
       "\n",
       "    .dataframe thead th {\n",
       "        text-align: right;\n",
       "    }\n",
       "</style>\n",
       "<table border=\"1\" class=\"dataframe\">\n",
       "  <thead>\n",
       "    <tr style=\"text-align: right;\">\n",
       "      <th></th>\n",
       "      <th>index</th>\n",
       "      <th>platform</th>\n",
       "      <th>total_sales</th>\n",
       "    </tr>\n",
       "  </thead>\n",
       "  <tbody>\n",
       "    <tr>\n",
       "      <td>0</td>\n",
       "      <td>16</td>\n",
       "      <td>PS2</td>\n",
       "      <td>1233.56</td>\n",
       "    </tr>\n",
       "    <tr>\n",
       "      <td>1</td>\n",
       "      <td>28</td>\n",
       "      <td>X360</td>\n",
       "      <td>961.24</td>\n",
       "    </tr>\n",
       "    <tr>\n",
       "      <td>2</td>\n",
       "      <td>17</td>\n",
       "      <td>PS3</td>\n",
       "      <td>931.34</td>\n",
       "    </tr>\n",
       "    <tr>\n",
       "      <td>3</td>\n",
       "      <td>26</td>\n",
       "      <td>Wii</td>\n",
       "      <td>891.18</td>\n",
       "    </tr>\n",
       "    <tr>\n",
       "      <td>4</td>\n",
       "      <td>4</td>\n",
       "      <td>DS</td>\n",
       "      <td>802.78</td>\n",
       "    </tr>\n",
       "    <tr>\n",
       "      <td>5</td>\n",
       "      <td>15</td>\n",
       "      <td>PS</td>\n",
       "      <td>727.58</td>\n",
       "    </tr>\n",
       "    <tr>\n",
       "      <td>6</td>\n",
       "      <td>18</td>\n",
       "      <td>PS4</td>\n",
       "      <td>314.14</td>\n",
       "    </tr>\n",
       "    <tr>\n",
       "      <td>7</td>\n",
       "      <td>6</td>\n",
       "      <td>GBA</td>\n",
       "      <td>312.88</td>\n",
       "    </tr>\n",
       "    <tr>\n",
       "      <td>8</td>\n",
       "      <td>19</td>\n",
       "      <td>PSP</td>\n",
       "      <td>289.53</td>\n",
       "    </tr>\n",
       "    <tr>\n",
       "      <td>9</td>\n",
       "      <td>2</td>\n",
       "      <td>3DS</td>\n",
       "      <td>257.81</td>\n",
       "    </tr>\n",
       "  </tbody>\n",
       "</table>\n",
       "</div>"
      ],
      "text/plain": [
       "   index platform  total_sales\n",
       "0     16      PS2      1233.56\n",
       "1     28     X360       961.24\n",
       "2     17      PS3       931.34\n",
       "3     26      Wii       891.18\n",
       "4      4       DS       802.78\n",
       "5     15       PS       727.58\n",
       "6     18      PS4       314.14\n",
       "7      6      GBA       312.88\n",
       "8     19      PSP       289.53\n",
       "9      2      3DS       257.81"
      ]
     },
     "execution_count": 22,
     "metadata": {},
     "output_type": "execute_result"
    }
   ],
   "source": [
    "df_platform_log = df.groupby(['platform']).agg({'total_sales':'sum'}).reset_index()\n",
    "df_platform_log.columns = ['platform', 'total_sales']\n",
    "df_platform_log.sort_values(by = 'total_sales', ascending = False).reset_index().head(10)"
   ]
  },
  {
   "cell_type": "markdown",
   "metadata": {},
   "source": [
    "в ТОР-5 входят: PS2, X360, PS3, Wii, DS, PS"
   ]
  },
  {
   "cell_type": "code",
   "execution_count": 23,
   "metadata": {},
   "outputs": [],
   "source": [
    "df_platform_log2 = df.query('platform == (\"PS2\", \"X360\", \"PS3\", \"Wii\", \"DS\", \"PS\")').groupby(['year_of_release', 'platform']).agg({'total_sales':'sum'}).reset_index()\n",
    "df_platform_log2.columns = ['year_of_release', 'platform', 'total_sales']\n"
   ]
  },
  {
   "cell_type": "code",
   "execution_count": 24,
   "metadata": {},
   "outputs": [
    {
     "data": {
      "image/png": "[encoded data removed]",
      "text/plain": [
       "<Figure size 432x288 with 1 Axes>"
      ]
     },
     "metadata": {
      "needs_background": "light"
     },
     "output_type": "display_data"
    }
   ],
   "source": [
    "df_platform_log2.query('platform == \"PS2\"').plot(x = 'year_of_release', y = 'total_sales')\n",
    "plt.title('Продажи игр: PS2')\n",
    "plt.xlabel('Период, год')\n",
    "plt.ylabel('Количество копий, млн ед.')\n",
    "plt.grid(True)\n",
    "plt.legend(loc = 4)\n",
    "plt.show()"
   ]
  },
  {
   "cell_type": "code",
   "execution_count": 25,
   "metadata": {},
   "outputs": [
    {
     "data": {
      "image/png": "[encoded data removed]",
      "text/plain": [
       "<Figure size 432x288 with 1 Axes>"
      ]
     },
     "metadata": {
      "needs_background": "light"
     },
     "output_type": "display_data"
    }
   ],
   "source": [
    "df_platform_log2.query('platform == \"X360\"').plot(x = 'year_of_release', y = 'total_sales')\n",
    "plt.title('Продажи игр: X360')\n",
    "plt.xlabel('Период, год')\n",
    "plt.ylabel('Количество копий, млн ед.')\n",
    "plt.grid(True)\n",
    "plt.legend(loc = 4)\n",
    "plt.show()"
   ]
  },
  {
   "cell_type": "code",
   "execution_count": 26,
   "metadata": {},
   "outputs": [
    {
     "data": {
      "image/png": "[encoded data removed]",
      "text/plain": [
       "<Figure size 432x288 with 1 Axes>"
      ]
     },
     "metadata": {
      "needs_background": "light"
     },
     "output_type": "display_data"
    }
   ],
   "source": [
    "df_platform_log2.query('platform == \"PS3\"').plot(x = 'year_of_release', y = 'total_sales')\n",
    "plt.title('Продажи игр: X360')\n",
    "plt.xlabel('Период, год')\n",
    "plt.ylabel('Количество копий, млн ед.')\n",
    "plt.grid(True)\n",
    "plt.legend(loc = 4)\n",
    "plt.show()"
   ]
  },
  {
   "cell_type": "code",
   "execution_count": 27,
   "metadata": {},
   "outputs": [
    {
     "data": {
      "image/png": "[encoded data removed]",
      "text/plain": [
       "<Figure size 432x288 with 1 Axes>"
      ]
     },
     "metadata": {
      "needs_background": "light"
     },
     "output_type": "display_data"
    }
   ],
   "source": [
    "df_platform_log2.query('platform == \"Wii\"').plot(x = 'year_of_release', y = 'total_sales')\n",
    "plt.title('Продажи игр: Wii')\n",
    "plt.xlabel('Период, год')\n",
    "plt.ylabel('Количество копий, млн ед.')\n",
    "plt.grid(True)\n",
    "plt.legend(loc = 4)\n",
    "plt.show()"
   ]
  },
  {
   "cell_type": "code",
   "execution_count": 28,
   "metadata": {},
   "outputs": [
    {
     "data": {
      "image/png": "[encoded data removed]",
      "text/plain": [
       "<Figure size 432x288 with 1 Axes>"
      ]
     },
     "metadata": {
      "needs_background": "light"
     },
     "output_type": "display_data"
    }
   ],
   "source": [
    "df_platform_log2.query('platform == \"DS\"').plot(x = 'year_of_release', y = 'total_sales')\n",
    "plt.title('Продажи игр: DS')\n",
    "plt.xlabel('Период, год')\n",
    "plt.ylabel('Количество копий, млн ед.')\n",
    "plt.grid(True)\n",
    "plt.legend(loc = 4)\n",
    "plt.show()"
   ]
  },
  {
   "cell_type": "code",
   "execution_count": 29,
   "metadata": {},
   "outputs": [
    {
     "data": {
      "image/png": "[encoded data removed]",
      "text/plain": [
       "<Figure size 432x288 with 1 Axes>"
      ]
     },
     "metadata": {
      "needs_background": "light"
     },
     "output_type": "display_data"
    }
   ],
   "source": [
    "df_platform_log2.query('platform == \"PS\"').plot(x = 'year_of_release', y = 'total_sales')\n",
    "plt.title('Продажи игр: PS')\n",
    "plt.xlabel('Период, год')\n",
    "plt.ylabel('Количество копий, млн ед.')\n",
    "plt.grid(True)\n",
    "plt.legend(loc = 4)\n",
    "plt.show()"
   ]
  },
  {
   "cell_type": "markdown",
   "metadata": {},
   "source": [
    "Виды графиков показывают, что в среднем \"время жизни\" платформы составляет 5 лет"
   ]
  },
  {
   "cell_type": "code",
   "execution_count": 30,
   "metadata": {},
   "outputs": [],
   "source": [
    "df_forecast = df.query('year_of_release > 2011') #  Подготавливаем пятилетний срез актуальных данных"
   ]
  },
  {
   "cell_type": "code",
   "execution_count": 31,
   "metadata": {
    "scrolled": false
   },
   "outputs": [
    {
     "data": {
      "text/html": [
       "<div>\n",
       "<style scoped>\n",
       "    .dataframe tbody tr th:only-of-type {\n",
       "        vertical-align: middle;\n",
       "    }\n",
       "\n",
       "    .dataframe tbody tr th {\n",
       "        vertical-align: top;\n",
       "    }\n",
       "\n",
       "    .dataframe thead th {\n",
       "        text-align: right;\n",
       "    }\n",
       "</style>\n",
       "<table border=\"1\" class=\"dataframe\">\n",
       "  <thead>\n",
       "    <tr style=\"text-align: right;\">\n",
       "      <th></th>\n",
       "      <th>platform</th>\n",
       "      <th>year_of_release</th>\n",
       "      <th>total_sales</th>\n",
       "    </tr>\n",
       "  </thead>\n",
       "  <tbody>\n",
       "    <tr>\n",
       "      <td>19</td>\n",
       "      <td>PS4</td>\n",
       "      <td>2015</td>\n",
       "      <td>118.90</td>\n",
       "    </tr>\n",
       "    <tr>\n",
       "      <td>13</td>\n",
       "      <td>PS3</td>\n",
       "      <td>2013</td>\n",
       "      <td>113.25</td>\n",
       "    </tr>\n",
       "    <tr>\n",
       "      <td>12</td>\n",
       "      <td>PS3</td>\n",
       "      <td>2012</td>\n",
       "      <td>107.36</td>\n",
       "    </tr>\n",
       "    <tr>\n",
       "      <td>18</td>\n",
       "      <td>PS4</td>\n",
       "      <td>2014</td>\n",
       "      <td>100.00</td>\n",
       "    </tr>\n",
       "    <tr>\n",
       "      <td>40</td>\n",
       "      <td>X360</td>\n",
       "      <td>2012</td>\n",
       "      <td>99.74</td>\n",
       "    </tr>\n",
       "    <tr>\n",
       "      <td>41</td>\n",
       "      <td>X360</td>\n",
       "      <td>2013</td>\n",
       "      <td>88.58</td>\n",
       "    </tr>\n",
       "    <tr>\n",
       "      <td>20</td>\n",
       "      <td>PS4</td>\n",
       "      <td>2016</td>\n",
       "      <td>69.25</td>\n",
       "    </tr>\n",
       "    <tr>\n",
       "      <td>47</td>\n",
       "      <td>XOne</td>\n",
       "      <td>2015</td>\n",
       "      <td>60.14</td>\n",
       "    </tr>\n",
       "    <tr>\n",
       "      <td>1</td>\n",
       "      <td>3DS</td>\n",
       "      <td>2013</td>\n",
       "      <td>56.57</td>\n",
       "    </tr>\n",
       "    <tr>\n",
       "      <td>46</td>\n",
       "      <td>XOne</td>\n",
       "      <td>2014</td>\n",
       "      <td>54.07</td>\n",
       "    </tr>\n",
       "    <tr>\n",
       "      <td>0</td>\n",
       "      <td>3DS</td>\n",
       "      <td>2012</td>\n",
       "      <td>51.36</td>\n",
       "    </tr>\n",
       "    <tr>\n",
       "      <td>14</td>\n",
       "      <td>PS3</td>\n",
       "      <td>2014</td>\n",
       "      <td>47.76</td>\n",
       "    </tr>\n",
       "    <tr>\n",
       "      <td>2</td>\n",
       "      <td>3DS</td>\n",
       "      <td>2014</td>\n",
       "      <td>43.76</td>\n",
       "    </tr>\n",
       "    <tr>\n",
       "      <td>42</td>\n",
       "      <td>X360</td>\n",
       "      <td>2014</td>\n",
       "      <td>34.74</td>\n",
       "    </tr>\n",
       "    <tr>\n",
       "      <td>3</td>\n",
       "      <td>3DS</td>\n",
       "      <td>2015</td>\n",
       "      <td>27.78</td>\n",
       "    </tr>\n",
       "    <tr>\n",
       "      <td>48</td>\n",
       "      <td>XOne</td>\n",
       "      <td>2016</td>\n",
       "      <td>26.15</td>\n",
       "    </tr>\n",
       "    <tr>\n",
       "      <td>17</td>\n",
       "      <td>PS4</td>\n",
       "      <td>2013</td>\n",
       "      <td>25.99</td>\n",
       "    </tr>\n",
       "    <tr>\n",
       "      <td>7</td>\n",
       "      <td>PC</td>\n",
       "      <td>2012</td>\n",
       "      <td>23.22</td>\n",
       "    </tr>\n",
       "    <tr>\n",
       "      <td>37</td>\n",
       "      <td>WiiU</td>\n",
       "      <td>2014</td>\n",
       "      <td>22.03</td>\n",
       "    </tr>\n",
       "    <tr>\n",
       "      <td>30</td>\n",
       "      <td>Wii</td>\n",
       "      <td>2012</td>\n",
       "      <td>21.71</td>\n",
       "    </tr>\n",
       "  </tbody>\n",
       "</table>\n",
       "</div>"
      ],
      "text/plain": [
       "   platform  year_of_release  total_sales\n",
       "19      PS4             2015       118.90\n",
       "13      PS3             2013       113.25\n",
       "12      PS3             2012       107.36\n",
       "18      PS4             2014       100.00\n",
       "40     X360             2012        99.74\n",
       "41     X360             2013        88.58\n",
       "20      PS4             2016        69.25\n",
       "47     XOne             2015        60.14\n",
       "1       3DS             2013        56.57\n",
       "46     XOne             2014        54.07\n",
       "0       3DS             2012        51.36\n",
       "14      PS3             2014        47.76\n",
       "2       3DS             2014        43.76\n",
       "42     X360             2014        34.74\n",
       "3       3DS             2015        27.78\n",
       "48     XOne             2016        26.15\n",
       "17      PS4             2013        25.99\n",
       "7        PC             2012        23.22\n",
       "37     WiiU             2014        22.03\n",
       "30      Wii             2012        21.71"
      ]
     },
     "execution_count": 31,
     "metadata": {},
     "output_type": "execute_result"
    }
   ],
   "source": [
    "df_forecast_platform = df_forecast.groupby(['platform', 'year_of_release']).agg({'total_sales':'sum'}).reset_index()\n",
    "df_forecast_platform.columns = ['platform', 'year_of_release', 'total_sales']\n",
    "df_forecast_platform.sort_values(by = 'total_sales', ascending = False).head(20)\n"
   ]
  },
  {
   "cell_type": "markdown",
   "metadata": {},
   "source": [
    "Рассмотрим для анализа платформы - PS3, WiiU, PS4, PSP"
   ]
  },
  {
   "cell_type": "code",
   "execution_count": 32,
   "metadata": {},
   "outputs": [
    {
     "data": {
      "image/png": "[encoded data removed]",
      "text/plain": [
       "<Figure size 432x288 with 1 Axes>"
      ]
     },
     "metadata": {
      "needs_background": "light"
     },
     "output_type": "display_data"
    }
   ],
   "source": [
    "df_forecast_platform.query('platform == \"PS3\"').plot(x = 'year_of_release', y = 'total_sales')\n",
    "plt.title('Продажи игр: PS3')\n",
    "plt.xlabel('Период, год')\n",
    "plt.ylabel('Количество копий, млн ед.')\n",
    "plt.grid(True)\n",
    "plt.legend(loc = 4)\n",
    "plt.show()"
   ]
  },
  {
   "cell_type": "code",
   "execution_count": 33,
   "metadata": {},
   "outputs": [
    {
     "data": {
      "image/png": "[encoded data removed]",
      "text/plain": [
       "<Figure size 432x288 with 1 Axes>"
      ]
     },
     "metadata": {
      "needs_background": "light"
     },
     "output_type": "display_data"
    }
   ],
   "source": [
    "df_forecast_platform.query('platform == \"WiiU\"').plot(x = 'year_of_release', y = 'total_sales')\n",
    "plt.title('Продажи игр: WiiU')\n",
    "plt.xlabel('Период, год')\n",
    "plt.ylabel('Количество копий, млн ед.')\n",
    "plt.grid(True)\n",
    "plt.legend(loc = 4)\n",
    "plt.show()"
   ]
  },
  {
   "cell_type": "code",
   "execution_count": 34,
   "metadata": {},
   "outputs": [
    {
     "data": {
      "image/png": "[encoded data removed]",
      "text/plain": [
       "<Figure size 432x288 with 1 Axes>"
      ]
     },
     "metadata": {
      "needs_background": "light"
     },
     "output_type": "display_data"
    }
   ],
   "source": [
    "df_forecast_platform.query('platform == \"PS4\"').plot(x = 'year_of_release', y = 'total_sales')\n",
    "plt.title('Продажи игр: PS4')\n",
    "plt.xlabel('Период, год')\n",
    "plt.ylabel('Количество копий, млн ед.')\n",
    "plt.grid(True)\n",
    "plt.legend(loc = 4)\n",
    "plt.show()"
   ]
  },
  {
   "cell_type": "code",
   "execution_count": 35,
   "metadata": {},
   "outputs": [
    {
     "data": {
      "image/png": "[encoded data removed]",
      "text/plain": [
       "<Figure size 432x288 with 1 Axes>"
      ]
     },
     "metadata": {
      "needs_background": "light"
     },
     "output_type": "display_data"
    }
   ],
   "source": [
    "df_forecast_platform.query('platform == \"PSP\"').plot(x = 'year_of_release', y = 'total_sales')\n",
    "plt.title('Продажи игр: PSP')\n",
    "plt.xlabel('Период, год')\n",
    "plt.ylabel('Количество копий, млн ед.')\n",
    "plt.grid(True)\n",
    "plt.legend(loc = 4)\n",
    "plt.show()"
   ]
  },
  {
   "cell_type": "markdown",
   "metadata": {},
   "source": [
    "В рассматриваемом периоде продажи идут на спад, вместе с тем по PS4 ожидается 1-2 года заметного спроса"
   ]
  },
  {
   "cell_type": "markdown",
   "metadata": {},
   "source": [
    "### Исследование глобальных продаж"
   ]
  },
  {
   "cell_type": "code",
   "execution_count": 36,
   "metadata": {
    "scrolled": true
   },
   "outputs": [
    {
     "data": {
      "image/png": "[encoded data removed]",
      "text/plain": [
       "<Figure size 432x288 with 1 Axes>"
      ]
     },
     "metadata": {
      "needs_background": "light"
     },
     "output_type": "display_data"
    }
   ],
   "source": [
    "df.groupby(['platform']).agg({'total_sales':'sum'}).reset_index().boxplot()\n",
    "plt.show()"
   ]
  },
  {
   "cell_type": "markdown",
   "metadata": {},
   "source": [
    "В целом продажи по платформам составляют 200 млн копий, при этом в прошлом имели место отдельные вспышки интереса, когда продажи достигали более 800 млн копий  "
   ]
  },
  {
   "cell_type": "markdown",
   "metadata": {},
   "source": [
    "### Влияние отзывов критиков и пользователей"
   ]
  },
  {
   "cell_type": "code",
   "execution_count": 37,
   "metadata": {},
   "outputs": [],
   "source": [
    "df_critic_log =  df.groupby(['platform']).agg({'critic_score' :'median'}).reset_index()\n",
    "df_user_log =  df.groupby(['platform']).agg({'user_score' :'median'}).reset_index()\n",
    "df_rating_log = df_platform_log.merge(\n",
    "    df_critic_log,\n",
    "    on = 'platform',\n",
    "    how = 'outer'\n",
    "    ).merge(\n",
    "    df_user_log,\n",
    "    on = 'platform',\n",
    "    how = 'outer'\n",
    ")\n",
    "\n",
    "df_rating_log = df_rating_log.dropna()"
   ]
  },
  {
   "cell_type": "code",
   "execution_count": 38,
   "metadata": {},
   "outputs": [
    {
     "data": {
      "image/png": "[encoded data removed]",
      "text/plain": [
       "<Figure size 648x648 with 9 Axes>"
      ]
     },
     "metadata": {
      "needs_background": "light"
     },
     "output_type": "display_data"
    }
   ],
   "source": [
    "pd.plotting.scatter_matrix(df_rating_log, figsize = (9, 9))\n",
    "plt.show()"
   ]
  },
  {
   "cell_type": "code",
   "execution_count": 39,
   "metadata": {},
   "outputs": [
    {
     "data": {
      "text/html": [
       "<div>\n",
       "<style scoped>\n",
       "    .dataframe tbody tr th:only-of-type {\n",
       "        vertical-align: middle;\n",
       "    }\n",
       "\n",
       "    .dataframe tbody tr th {\n",
       "        vertical-align: top;\n",
       "    }\n",
       "\n",
       "    .dataframe thead th {\n",
       "        text-align: right;\n",
       "    }\n",
       "</style>\n",
       "<table border=\"1\" class=\"dataframe\">\n",
       "  <thead>\n",
       "    <tr style=\"text-align: right;\">\n",
       "      <th></th>\n",
       "      <th>total_sales</th>\n",
       "      <th>critic_score</th>\n",
       "      <th>user_score</th>\n",
       "    </tr>\n",
       "  </thead>\n",
       "  <tbody>\n",
       "    <tr>\n",
       "      <td>total_sales</td>\n",
       "      <td>1.000000</td>\n",
       "      <td>-0.422522</td>\n",
       "      <td>-0.122199</td>\n",
       "    </tr>\n",
       "    <tr>\n",
       "      <td>critic_score</td>\n",
       "      <td>-0.422522</td>\n",
       "      <td>1.000000</td>\n",
       "      <td>0.402718</td>\n",
       "    </tr>\n",
       "    <tr>\n",
       "      <td>user_score</td>\n",
       "      <td>-0.122199</td>\n",
       "      <td>0.402718</td>\n",
       "      <td>1.000000</td>\n",
       "    </tr>\n",
       "  </tbody>\n",
       "</table>\n",
       "</div>"
      ],
      "text/plain": [
       "              total_sales  critic_score  user_score\n",
       "total_sales      1.000000     -0.422522   -0.122199\n",
       "critic_score    -0.422522      1.000000    0.402718\n",
       "user_score      -0.122199      0.402718    1.000000"
      ]
     },
     "execution_count": 39,
     "metadata": {},
     "output_type": "execute_result"
    }
   ],
   "source": [
    "df_rating_log.corr()"
   ]
  },
  {
   "cell_type": "markdown",
   "metadata": {},
   "source": [
    "Высокий рейтинг не способствует продажам"
   ]
  },
  {
   "cell_type": "code",
   "execution_count": 40,
   "metadata": {},
   "outputs": [
    {
     "data": {
      "image/png": "[encoded data removed]",
      "text/plain": [
       "<Figure size 432x288 with 2 Axes>"
      ]
     },
     "metadata": {
      "needs_background": "light"
     },
     "output_type": "display_data"
    }
   ],
   "source": [
    "sns.heatmap(df_rating_log.corr())\n",
    "plt.show()"
   ]
  },
  {
   "cell_type": "markdown",
   "metadata": {},
   "source": [
    "### Анализ предпочтений по жанрам игр"
   ]
  },
  {
   "cell_type": "code",
   "execution_count": 41,
   "metadata": {},
   "outputs": [
    {
     "data": {
      "text/html": [
       "<div>\n",
       "<style scoped>\n",
       "    .dataframe tbody tr th:only-of-type {\n",
       "        vertical-align: middle;\n",
       "    }\n",
       "\n",
       "    .dataframe tbody tr th {\n",
       "        vertical-align: top;\n",
       "    }\n",
       "\n",
       "    .dataframe thead th {\n",
       "        text-align: right;\n",
       "    }\n",
       "</style>\n",
       "<table border=\"1\" class=\"dataframe\">\n",
       "  <thead>\n",
       "    <tr style=\"text-align: right;\">\n",
       "      <th></th>\n",
       "      <th>genre</th>\n",
       "      <th>count</th>\n",
       "      <th>mean</th>\n",
       "      <th>total_sales</th>\n",
       "    </tr>\n",
       "  </thead>\n",
       "  <tbody>\n",
       "    <tr>\n",
       "      <td>0</td>\n",
       "      <td>Action</td>\n",
       "      <td>3307</td>\n",
       "      <td>0.519057</td>\n",
       "      <td>1716.52</td>\n",
       "    </tr>\n",
       "    <tr>\n",
       "      <td>10</td>\n",
       "      <td>Sports</td>\n",
       "      <td>2306</td>\n",
       "      <td>0.567940</td>\n",
       "      <td>1309.67</td>\n",
       "    </tr>\n",
       "    <tr>\n",
       "      <td>8</td>\n",
       "      <td>Shooter</td>\n",
       "      <td>1296</td>\n",
       "      <td>0.803519</td>\n",
       "      <td>1041.36</td>\n",
       "    </tr>\n",
       "    <tr>\n",
       "      <td>7</td>\n",
       "      <td>Role-Playing</td>\n",
       "      <td>1481</td>\n",
       "      <td>0.628683</td>\n",
       "      <td>931.08</td>\n",
       "    </tr>\n",
       "    <tr>\n",
       "      <td>4</td>\n",
       "      <td>Platform</td>\n",
       "      <td>878</td>\n",
       "      <td>0.940262</td>\n",
       "      <td>825.55</td>\n",
       "    </tr>\n",
       "    <tr>\n",
       "      <td>3</td>\n",
       "      <td>Misc</td>\n",
       "      <td>1721</td>\n",
       "      <td>0.459204</td>\n",
       "      <td>790.29</td>\n",
       "    </tr>\n",
       "    <tr>\n",
       "      <td>6</td>\n",
       "      <td>Racing</td>\n",
       "      <td>1226</td>\n",
       "      <td>0.590122</td>\n",
       "      <td>723.49</td>\n",
       "    </tr>\n",
       "    <tr>\n",
       "      <td>2</td>\n",
       "      <td>Fighting</td>\n",
       "      <td>837</td>\n",
       "      <td>0.528865</td>\n",
       "      <td>442.66</td>\n",
       "    </tr>\n",
       "    <tr>\n",
       "      <td>9</td>\n",
       "      <td>Simulation</td>\n",
       "      <td>857</td>\n",
       "      <td>0.452695</td>\n",
       "      <td>387.96</td>\n",
       "    </tr>\n",
       "    <tr>\n",
       "      <td>5</td>\n",
       "      <td>Puzzle</td>\n",
       "      <td>569</td>\n",
       "      <td>0.421599</td>\n",
       "      <td>239.89</td>\n",
       "    </tr>\n",
       "    <tr>\n",
       "      <td>1</td>\n",
       "      <td>Adventure</td>\n",
       "      <td>1293</td>\n",
       "      <td>0.180456</td>\n",
       "      <td>233.33</td>\n",
       "    </tr>\n",
       "    <tr>\n",
       "      <td>11</td>\n",
       "      <td>Strategy</td>\n",
       "      <td>673</td>\n",
       "      <td>0.256419</td>\n",
       "      <td>172.57</td>\n",
       "    </tr>\n",
       "  </tbody>\n",
       "</table>\n",
       "</div>"
      ],
      "text/plain": [
       "           genre  count      mean  total_sales\n",
       "0         Action   3307  0.519057      1716.52\n",
       "10        Sports   2306  0.567940      1309.67\n",
       "8        Shooter   1296  0.803519      1041.36\n",
       "7   Role-Playing   1481  0.628683       931.08\n",
       "4       Platform    878  0.940262       825.55\n",
       "3           Misc   1721  0.459204       790.29\n",
       "6         Racing   1226  0.590122       723.49\n",
       "2       Fighting    837  0.528865       442.66\n",
       "9     Simulation    857  0.452695       387.96\n",
       "5         Puzzle    569  0.421599       239.89\n",
       "1      Adventure   1293  0.180456       233.33\n",
       "11      Strategy    673  0.256419       172.57"
      ]
     },
     "execution_count": 41,
     "metadata": {},
     "output_type": "execute_result"
    }
   ],
   "source": [
    "df_genres_log = df.groupby(['genre']).agg({'total_sales':('count', 'mean','sum')}).reset_index()\n",
    "df_genres_log.columns = ['genre', 'count', 'mean', 'total_sales']\n",
    "df_genres_log.sort_values(by = 'total_sales', ascending = False)"
   ]
  },
  {
   "cell_type": "markdown",
   "metadata": {},
   "source": [
    "Наиболее популярными жанрами являются Action и Sports, причем как по числу проданных копий, так и количеству выпущенных игр. Для жанров Shooter и Platform характерен выпуск знаковых релизов, пользующихся большой популярностью"
   ]
  },
  {
   "cell_type": "markdown",
   "metadata": {},
   "source": [
    "## Портрет пользователя"
   ]
  },
  {
   "cell_type": "markdown",
   "metadata": {},
   "source": [
    "### Предпочтения по выбору платформ"
   ]
  },
  {
   "cell_type": "code",
   "execution_count": 42,
   "metadata": {},
   "outputs": [
    {
     "data": {
      "text/html": [
       "<div>\n",
       "<style scoped>\n",
       "    .dataframe tbody tr th:only-of-type {\n",
       "        vertical-align: middle;\n",
       "    }\n",
       "\n",
       "    .dataframe tbody tr th {\n",
       "        vertical-align: top;\n",
       "    }\n",
       "\n",
       "    .dataframe thead th {\n",
       "        text-align: right;\n",
       "    }\n",
       "</style>\n",
       "<table border=\"1\" class=\"dataframe\">\n",
       "  <thead>\n",
       "    <tr style=\"text-align: right;\">\n",
       "      <th></th>\n",
       "      <th>platform</th>\n",
       "      <th>na_sales</th>\n",
       "    </tr>\n",
       "  </thead>\n",
       "  <tbody>\n",
       "    <tr>\n",
       "      <td>0</td>\n",
       "      <td>X360</td>\n",
       "      <td>595.74</td>\n",
       "    </tr>\n",
       "    <tr>\n",
       "      <td>1</td>\n",
       "      <td>PS2</td>\n",
       "      <td>572.92</td>\n",
       "    </tr>\n",
       "    <tr>\n",
       "      <td>2</td>\n",
       "      <td>Wii</td>\n",
       "      <td>486.87</td>\n",
       "    </tr>\n",
       "    <tr>\n",
       "      <td>3</td>\n",
       "      <td>PS3</td>\n",
       "      <td>390.13</td>\n",
       "    </tr>\n",
       "    <tr>\n",
       "      <td>4</td>\n",
       "      <td>DS</td>\n",
       "      <td>380.31</td>\n",
       "    </tr>\n",
       "  </tbody>\n",
       "</table>\n",
       "</div>"
      ],
      "text/plain": [
       "  platform  na_sales\n",
       "0     X360    595.74\n",
       "1      PS2    572.92\n",
       "2      Wii    486.87\n",
       "3      PS3    390.13\n",
       "4       DS    380.31"
      ]
     },
     "execution_count": 42,
     "metadata": {},
     "output_type": "execute_result"
    }
   ],
   "source": [
    "df_user_na_platform = df.groupby(['platform']).agg({'na_sales':'sum'})\n",
    "df_user_na_platform.sort_values(by = 'na_sales', ascending = False).reset_index().head()"
   ]
  },
  {
   "cell_type": "code",
   "execution_count": 43,
   "metadata": {},
   "outputs": [
    {
     "data": {
      "text/html": [
       "<div>\n",
       "<style scoped>\n",
       "    .dataframe tbody tr th:only-of-type {\n",
       "        vertical-align: middle;\n",
       "    }\n",
       "\n",
       "    .dataframe tbody tr th {\n",
       "        vertical-align: top;\n",
       "    }\n",
       "\n",
       "    .dataframe thead th {\n",
       "        text-align: right;\n",
       "    }\n",
       "</style>\n",
       "<table border=\"1\" class=\"dataframe\">\n",
       "  <thead>\n",
       "    <tr style=\"text-align: right;\">\n",
       "      <th></th>\n",
       "      <th>platform</th>\n",
       "      <th>eu_sales</th>\n",
       "    </tr>\n",
       "  </thead>\n",
       "  <tbody>\n",
       "    <tr>\n",
       "      <td>0</td>\n",
       "      <td>PS2</td>\n",
       "      <td>332.63</td>\n",
       "    </tr>\n",
       "    <tr>\n",
       "      <td>1</td>\n",
       "      <td>PS3</td>\n",
       "      <td>327.21</td>\n",
       "    </tr>\n",
       "    <tr>\n",
       "      <td>2</td>\n",
       "      <td>X360</td>\n",
       "      <td>268.32</td>\n",
       "    </tr>\n",
       "    <tr>\n",
       "      <td>3</td>\n",
       "      <td>Wii</td>\n",
       "      <td>258.32</td>\n",
       "    </tr>\n",
       "    <tr>\n",
       "      <td>4</td>\n",
       "      <td>PS</td>\n",
       "      <td>212.39</td>\n",
       "    </tr>\n",
       "  </tbody>\n",
       "</table>\n",
       "</div>"
      ],
      "text/plain": [
       "  platform  eu_sales\n",
       "0      PS2    332.63\n",
       "1      PS3    327.21\n",
       "2     X360    268.32\n",
       "3      Wii    258.32\n",
       "4       PS    212.39"
      ]
     },
     "execution_count": 43,
     "metadata": {},
     "output_type": "execute_result"
    }
   ],
   "source": [
    "df_user_eu_platform = df.groupby(['platform']).agg({'eu_sales':'sum'})\n",
    "df_user_eu_platform.sort_values(by = 'eu_sales', ascending = False).reset_index().head()"
   ]
  },
  {
   "cell_type": "code",
   "execution_count": 44,
   "metadata": {},
   "outputs": [
    {
     "data": {
      "text/html": [
       "<div>\n",
       "<style scoped>\n",
       "    .dataframe tbody tr th:only-of-type {\n",
       "        vertical-align: middle;\n",
       "    }\n",
       "\n",
       "    .dataframe tbody tr th {\n",
       "        vertical-align: top;\n",
       "    }\n",
       "\n",
       "    .dataframe thead th {\n",
       "        text-align: right;\n",
       "    }\n",
       "</style>\n",
       "<table border=\"1\" class=\"dataframe\">\n",
       "  <thead>\n",
       "    <tr style=\"text-align: right;\">\n",
       "      <th></th>\n",
       "      <th>platform</th>\n",
       "      <th>jp_sales</th>\n",
       "    </tr>\n",
       "  </thead>\n",
       "  <tbody>\n",
       "    <tr>\n",
       "      <td>0</td>\n",
       "      <td>DS</td>\n",
       "      <td>175.02</td>\n",
       "    </tr>\n",
       "    <tr>\n",
       "      <td>1</td>\n",
       "      <td>PS</td>\n",
       "      <td>139.78</td>\n",
       "    </tr>\n",
       "    <tr>\n",
       "      <td>2</td>\n",
       "      <td>PS2</td>\n",
       "      <td>137.54</td>\n",
       "    </tr>\n",
       "    <tr>\n",
       "      <td>3</td>\n",
       "      <td>SNES</td>\n",
       "      <td>116.55</td>\n",
       "    </tr>\n",
       "    <tr>\n",
       "      <td>4</td>\n",
       "      <td>3DS</td>\n",
       "      <td>100.62</td>\n",
       "    </tr>\n",
       "  </tbody>\n",
       "</table>\n",
       "</div>"
      ],
      "text/plain": [
       "  platform  jp_sales\n",
       "0       DS    175.02\n",
       "1       PS    139.78\n",
       "2      PS2    137.54\n",
       "3     SNES    116.55\n",
       "4      3DS    100.62"
      ]
     },
     "execution_count": 44,
     "metadata": {},
     "output_type": "execute_result"
    }
   ],
   "source": [
    "df_user_jp_platform = df.groupby(['platform']).agg({'jp_sales':'sum'})\n",
    "df_user_jp_platform.sort_values(by = 'jp_sales', ascending = False).reset_index().head()"
   ]
  },
  {
   "cell_type": "markdown",
   "metadata": {},
   "source": [
    "На американском континенте лидирует X360 с незначительныим отрывом от PS2, в Европе PS2 и PS3 заметно более популярны, чем X360 и Wii. В Японии картина принципиально отличается - в лидерах портитивная консоль DS"
   ]
  },
  {
   "cell_type": "markdown",
   "metadata": {},
   "source": [
    "### Предпочтения по жанрам"
   ]
  },
  {
   "cell_type": "code",
   "execution_count": 45,
   "metadata": {},
   "outputs": [
    {
     "data": {
      "text/html": [
       "<div>\n",
       "<style scoped>\n",
       "    .dataframe tbody tr th:only-of-type {\n",
       "        vertical-align: middle;\n",
       "    }\n",
       "\n",
       "    .dataframe tbody tr th {\n",
       "        vertical-align: top;\n",
       "    }\n",
       "\n",
       "    .dataframe thead th {\n",
       "        text-align: right;\n",
       "    }\n",
       "</style>\n",
       "<table border=\"1\" class=\"dataframe\">\n",
       "  <thead>\n",
       "    <tr style=\"text-align: right;\">\n",
       "      <th></th>\n",
       "      <th>genre</th>\n",
       "      <th>na_sales</th>\n",
       "    </tr>\n",
       "  </thead>\n",
       "  <tbody>\n",
       "    <tr>\n",
       "      <td>0</td>\n",
       "      <td>Action</td>\n",
       "      <td>863.17</td>\n",
       "    </tr>\n",
       "    <tr>\n",
       "      <td>1</td>\n",
       "      <td>Sports</td>\n",
       "      <td>671.20</td>\n",
       "    </tr>\n",
       "    <tr>\n",
       "      <td>2</td>\n",
       "      <td>Shooter</td>\n",
       "      <td>584.83</td>\n",
       "    </tr>\n",
       "    <tr>\n",
       "      <td>3</td>\n",
       "      <td>Platform</td>\n",
       "      <td>444.44</td>\n",
       "    </tr>\n",
       "    <tr>\n",
       "      <td>4</td>\n",
       "      <td>Misc</td>\n",
       "      <td>399.57</td>\n",
       "    </tr>\n",
       "  </tbody>\n",
       "</table>\n",
       "</div>"
      ],
      "text/plain": [
       "      genre  na_sales\n",
       "0    Action    863.17\n",
       "1    Sports    671.20\n",
       "2   Shooter    584.83\n",
       "3  Platform    444.44\n",
       "4      Misc    399.57"
      ]
     },
     "execution_count": 45,
     "metadata": {},
     "output_type": "execute_result"
    }
   ],
   "source": [
    "df_user_na_genre = df.groupby(['genre']).agg({'na_sales':'sum'})\n",
    "df_user_na_genre.sort_values(by = 'na_sales', ascending = False).reset_index().head()"
   ]
  },
  {
   "cell_type": "code",
   "execution_count": 46,
   "metadata": {},
   "outputs": [
    {
     "data": {
      "text/html": [
       "<div>\n",
       "<style scoped>\n",
       "    .dataframe tbody tr th:only-of-type {\n",
       "        vertical-align: middle;\n",
       "    }\n",
       "\n",
       "    .dataframe tbody tr th {\n",
       "        vertical-align: top;\n",
       "    }\n",
       "\n",
       "    .dataframe thead th {\n",
       "        text-align: right;\n",
       "    }\n",
       "</style>\n",
       "<table border=\"1\" class=\"dataframe\">\n",
       "  <thead>\n",
       "    <tr style=\"text-align: right;\">\n",
       "      <th></th>\n",
       "      <th>genre</th>\n",
       "      <th>eu_sales</th>\n",
       "    </tr>\n",
       "  </thead>\n",
       "  <tbody>\n",
       "    <tr>\n",
       "      <td>0</td>\n",
       "      <td>Action</td>\n",
       "      <td>510.99</td>\n",
       "    </tr>\n",
       "    <tr>\n",
       "      <td>1</td>\n",
       "      <td>Sports</td>\n",
       "      <td>371.33</td>\n",
       "    </tr>\n",
       "    <tr>\n",
       "      <td>2</td>\n",
       "      <td>Shooter</td>\n",
       "      <td>314.52</td>\n",
       "    </tr>\n",
       "    <tr>\n",
       "      <td>3</td>\n",
       "      <td>Racing</td>\n",
       "      <td>234.49</td>\n",
       "    </tr>\n",
       "    <tr>\n",
       "      <td>4</td>\n",
       "      <td>Misc</td>\n",
       "      <td>210.60</td>\n",
       "    </tr>\n",
       "  </tbody>\n",
       "</table>\n",
       "</div>"
      ],
      "text/plain": [
       "     genre  eu_sales\n",
       "0   Action    510.99\n",
       "1   Sports    371.33\n",
       "2  Shooter    314.52\n",
       "3   Racing    234.49\n",
       "4     Misc    210.60"
      ]
     },
     "execution_count": 46,
     "metadata": {},
     "output_type": "execute_result"
    }
   ],
   "source": [
    "df_user_eu_genre = df.groupby(['genre']).agg({'eu_sales':'sum'})\n",
    "df_user_eu_genre.sort_values(by = 'eu_sales', ascending = False).reset_index().head()"
   ]
  },
  {
   "cell_type": "code",
   "execution_count": 47,
   "metadata": {},
   "outputs": [
    {
     "data": {
      "text/html": [
       "<div>\n",
       "<style scoped>\n",
       "    .dataframe tbody tr th:only-of-type {\n",
       "        vertical-align: middle;\n",
       "    }\n",
       "\n",
       "    .dataframe tbody tr th {\n",
       "        vertical-align: top;\n",
       "    }\n",
       "\n",
       "    .dataframe thead th {\n",
       "        text-align: right;\n",
       "    }\n",
       "</style>\n",
       "<table border=\"1\" class=\"dataframe\">\n",
       "  <thead>\n",
       "    <tr style=\"text-align: right;\">\n",
       "      <th></th>\n",
       "      <th>genre</th>\n",
       "      <th>jp_sales</th>\n",
       "    </tr>\n",
       "  </thead>\n",
       "  <tbody>\n",
       "    <tr>\n",
       "      <td>0</td>\n",
       "      <td>Role-Playing</td>\n",
       "      <td>353.39</td>\n",
       "    </tr>\n",
       "    <tr>\n",
       "      <td>1</td>\n",
       "      <td>Action</td>\n",
       "      <td>160.14</td>\n",
       "    </tr>\n",
       "    <tr>\n",
       "      <td>2</td>\n",
       "      <td>Sports</td>\n",
       "      <td>134.93</td>\n",
       "    </tr>\n",
       "    <tr>\n",
       "      <td>3</td>\n",
       "      <td>Platform</td>\n",
       "      <td>130.71</td>\n",
       "    </tr>\n",
       "    <tr>\n",
       "      <td>4</td>\n",
       "      <td>Misc</td>\n",
       "      <td>107.02</td>\n",
       "    </tr>\n",
       "  </tbody>\n",
       "</table>\n",
       "</div>"
      ],
      "text/plain": [
       "          genre  jp_sales\n",
       "0  Role-Playing    353.39\n",
       "1        Action    160.14\n",
       "2        Sports    134.93\n",
       "3      Platform    130.71\n",
       "4          Misc    107.02"
      ]
     },
     "execution_count": 47,
     "metadata": {},
     "output_type": "execute_result"
    }
   ],
   "source": [
    "df_user_jp_genre = df.groupby(['genre']).agg({'jp_sales':'sum'})\n",
    "df_user_jp_genre.sort_values(by = 'jp_sales', ascending = False).reset_index().head()"
   ]
  },
  {
   "cell_type": "markdown",
   "metadata": {},
   "source": [
    "Набор популярных жанров в США и Европе сходный, за исключением того, что в Европе также предпочитают Racing, а в Америке - Platform. Предпочтения по жанрам в Японии также значительно отличается - в лидерах Role-Playing"
   ]
  },
  {
   "cell_type": "code",
   "execution_count": 48,
   "metadata": {},
   "outputs": [
    {
     "data": {
      "text/html": [
       "<div>\n",
       "<style scoped>\n",
       "    .dataframe tbody tr th:only-of-type {\n",
       "        vertical-align: middle;\n",
       "    }\n",
       "\n",
       "    .dataframe tbody tr th {\n",
       "        vertical-align: top;\n",
       "    }\n",
       "\n",
       "    .dataframe thead th {\n",
       "        text-align: right;\n",
       "    }\n",
       "</style>\n",
       "<table border=\"1\" class=\"dataframe\">\n",
       "  <thead>\n",
       "    <tr style=\"text-align: right;\">\n",
       "      <th></th>\n",
       "      <th>rating</th>\n",
       "      <th>na_sales</th>\n",
       "    </tr>\n",
       "  </thead>\n",
       "  <tbody>\n",
       "    <tr>\n",
       "      <td>0</td>\n",
       "      <td>E</td>\n",
       "      <td>1274.24</td>\n",
       "    </tr>\n",
       "    <tr>\n",
       "      <td>1</td>\n",
       "      <td>T</td>\n",
       "      <td>747.60</td>\n",
       "    </tr>\n",
       "    <tr>\n",
       "      <td>2</td>\n",
       "      <td>M</td>\n",
       "      <td>742.89</td>\n",
       "    </tr>\n",
       "    <tr>\n",
       "      <td>3</td>\n",
       "      <td>E10+</td>\n",
       "      <td>345.50</td>\n",
       "    </tr>\n",
       "    <tr>\n",
       "      <td>4</td>\n",
       "      <td>K-A</td>\n",
       "      <td>2.56</td>\n",
       "    </tr>\n",
       "    <tr>\n",
       "      <td>5</td>\n",
       "      <td>EC</td>\n",
       "      <td>1.53</td>\n",
       "    </tr>\n",
       "    <tr>\n",
       "      <td>6</td>\n",
       "      <td>AO</td>\n",
       "      <td>1.26</td>\n",
       "    </tr>\n",
       "    <tr>\n",
       "      <td>7</td>\n",
       "      <td>RP</td>\n",
       "      <td>0.00</td>\n",
       "    </tr>\n",
       "  </tbody>\n",
       "</table>\n",
       "</div>"
      ],
      "text/plain": [
       "  rating  na_sales\n",
       "0      E   1274.24\n",
       "1      T    747.60\n",
       "2      M    742.89\n",
       "3   E10+    345.50\n",
       "4    K-A      2.56\n",
       "5     EC      1.53\n",
       "6     AO      1.26\n",
       "7     RP      0.00"
      ]
     },
     "execution_count": 48,
     "metadata": {},
     "output_type": "execute_result"
    }
   ],
   "source": [
    "df_rating_na = df.groupby(['rating']).agg({'na_sales':'sum'})\n",
    "df_rating_na.sort_values(by = 'na_sales', ascending = False).reset_index()"
   ]
  },
  {
   "cell_type": "code",
   "execution_count": 49,
   "metadata": {},
   "outputs": [
    {
     "data": {
      "text/html": [
       "<div>\n",
       "<style scoped>\n",
       "    .dataframe tbody tr th:only-of-type {\n",
       "        vertical-align: middle;\n",
       "    }\n",
       "\n",
       "    .dataframe tbody tr th {\n",
       "        vertical-align: top;\n",
       "    }\n",
       "\n",
       "    .dataframe thead th {\n",
       "        text-align: right;\n",
       "    }\n",
       "</style>\n",
       "<table border=\"1\" class=\"dataframe\">\n",
       "  <thead>\n",
       "    <tr style=\"text-align: right;\">\n",
       "      <th></th>\n",
       "      <th>rating</th>\n",
       "      <th>eu_sales</th>\n",
       "    </tr>\n",
       "  </thead>\n",
       "  <tbody>\n",
       "    <tr>\n",
       "      <td>0</td>\n",
       "      <td>E</td>\n",
       "      <td>703.87</td>\n",
       "    </tr>\n",
       "    <tr>\n",
       "      <td>1</td>\n",
       "      <td>M</td>\n",
       "      <td>480.00</td>\n",
       "    </tr>\n",
       "    <tr>\n",
       "      <td>2</td>\n",
       "      <td>T</td>\n",
       "      <td>421.79</td>\n",
       "    </tr>\n",
       "    <tr>\n",
       "      <td>3</td>\n",
       "      <td>E10+</td>\n",
       "      <td>183.35</td>\n",
       "    </tr>\n",
       "    <tr>\n",
       "      <td>4</td>\n",
       "      <td>AO</td>\n",
       "      <td>0.61</td>\n",
       "    </tr>\n",
       "    <tr>\n",
       "      <td>5</td>\n",
       "      <td>K-A</td>\n",
       "      <td>0.27</td>\n",
       "    </tr>\n",
       "    <tr>\n",
       "      <td>6</td>\n",
       "      <td>EC</td>\n",
       "      <td>0.11</td>\n",
       "    </tr>\n",
       "    <tr>\n",
       "      <td>7</td>\n",
       "      <td>RP</td>\n",
       "      <td>0.03</td>\n",
       "    </tr>\n",
       "  </tbody>\n",
       "</table>\n",
       "</div>"
      ],
      "text/plain": [
       "  rating  eu_sales\n",
       "0      E    703.87\n",
       "1      M    480.00\n",
       "2      T    421.79\n",
       "3   E10+    183.35\n",
       "4     AO      0.61\n",
       "5    K-A      0.27\n",
       "6     EC      0.11\n",
       "7     RP      0.03"
      ]
     },
     "execution_count": 49,
     "metadata": {},
     "output_type": "execute_result"
    }
   ],
   "source": [
    "df_rating_eu = df.groupby(['rating']).agg({'eu_sales':'sum'})\n",
    "df_rating_eu.sort_values(by = 'eu_sales', ascending = False).reset_index()"
   ]
  },
  {
   "cell_type": "code",
   "execution_count": 50,
   "metadata": {},
   "outputs": [
    {
     "data": {
      "text/html": [
       "<div>\n",
       "<style scoped>\n",
       "    .dataframe tbody tr th:only-of-type {\n",
       "        vertical-align: middle;\n",
       "    }\n",
       "\n",
       "    .dataframe tbody tr th {\n",
       "        vertical-align: top;\n",
       "    }\n",
       "\n",
       "    .dataframe thead th {\n",
       "        text-align: right;\n",
       "    }\n",
       "</style>\n",
       "<table border=\"1\" class=\"dataframe\">\n",
       "  <thead>\n",
       "    <tr style=\"text-align: right;\">\n",
       "      <th></th>\n",
       "      <th>rating</th>\n",
       "      <th>jp_sales</th>\n",
       "    </tr>\n",
       "  </thead>\n",
       "  <tbody>\n",
       "    <tr>\n",
       "      <td>0</td>\n",
       "      <td>E</td>\n",
       "      <td>197.96</td>\n",
       "    </tr>\n",
       "    <tr>\n",
       "      <td>1</td>\n",
       "      <td>T</td>\n",
       "      <td>150.70</td>\n",
       "    </tr>\n",
       "    <tr>\n",
       "      <td>2</td>\n",
       "      <td>M</td>\n",
       "      <td>63.58</td>\n",
       "    </tr>\n",
       "    <tr>\n",
       "      <td>3</td>\n",
       "      <td>E10+</td>\n",
       "      <td>40.20</td>\n",
       "    </tr>\n",
       "    <tr>\n",
       "      <td>4</td>\n",
       "      <td>K-A</td>\n",
       "      <td>1.46</td>\n",
       "    </tr>\n",
       "    <tr>\n",
       "      <td>5</td>\n",
       "      <td>AO</td>\n",
       "      <td>0.00</td>\n",
       "    </tr>\n",
       "    <tr>\n",
       "      <td>6</td>\n",
       "      <td>EC</td>\n",
       "      <td>0.00</td>\n",
       "    </tr>\n",
       "    <tr>\n",
       "      <td>7</td>\n",
       "      <td>RP</td>\n",
       "      <td>0.00</td>\n",
       "    </tr>\n",
       "  </tbody>\n",
       "</table>\n",
       "</div>"
      ],
      "text/plain": [
       "  rating  jp_sales\n",
       "0      E    197.96\n",
       "1      T    150.70\n",
       "2      M     63.58\n",
       "3   E10+     40.20\n",
       "4    K-A      1.46\n",
       "5     AO      0.00\n",
       "6     EC      0.00\n",
       "7     RP      0.00"
      ]
     },
     "execution_count": 50,
     "metadata": {},
     "output_type": "execute_result"
    }
   ],
   "source": [
    "df_rating_jp = df.groupby(['rating']).agg({'jp_sales':'sum'})\n",
    "df_rating_jp.sort_values(by = 'jp_sales', ascending = False).reset_index()"
   ]
  },
  {
   "cell_type": "markdown",
   "metadata": {},
   "source": [
    "Распределение продаж относительно выданного рейтинга не свидетельствует о наличии значительных отличий в предпочтениях"
   ]
  },
  {
   "cell_type": "markdown",
   "metadata": {},
   "source": [
    "### Выводы"
   ]
  },
  {
   "cell_type": "markdown",
   "metadata": {},
   "source": [
    "Пользовательские предпочтения имеют определенные особенности, которые следует учитывать при планировании продаж. Рынки Америк и и Европы в целом имеют много общего, а рынок Японии требует специального подхода"
   ]
  },
  {
   "cell_type": "markdown",
   "metadata": {},
   "source": [
    "## Проверка гипотез"
   ]
  },
  {
   "cell_type": "markdown",
   "metadata": {},
   "source": [
    "### Средние пользовательсткие рейтинги платформ  Xbox One и PC одинаковые"
   ]
  },
  {
   "cell_type": "markdown",
   "metadata": {},
   "source": [
    "Формулируем нулевую гипотезу - пользовательсткие рейтинги платформ  Xbox One и PC одинаковые. Альтернативная гипотеза - средние пользовательсткие рейтинги платформ Xbox One и PC различается. В случае значительного отклонения от среднего значения нормального распределения нулевая гипотеза подлежит пересмотру на альтернативную"
   ]
  },
  {
   "cell_type": "code",
   "execution_count": 51,
   "metadata": {},
   "outputs": [
    {
     "data": {
      "text/plain": [
       "True"
      ]
     },
     "execution_count": 51,
     "metadata": {},
     "output_type": "execute_result"
    }
   ],
   "source": [
    "alpha = 0.05\n",
    "df_XOne = df.query('platform == \"XOne\"').dropna()\n",
    "df_PC = df.query('platform == \"PC\"').dropna()\n",
    "result = st.ttest_ind(df_XOne['user_score'], df_PC['user_score'])\n",
    "result.pvalue < alpha"
   ]
  },
  {
   "cell_type": "markdown",
   "metadata": {},
   "source": [
    "При уровне значимости 0,05 средние рейтинги по выбранным платформам значительно различаются, этот факт дает основания отвергнуть нулевую гипотезу и перейти к рассмотрению альтернативной "
   ]
  },
  {
   "cell_type": "markdown",
   "metadata": {},
   "source": [
    "### Средние пользовательские рейтинги жанров Action (англ. «действие», экшен-игры) и Sports (англ. «спортивные соревнования») разные"
   ]
  },
  {
   "cell_type": "markdown",
   "metadata": {},
   "source": [
    "Выдвигаем нулевую гипотезу - средние пользовательские рейтинги жанров Action и Sports одинаковые. Альтернативная гипотеза - средние пользовательские рейтинги жанров Action и Sports различаются"
   ]
  },
  {
   "cell_type": "code",
   "execution_count": 52,
   "metadata": {},
   "outputs": [
    {
     "data": {
      "text/plain": [
       "0.7959786214567646"
      ]
     },
     "execution_count": 52,
     "metadata": {},
     "output_type": "execute_result"
    }
   ],
   "source": [
    "df_Action = df.query('genre == \"Action\"').dropna()\n",
    "df_Sports = df.query('genre == \"Sports\"').dropna()\n",
    "result = st.ttest_ind(df_Action['user_score'], df_Sports['user_score'])\n",
    "result.pvalue"
   ]
  },
  {
   "cell_type": "markdown",
   "metadata": {},
   "source": [
    "Отклонения находятся в пределах нормального распределения, поэтому нет оснований отвергать нулевую гипотезу и рассматривать альтернативную"
   ]
  },
  {
   "cell_type": "markdown",
   "metadata": {},
   "source": [
    "# Общий вывод"
   ]
  },
  {
   "cell_type": "markdown",
   "metadata": {},
   "source": [
    "На основании предоставленных данных проанализированы продажи компьтерных игр на рынках США, Европы, Японии и других стран, начиная с 1980 года. В ходе анализа выявлено, что среди популярных платформ, выходящих на рынок наблюдается четкий 5-летний период роста и спада популярности. На конец 2016 года наиболее перспективной платформой, с точки зрения, потенциала продаж в ближайшие 1-2 года является PS4. Вместе с тем, в последние годы наблюдается общее снижение популярности игр, объемы продаж снижаются.\n",
    "\n",
    "Предпочтения пользователей в разных странах имеют некоторые особенности, которые следует учитывать при планировании. А рынок Японии и вовсе требует отдельного подхода, как по жанрам, так и платформам.\n",
    "\n",
    "Проведена проверка отдельных гипотез в отношении пользовательских рейтингов. В результате анализа гипотеза о равенстве пользовательского рейтинга платформ Xbox One и PC не подтвердилась, а гипотеза о том, что средние пользовательские рейтинги жанров Action и Sports не различаются, осталасть не опровергнута  "
   ]
  }
 ],
 "metadata": {
  "ExecuteTimeLog": [
   {
    "duration": 1058,
    "start_time": "2021-08-14T13:11:30.081Z"
   },
   {
    "duration": 1547,
    "start_time": "2021-08-14T13:12:15.315Z"
   },
   {
    "duration": 42,
    "start_time": "2021-08-14T13:12:37.445Z"
   },
   {
    "duration": 14,
    "start_time": "2021-08-14T13:13:12.899Z"
   },
   {
    "duration": 70,
    "start_time": "2021-08-14T13:13:42.461Z"
   },
   {
    "duration": 10,
    "start_time": "2021-08-14T13:20:41.348Z"
   },
   {
    "duration": 9,
    "start_time": "2021-08-14T13:22:02.868Z"
   },
   {
    "duration": 590,
    "start_time": "2021-08-15T14:53:16.421Z"
   },
   {
    "duration": 49,
    "start_time": "2021-08-15T14:53:17.012Z"
   },
   {
    "duration": 5,
    "start_time": "2021-08-15T14:53:17.063Z"
   },
   {
    "duration": 29,
    "start_time": "2021-08-15T14:53:17.070Z"
   },
   {
    "duration": 9,
    "start_time": "2021-08-15T14:53:17.100Z"
   },
   {
    "duration": 4,
    "start_time": "2021-08-15T14:53:17.110Z"
   },
   {
    "duration": 313,
    "start_time": "2021-08-15T14:53:17.116Z"
   },
   {
    "duration": 290,
    "start_time": "2021-08-15T14:59:30.124Z"
   },
   {
    "duration": 3,
    "start_time": "2021-08-15T15:01:27.659Z"
   },
   {
    "duration": 11,
    "start_time": "2021-08-15T15:01:44.454Z"
   },
   {
    "duration": 20,
    "start_time": "2021-08-15T15:05:14.235Z"
   },
   {
    "duration": 19,
    "start_time": "2021-08-15T15:05:34.451Z"
   },
   {
    "duration": 18,
    "start_time": "2021-08-15T15:08:19.035Z"
   },
   {
    "duration": 5,
    "start_time": "2021-08-15T15:08:54.525Z"
   },
   {
    "duration": 242,
    "start_time": "2021-08-15T15:48:13.139Z"
   },
   {
    "duration": 3,
    "start_time": "2021-08-15T15:55:53.152Z"
   },
   {
    "duration": 51,
    "start_time": "2021-08-15T15:55:53.157Z"
   },
   {
    "duration": 6,
    "start_time": "2021-08-15T15:55:53.210Z"
   },
   {
    "duration": 36,
    "start_time": "2021-08-15T15:55:53.217Z"
   },
   {
    "duration": 8,
    "start_time": "2021-08-15T15:55:53.254Z"
   },
   {
    "duration": 2,
    "start_time": "2021-08-15T15:55:53.264Z"
   },
   {
    "duration": 14,
    "start_time": "2021-08-15T15:55:53.268Z"
   },
   {
    "duration": 4,
    "start_time": "2021-08-15T15:55:53.292Z"
   },
   {
    "duration": 224,
    "start_time": "2021-08-15T15:55:53.297Z"
   },
   {
    "duration": 254,
    "start_time": "2021-08-15T15:56:10.220Z"
   },
   {
    "duration": 11,
    "start_time": "2021-08-15T15:58:04.580Z"
   },
   {
    "duration": 3,
    "start_time": "2021-08-15T16:20:22.333Z"
   },
   {
    "duration": 12,
    "start_time": "2021-08-15T16:20:33.784Z"
   },
   {
    "duration": 3,
    "start_time": "2021-08-15T16:20:45.345Z"
   },
   {
    "duration": 47,
    "start_time": "2021-08-15T16:20:45.350Z"
   },
   {
    "duration": 6,
    "start_time": "2021-08-15T16:20:45.399Z"
   },
   {
    "duration": 25,
    "start_time": "2021-08-15T16:20:45.406Z"
   },
   {
    "duration": 7,
    "start_time": "2021-08-15T16:20:45.433Z"
   },
   {
    "duration": 2,
    "start_time": "2021-08-15T16:20:45.442Z"
   },
   {
    "duration": 10,
    "start_time": "2021-08-15T16:20:45.446Z"
   },
   {
    "duration": 4,
    "start_time": "2021-08-15T16:20:45.458Z"
   },
   {
    "duration": 28,
    "start_time": "2021-08-15T16:20:45.464Z"
   },
   {
    "duration": 13,
    "start_time": "2021-08-15T16:20:45.494Z"
   },
   {
    "duration": 236,
    "start_time": "2021-08-15T16:21:04.403Z"
   },
   {
    "duration": 232,
    "start_time": "2021-08-15T16:21:47.680Z"
   },
   {
    "duration": 228,
    "start_time": "2021-08-15T16:22:28.070Z"
   },
   {
    "duration": 21,
    "start_time": "2021-08-15T16:22:58.091Z"
   },
   {
    "duration": 6,
    "start_time": "2021-08-15T16:23:35.212Z"
   },
   {
    "duration": 20,
    "start_time": "2021-08-15T16:30:55.847Z"
   },
   {
    "duration": 3,
    "start_time": "2021-08-15T16:31:10.353Z"
   },
   {
    "duration": 49,
    "start_time": "2021-08-15T16:31:10.357Z"
   },
   {
    "duration": 6,
    "start_time": "2021-08-15T16:31:10.408Z"
   },
   {
    "duration": 26,
    "start_time": "2021-08-15T16:31:10.416Z"
   },
   {
    "duration": 8,
    "start_time": "2021-08-15T16:31:10.444Z"
   },
   {
    "duration": 3,
    "start_time": "2021-08-15T16:31:10.453Z"
   },
   {
    "duration": 10,
    "start_time": "2021-08-15T16:31:10.458Z"
   },
   {
    "duration": 24,
    "start_time": "2021-08-15T16:31:10.469Z"
   },
   {
    "duration": 18,
    "start_time": "2021-08-15T16:31:10.494Z"
   },
   {
    "duration": 244,
    "start_time": "2021-08-15T16:31:40.591Z"
   },
   {
    "duration": 8,
    "start_time": "2021-08-15T16:32:13.385Z"
   },
   {
    "duration": 6,
    "start_time": "2021-08-15T16:32:19.424Z"
   },
   {
    "duration": 4,
    "start_time": "2021-08-15T16:32:36.315Z"
   },
   {
    "duration": 11,
    "start_time": "2021-08-15T16:32:45.020Z"
   },
   {
    "duration": 7,
    "start_time": "2021-08-15T16:33:29.348Z"
   },
   {
    "duration": 8,
    "start_time": "2021-08-15T16:37:35.080Z"
   },
   {
    "duration": 13,
    "start_time": "2021-08-15T16:37:53.609Z"
   },
   {
    "duration": 27,
    "start_time": "2021-08-15T16:38:41.688Z"
   },
   {
    "duration": 27,
    "start_time": "2021-08-15T16:39:58.491Z"
   },
   {
    "duration": 7,
    "start_time": "2021-08-15T16:40:02.580Z"
   },
   {
    "duration": 28,
    "start_time": "2021-08-15T16:40:04.082Z"
   },
   {
    "duration": 7,
    "start_time": "2021-08-15T16:41:49.346Z"
   },
   {
    "duration": 5748,
    "start_time": "2021-08-15T16:43:50.065Z"
   },
   {
    "duration": 3,
    "start_time": "2021-08-15T16:44:02.174Z"
   },
   {
    "duration": 65,
    "start_time": "2021-08-15T16:44:02.179Z"
   },
   {
    "duration": 6,
    "start_time": "2021-08-15T16:44:02.245Z"
   },
   {
    "duration": 34,
    "start_time": "2021-08-15T16:44:02.253Z"
   },
   {
    "duration": 8,
    "start_time": "2021-08-15T16:44:02.288Z"
   },
   {
    "duration": 8,
    "start_time": "2021-08-15T16:44:02.298Z"
   },
   {
    "duration": 10,
    "start_time": "2021-08-15T16:44:02.308Z"
   },
   {
    "duration": 13,
    "start_time": "2021-08-15T16:44:02.320Z"
   },
   {
    "duration": 22,
    "start_time": "2021-08-15T16:44:02.335Z"
   },
   {
    "duration": 15,
    "start_time": "2021-08-15T16:44:02.358Z"
   },
   {
    "duration": 25,
    "start_time": "2021-08-15T16:44:02.375Z"
   },
   {
    "duration": 10,
    "start_time": "2021-08-15T16:44:02.402Z"
   },
   {
    "duration": 21,
    "start_time": "2021-08-15T16:44:02.413Z"
   },
   {
    "duration": 40,
    "start_time": "2021-08-15T16:44:02.435Z"
   },
   {
    "duration": 2,
    "start_time": "2021-08-15T16:44:02.477Z"
   },
   {
    "duration": 41,
    "start_time": "2021-08-15T16:44:02.481Z"
   },
   {
    "duration": 5,
    "start_time": "2021-08-15T16:44:02.524Z"
   },
   {
    "duration": 5652,
    "start_time": "2021-08-15T16:44:02.530Z"
   },
   {
    "duration": -68,
    "start_time": "2021-08-15T16:44:08.252Z"
   },
   {
    "duration": 5,
    "start_time": "2021-08-15T16:44:23.683Z"
   },
   {
    "duration": 12,
    "start_time": "2021-08-15T16:44:27.339Z"
   },
   {
    "duration": 18,
    "start_time": "2021-08-15T16:47:35.103Z"
   },
   {
    "duration": 13,
    "start_time": "2021-08-15T16:51:04.386Z"
   },
   {
    "duration": 191,
    "start_time": "2021-08-15T16:53:56.185Z"
   },
   {
    "duration": 963,
    "start_time": "2021-08-17T16:50:11.732Z"
   },
   {
    "duration": 75,
    "start_time": "2021-08-17T16:50:12.697Z"
   },
   {
    "duration": 14,
    "start_time": "2021-08-17T16:50:12.775Z"
   },
   {
    "duration": 51,
    "start_time": "2021-08-17T16:50:12.792Z"
   },
   {
    "duration": 43,
    "start_time": "2021-08-17T16:50:12.846Z"
   },
   {
    "duration": 4,
    "start_time": "2021-08-17T16:50:12.892Z"
   },
   {
    "duration": 24,
    "start_time": "2021-08-17T16:50:12.899Z"
   },
   {
    "duration": 7,
    "start_time": "2021-08-17T16:50:12.927Z"
   },
   {
    "duration": 53,
    "start_time": "2021-08-17T16:50:12.937Z"
   },
   {
    "duration": 5,
    "start_time": "2021-08-17T16:50:12.993Z"
   },
   {
    "duration": 37,
    "start_time": "2021-08-17T16:50:13.001Z"
   },
   {
    "duration": 30,
    "start_time": "2021-08-17T16:50:13.040Z"
   },
   {
    "duration": 30,
    "start_time": "2021-08-17T16:50:13.074Z"
   },
   {
    "duration": 53,
    "start_time": "2021-08-17T16:50:13.108Z"
   },
   {
    "duration": 30,
    "start_time": "2021-08-17T16:50:13.164Z"
   },
   {
    "duration": 54,
    "start_time": "2021-08-17T16:50:13.196Z"
   },
   {
    "duration": 9,
    "start_time": "2021-08-17T16:50:13.252Z"
   },
   {
    "duration": 27,
    "start_time": "2021-08-17T16:50:13.264Z"
   },
   {
    "duration": 38,
    "start_time": "2021-08-17T16:50:13.293Z"
   },
   {
    "duration": 107,
    "start_time": "2021-08-17T16:50:13.334Z"
   },
   {
    "duration": 26,
    "start_time": "2021-08-17T16:50:13.444Z"
   },
   {
    "duration": 857,
    "start_time": "2021-08-17T16:51:23.151Z"
   },
   {
    "duration": 10575,
    "start_time": "2021-08-17T16:52:02.489Z"
   },
   {
    "duration": 25,
    "start_time": "2021-08-17T16:52:32.067Z"
   },
   {
    "duration": 398,
    "start_time": "2021-08-17T16:52:56.929Z"
   },
   {
    "duration": 44,
    "start_time": "2021-08-17T16:53:02.729Z"
   },
   {
    "duration": 32,
    "start_time": "2021-08-17T17:05:24.510Z"
   },
   {
    "duration": 501,
    "start_time": "2021-08-17T17:06:04.191Z"
   },
   {
    "duration": 399,
    "start_time": "2021-08-17T17:07:26.469Z"
   },
   {
    "duration": 25,
    "start_time": "2021-08-17T17:07:39.836Z"
   },
   {
    "duration": 27,
    "start_time": "2021-08-17T17:07:55.901Z"
   },
   {
    "duration": 23,
    "start_time": "2021-08-17T17:08:27.356Z"
   },
   {
    "duration": 19,
    "start_time": "2021-08-17T17:18:19.933Z"
   },
   {
    "duration": 17,
    "start_time": "2021-08-17T17:18:52.292Z"
   },
   {
    "duration": 29,
    "start_time": "2021-08-17T17:23:01.015Z"
   },
   {
    "duration": 27,
    "start_time": "2021-08-17T17:23:23.810Z"
   },
   {
    "duration": 1109,
    "start_time": "2021-08-17T17:30:24.293Z"
   },
   {
    "duration": 399,
    "start_time": "2021-08-17T17:31:48.666Z"
   },
   {
    "duration": 516,
    "start_time": "2021-08-17T17:32:22.873Z"
   },
   {
    "duration": 383,
    "start_time": "2021-08-17T17:33:47.863Z"
   },
   {
    "duration": 403,
    "start_time": "2021-08-17T17:34:07.831Z"
   },
   {
    "duration": 376,
    "start_time": "2021-08-17T17:46:14.624Z"
   },
   {
    "duration": 133,
    "start_time": "2021-08-17T17:49:23.411Z"
   },
   {
    "duration": 271,
    "start_time": "2021-08-17T17:49:36.602Z"
   },
   {
    "duration": 1809,
    "start_time": "2021-08-17T18:21:23.051Z"
   },
   {
    "duration": 808,
    "start_time": "2021-08-18T16:58:42.461Z"
   },
   {
    "duration": 76,
    "start_time": "2021-08-18T16:58:43.271Z"
   },
   {
    "duration": 11,
    "start_time": "2021-08-18T16:58:43.350Z"
   },
   {
    "duration": 46,
    "start_time": "2021-08-18T16:58:43.363Z"
   },
   {
    "duration": 36,
    "start_time": "2021-08-18T16:58:43.411Z"
   },
   {
    "duration": 5,
    "start_time": "2021-08-18T16:58:43.449Z"
   },
   {
    "duration": 17,
    "start_time": "2021-08-18T16:58:43.456Z"
   },
   {
    "duration": 7,
    "start_time": "2021-08-18T16:58:43.477Z"
   },
   {
    "duration": 9,
    "start_time": "2021-08-18T16:58:43.487Z"
   },
   {
    "duration": 47,
    "start_time": "2021-08-18T16:58:43.498Z"
   },
   {
    "duration": 19,
    "start_time": "2021-08-18T16:58:43.548Z"
   },
   {
    "duration": 10,
    "start_time": "2021-08-18T16:58:43.569Z"
   },
   {
    "duration": 15,
    "start_time": "2021-08-18T16:58:43.581Z"
   },
   {
    "duration": 70,
    "start_time": "2021-08-18T16:58:43.597Z"
   },
   {
    "duration": 8,
    "start_time": "2021-08-18T16:58:43.669Z"
   },
   {
    "duration": 32,
    "start_time": "2021-08-18T16:58:43.679Z"
   },
   {
    "duration": 32,
    "start_time": "2021-08-18T16:58:43.713Z"
   },
   {
    "duration": 6,
    "start_time": "2021-08-18T16:58:43.747Z"
   },
   {
    "duration": 19,
    "start_time": "2021-08-18T16:58:43.755Z"
   },
   {
    "duration": 19,
    "start_time": "2021-08-18T16:58:43.776Z"
   },
   {
    "duration": 71,
    "start_time": "2021-08-18T16:58:43.798Z"
   },
   {
    "duration": 12,
    "start_time": "2021-08-18T16:58:43.871Z"
   },
   {
    "duration": 13,
    "start_time": "2021-08-18T16:58:43.886Z"
   },
   {
    "duration": 1204,
    "start_time": "2021-08-18T16:58:43.901Z"
   },
   {
    "duration": 5,
    "start_time": "2021-08-18T16:58:45.107Z"
   },
   {
    "duration": 32,
    "start_time": "2021-08-18T16:58:45.114Z"
   },
   {
    "duration": 13,
    "start_time": "2021-08-18T16:59:34.600Z"
   },
   {
    "duration": 13,
    "start_time": "2021-08-18T17:15:04.421Z"
   },
   {
    "duration": 3,
    "start_time": "2021-08-18T17:21:45.533Z"
   },
   {
    "duration": 69,
    "start_time": "2021-08-18T17:21:45.538Z"
   },
   {
    "duration": 8,
    "start_time": "2021-08-18T17:21:45.610Z"
   },
   {
    "duration": 92,
    "start_time": "2021-08-18T17:21:45.620Z"
   },
   {
    "duration": 13,
    "start_time": "2021-08-18T17:21:45.714Z"
   },
   {
    "duration": 16,
    "start_time": "2021-08-18T17:21:45.729Z"
   },
   {
    "duration": 20,
    "start_time": "2021-08-18T17:21:45.748Z"
   },
   {
    "duration": 6,
    "start_time": "2021-08-18T17:21:45.770Z"
   },
   {
    "duration": 16,
    "start_time": "2021-08-18T17:21:45.779Z"
   },
   {
    "duration": 9,
    "start_time": "2021-08-18T17:21:45.797Z"
   },
   {
    "duration": 38,
    "start_time": "2021-08-18T17:21:45.808Z"
   },
   {
    "duration": 16,
    "start_time": "2021-08-18T17:21:45.849Z"
   },
   {
    "duration": 20,
    "start_time": "2021-08-18T17:21:45.867Z"
   },
   {
    "duration": 32,
    "start_time": "2021-08-18T17:21:45.890Z"
   },
   {
    "duration": 4,
    "start_time": "2021-08-18T17:21:45.923Z"
   },
   {
    "duration": 53,
    "start_time": "2021-08-18T17:21:45.945Z"
   },
   {
    "duration": 10,
    "start_time": "2021-08-18T17:21:46.000Z"
   },
   {
    "duration": 37,
    "start_time": "2021-08-18T17:21:46.012Z"
   },
   {
    "duration": 21,
    "start_time": "2021-08-18T17:21:46.051Z"
   },
   {
    "duration": 28,
    "start_time": "2021-08-18T17:21:46.074Z"
   },
   {
    "duration": 52,
    "start_time": "2021-08-18T17:21:46.104Z"
   },
   {
    "duration": 15,
    "start_time": "2021-08-18T17:21:46.158Z"
   },
   {
    "duration": 18,
    "start_time": "2021-08-18T17:21:46.176Z"
   },
   {
    "duration": 1294,
    "start_time": "2021-08-18T17:21:46.196Z"
   },
   {
    "duration": 6,
    "start_time": "2021-08-18T17:21:47.492Z"
   },
   {
    "duration": 14,
    "start_time": "2021-08-18T17:21:47.500Z"
   },
   {
    "duration": 793,
    "start_time": "2021-08-18T17:21:47.517Z"
   },
   {
    "duration": 774,
    "start_time": "2021-08-18T17:22:03.310Z"
   },
   {
    "duration": 1217,
    "start_time": "2021-08-18T17:22:35.078Z"
   },
   {
    "duration": 1098,
    "start_time": "2021-08-18T17:23:51.486Z"
   },
   {
    "duration": 20,
    "start_time": "2021-08-18T17:24:17.635Z"
   },
   {
    "duration": 1147,
    "start_time": "2021-08-18T17:26:17.754Z"
   },
   {
    "duration": 1054,
    "start_time": "2021-08-18T17:27:49.097Z"
   },
   {
    "duration": 13,
    "start_time": "2021-08-18T17:49:00.934Z"
   },
   {
    "duration": 690,
    "start_time": "2021-08-18T17:51:24.409Z"
   },
   {
    "duration": 3,
    "start_time": "2021-08-18T17:51:38.148Z"
   },
   {
    "duration": 55,
    "start_time": "2021-08-18T17:51:38.154Z"
   },
   {
    "duration": 7,
    "start_time": "2021-08-18T17:51:38.211Z"
   },
   {
    "duration": 56,
    "start_time": "2021-08-18T17:51:38.220Z"
   },
   {
    "duration": 11,
    "start_time": "2021-08-18T17:51:38.277Z"
   },
   {
    "duration": 11,
    "start_time": "2021-08-18T17:51:38.289Z"
   },
   {
    "duration": 17,
    "start_time": "2021-08-18T17:51:38.302Z"
   },
   {
    "duration": 25,
    "start_time": "2021-08-18T17:51:38.322Z"
   },
   {
    "duration": 16,
    "start_time": "2021-08-18T17:51:38.350Z"
   },
   {
    "duration": 10,
    "start_time": "2021-08-18T17:51:38.368Z"
   },
   {
    "duration": 23,
    "start_time": "2021-08-18T17:51:38.379Z"
   },
   {
    "duration": 23,
    "start_time": "2021-08-18T17:51:38.403Z"
   },
   {
    "duration": 18,
    "start_time": "2021-08-18T17:51:38.428Z"
   },
   {
    "duration": 34,
    "start_time": "2021-08-18T17:51:38.448Z"
   },
   {
    "duration": 3,
    "start_time": "2021-08-18T17:51:38.483Z"
   },
   {
    "duration": 34,
    "start_time": "2021-08-18T17:51:38.488Z"
   },
   {
    "duration": 14,
    "start_time": "2021-08-18T17:51:38.546Z"
   },
   {
    "duration": 9,
    "start_time": "2021-08-18T17:51:38.562Z"
   },
   {
    "duration": 16,
    "start_time": "2021-08-18T17:51:38.573Z"
   },
   {
    "duration": 22,
    "start_time": "2021-08-18T17:51:38.591Z"
   },
   {
    "duration": 58,
    "start_time": "2021-08-18T17:51:38.614Z"
   },
   {
    "duration": 13,
    "start_time": "2021-08-18T17:51:38.674Z"
   },
   {
    "duration": 13,
    "start_time": "2021-08-18T17:51:38.690Z"
   },
   {
    "duration": 1280,
    "start_time": "2021-08-18T17:51:38.705Z"
   },
   {
    "duration": 6,
    "start_time": "2021-08-18T17:51:39.987Z"
   },
   {
    "duration": 19,
    "start_time": "2021-08-18T17:51:39.994Z"
   },
   {
    "duration": 701,
    "start_time": "2021-08-18T17:51:40.014Z"
   },
   {
    "duration": 812,
    "start_time": "2021-08-18T17:52:40.516Z"
   },
   {
    "duration": 15,
    "start_time": "2021-08-18T17:57:45.640Z"
   },
   {
    "duration": 768,
    "start_time": "2021-08-18T17:58:19.594Z"
   },
   {
    "duration": 392,
    "start_time": "2021-08-18T18:03:29.499Z"
   },
   {
    "duration": 144,
    "start_time": "2021-08-18T18:03:40.117Z"
   },
   {
    "duration": 882,
    "start_time": "2021-08-19T14:46:33.681Z"
   },
   {
    "duration": 70,
    "start_time": "2021-08-19T14:46:34.565Z"
   },
   {
    "duration": 11,
    "start_time": "2021-08-19T14:46:34.639Z"
   },
   {
    "duration": 64,
    "start_time": "2021-08-19T14:46:34.653Z"
   },
   {
    "duration": 15,
    "start_time": "2021-08-19T14:46:34.720Z"
   },
   {
    "duration": 5,
    "start_time": "2021-08-19T14:46:34.737Z"
   },
   {
    "duration": 16,
    "start_time": "2021-08-19T14:46:34.744Z"
   },
   {
    "duration": 40,
    "start_time": "2021-08-19T14:46:34.764Z"
   },
   {
    "duration": 9,
    "start_time": "2021-08-19T14:46:34.807Z"
   },
   {
    "duration": 6,
    "start_time": "2021-08-19T14:46:34.818Z"
   },
   {
    "duration": 22,
    "start_time": "2021-08-19T14:46:34.827Z"
   },
   {
    "duration": 49,
    "start_time": "2021-08-19T14:46:34.851Z"
   },
   {
    "duration": 14,
    "start_time": "2021-08-19T14:46:34.903Z"
   },
   {
    "duration": 44,
    "start_time": "2021-08-19T14:46:34.920Z"
   },
   {
    "duration": 5,
    "start_time": "2021-08-19T14:46:34.967Z"
   },
   {
    "duration": 47,
    "start_time": "2021-08-19T14:46:35.001Z"
   },
   {
    "duration": 8,
    "start_time": "2021-08-19T14:46:35.050Z"
   },
   {
    "duration": 16,
    "start_time": "2021-08-19T14:46:35.061Z"
   },
   {
    "duration": 40,
    "start_time": "2021-08-19T14:46:35.079Z"
   },
   {
    "duration": 38,
    "start_time": "2021-08-19T14:46:35.122Z"
   },
   {
    "duration": 51,
    "start_time": "2021-08-19T14:46:35.163Z"
   },
   {
    "duration": 16,
    "start_time": "2021-08-19T14:46:35.217Z"
   },
   {
    "duration": 16,
    "start_time": "2021-08-19T14:46:35.237Z"
   },
   {
    "duration": 1745,
    "start_time": "2021-08-19T14:46:35.255Z"
   },
   {
    "duration": 8,
    "start_time": "2021-08-19T14:46:37.002Z"
   },
   {
    "duration": 20,
    "start_time": "2021-08-19T14:46:37.013Z"
   },
   {
    "duration": 1269,
    "start_time": "2021-08-19T14:46:37.035Z"
   },
   {
    "duration": 284,
    "start_time": "2021-08-19T14:46:38.306Z"
   },
   {
    "duration": 1570,
    "start_time": "2021-08-19T14:46:55.948Z"
   },
   {
    "duration": 1182,
    "start_time": "2021-08-19T14:47:24.389Z"
   },
   {
    "duration": 213,
    "start_time": "2021-08-19T14:48:33.555Z"
   },
   {
    "duration": 192,
    "start_time": "2021-08-19T14:48:53.201Z"
   },
   {
    "duration": 8906,
    "start_time": "2021-08-19T15:03:51.566Z"
   },
   {
    "duration": 372,
    "start_time": "2021-08-19T15:04:20.047Z"
   },
   {
    "duration": 178,
    "start_time": "2021-08-19T15:04:35.879Z"
   },
   {
    "duration": 17,
    "start_time": "2021-08-19T15:04:48.657Z"
   },
   {
    "duration": 54,
    "start_time": "2021-08-19T15:11:35.890Z"
   },
   {
    "duration": 4,
    "start_time": "2021-08-19T15:12:45.650Z"
   },
   {
    "duration": 82,
    "start_time": "2021-08-19T15:12:45.658Z"
   },
   {
    "duration": 9,
    "start_time": "2021-08-19T15:12:45.743Z"
   },
   {
    "duration": 70,
    "start_time": "2021-08-19T15:12:45.754Z"
   },
   {
    "duration": 12,
    "start_time": "2021-08-19T15:12:45.827Z"
   },
   {
    "duration": 9,
    "start_time": "2021-08-19T15:12:45.841Z"
   },
   {
    "duration": 16,
    "start_time": "2021-08-19T15:12:45.854Z"
   },
   {
    "duration": 31,
    "start_time": "2021-08-19T15:12:45.873Z"
   },
   {
    "duration": 15,
    "start_time": "2021-08-19T15:12:45.906Z"
   },
   {
    "duration": 5,
    "start_time": "2021-08-19T15:12:45.923Z"
   },
   {
    "duration": 22,
    "start_time": "2021-08-19T15:12:45.930Z"
   },
   {
    "duration": 16,
    "start_time": "2021-08-19T15:12:45.954Z"
   },
   {
    "duration": 43,
    "start_time": "2021-08-19T15:12:45.972Z"
   },
   {
    "duration": 50,
    "start_time": "2021-08-19T15:12:46.018Z"
   },
   {
    "duration": 4,
    "start_time": "2021-08-19T15:12:46.070Z"
   },
   {
    "duration": 47,
    "start_time": "2021-08-19T15:12:46.101Z"
   },
   {
    "duration": 8,
    "start_time": "2021-08-19T15:12:46.151Z"
   },
   {
    "duration": 38,
    "start_time": "2021-08-19T15:12:46.162Z"
   },
   {
    "duration": 22,
    "start_time": "2021-08-19T15:12:46.205Z"
   },
   {
    "duration": 35,
    "start_time": "2021-08-19T15:12:46.230Z"
   },
   {
    "duration": 86,
    "start_time": "2021-08-19T15:12:46.267Z"
   },
   {
    "duration": 20,
    "start_time": "2021-08-19T15:12:46.356Z"
   },
   {
    "duration": 40,
    "start_time": "2021-08-19T15:12:46.379Z"
   },
   {
    "duration": 1806,
    "start_time": "2021-08-19T15:12:46.421Z"
   },
   {
    "duration": 10,
    "start_time": "2021-08-19T15:12:48.230Z"
   },
   {
    "duration": 28,
    "start_time": "2021-08-19T15:12:48.243Z"
   },
   {
    "duration": 1272,
    "start_time": "2021-08-19T15:12:48.300Z"
   },
   {
    "duration": 219,
    "start_time": "2021-08-19T15:12:49.575Z"
   },
   {
    "duration": 33,
    "start_time": "2021-08-19T15:12:49.801Z"
   },
   {
    "duration": 17,
    "start_time": "2021-08-19T15:19:13.772Z"
   },
   {
    "duration": 17,
    "start_time": "2021-08-19T15:19:42.633Z"
   },
   {
    "duration": 18,
    "start_time": "2021-08-19T15:19:56.674Z"
   },
   {
    "duration": 1897,
    "start_time": "2021-08-19T15:20:43.362Z"
   },
   {
    "duration": 22,
    "start_time": "2021-08-19T15:21:34.823Z"
   },
   {
    "duration": 16,
    "start_time": "2021-08-19T15:42:54.407Z"
   },
   {
    "duration": 17,
    "start_time": "2021-08-19T15:43:18.188Z"
   },
   {
    "duration": 16,
    "start_time": "2021-08-19T15:43:36.422Z"
   },
   {
    "duration": 19,
    "start_time": "2021-08-19T15:43:46.326Z"
   },
   {
    "duration": 15,
    "start_time": "2021-08-19T15:43:58.251Z"
   },
   {
    "duration": 16,
    "start_time": "2021-08-19T15:46:46.161Z"
   },
   {
    "duration": 17,
    "start_time": "2021-08-19T15:47:28.490Z"
   },
   {
    "duration": 16,
    "start_time": "2021-08-19T15:49:16.817Z"
   },
   {
    "duration": 391,
    "start_time": "2021-08-19T15:50:32.425Z"
   },
   {
    "duration": 19,
    "start_time": "2021-08-19T15:50:40.038Z"
   },
   {
    "duration": 16,
    "start_time": "2021-08-19T15:51:35.656Z"
   },
   {
    "duration": 299,
    "start_time": "2021-08-19T15:52:17.764Z"
   },
   {
    "duration": 16,
    "start_time": "2021-08-19T15:52:29.713Z"
   },
   {
    "duration": 16,
    "start_time": "2021-08-19T15:53:43.136Z"
   },
   {
    "duration": 17,
    "start_time": "2021-08-19T15:53:52.988Z"
   },
   {
    "duration": 17,
    "start_time": "2021-08-19T15:54:30.171Z"
   },
   {
    "duration": 17,
    "start_time": "2021-08-19T15:54:59.003Z"
   },
   {
    "duration": 412,
    "start_time": "2021-08-19T16:18:24.561Z"
   },
   {
    "duration": 419,
    "start_time": "2021-08-19T16:19:08.807Z"
   },
   {
    "duration": 515,
    "start_time": "2021-08-19T16:19:36.473Z"
   },
   {
    "duration": 68,
    "start_time": "2021-08-19T16:19:36.991Z"
   },
   {
    "duration": 9,
    "start_time": "2021-08-19T16:19:37.062Z"
   },
   {
    "duration": 61,
    "start_time": "2021-08-19T16:19:37.073Z"
   },
   {
    "duration": 16,
    "start_time": "2021-08-19T16:19:37.136Z"
   },
   {
    "duration": 5,
    "start_time": "2021-08-19T16:19:37.155Z"
   },
   {
    "duration": 46,
    "start_time": "2021-08-19T16:19:37.163Z"
   },
   {
    "duration": 8,
    "start_time": "2021-08-19T16:19:37.215Z"
   },
   {
    "duration": 9,
    "start_time": "2021-08-19T16:19:37.227Z"
   },
   {
    "duration": 7,
    "start_time": "2021-08-19T16:19:37.238Z"
   },
   {
    "duration": 58,
    "start_time": "2021-08-19T16:19:37.247Z"
   },
   {
    "duration": 15,
    "start_time": "2021-08-19T16:19:37.307Z"
   },
   {
    "duration": 15,
    "start_time": "2021-08-19T16:19:37.325Z"
   },
   {
    "duration": 72,
    "start_time": "2021-08-19T16:19:37.342Z"
   },
   {
    "duration": 4,
    "start_time": "2021-08-19T16:19:37.417Z"
   },
   {
    "duration": 51,
    "start_time": "2021-08-19T16:19:37.424Z"
   },
   {
    "duration": 27,
    "start_time": "2021-08-19T16:19:37.478Z"
   },
   {
    "duration": 9,
    "start_time": "2021-08-19T16:19:37.508Z"
   },
   {
    "duration": 20,
    "start_time": "2021-08-19T16:19:37.520Z"
   },
   {
    "duration": 59,
    "start_time": "2021-08-19T16:19:37.543Z"
   },
   {
    "duration": 41,
    "start_time": "2021-08-19T16:19:37.606Z"
   },
   {
    "duration": 18,
    "start_time": "2021-08-19T16:19:37.650Z"
   },
   {
    "duration": 18,
    "start_time": "2021-08-19T16:19:37.703Z"
   },
   {
    "duration": 1758,
    "start_time": "2021-08-19T16:19:37.725Z"
   },
   {
    "duration": 19,
    "start_time": "2021-08-19T16:19:39.486Z"
   },
   {
    "duration": 24,
    "start_time": "2021-08-19T16:19:39.508Z"
   },
   {
    "duration": 1246,
    "start_time": "2021-08-19T16:19:39.535Z"
   },
   {
    "duration": 209,
    "start_time": "2021-08-19T16:19:40.783Z"
   },
   {
    "duration": 33,
    "start_time": "2021-08-19T16:19:40.994Z"
   },
   {
    "duration": 21,
    "start_time": "2021-08-19T16:19:41.030Z"
   },
   {
    "duration": 47,
    "start_time": "2021-08-19T16:19:41.053Z"
   },
   {
    "duration": 15,
    "start_time": "2021-08-19T16:19:41.103Z"
   },
   {
    "duration": 14,
    "start_time": "2021-08-19T16:19:41.121Z"
   },
   {
    "duration": 15,
    "start_time": "2021-08-19T16:19:41.138Z"
   },
   {
    "duration": 57,
    "start_time": "2021-08-19T16:19:41.155Z"
   },
   {
    "duration": 16,
    "start_time": "2021-08-19T16:19:41.215Z"
   },
   {
    "duration": 16,
    "start_time": "2021-08-19T16:19:41.233Z"
   },
   {
    "duration": 50,
    "start_time": "2021-08-19T16:19:41.251Z"
   },
   {
    "duration": 23,
    "start_time": "2021-08-19T16:19:41.304Z"
   },
   {
    "duration": 17,
    "start_time": "2021-08-19T16:19:41.330Z"
   },
   {
    "duration": 19,
    "start_time": "2021-08-19T16:20:16.337Z"
   },
   {
    "duration": 16,
    "start_time": "2021-08-19T16:20:34.967Z"
   },
   {
    "duration": 14,
    "start_time": "2021-08-19T16:20:47.224Z"
   },
   {
    "duration": 16,
    "start_time": "2021-08-19T16:23:32.209Z"
   },
   {
    "duration": 19,
    "start_time": "2021-08-19T16:23:58.488Z"
   },
   {
    "duration": 23,
    "start_time": "2021-08-19T16:24:51.825Z"
   },
   {
    "duration": 22,
    "start_time": "2021-08-19T16:25:15.599Z"
   },
   {
    "duration": 30,
    "start_time": "2021-08-19T16:26:58.228Z"
   },
   {
    "duration": 5,
    "start_time": "2021-08-19T17:17:02.619Z"
   },
   {
    "duration": 32,
    "start_time": "2021-08-19T17:28:11.670Z"
   },
   {
    "duration": 17,
    "start_time": "2021-08-19T17:29:03.537Z"
   },
   {
    "duration": 121,
    "start_time": "2021-08-19T17:29:45.480Z"
   },
   {
    "duration": 1519,
    "start_time": "2021-08-19T17:29:51.004Z"
   },
   {
    "duration": 1487,
    "start_time": "2021-08-19T17:30:01.748Z"
   },
   {
    "duration": 1428,
    "start_time": "2021-08-19T17:30:13.791Z"
   },
   {
    "duration": 16,
    "start_time": "2021-08-19T17:30:18.830Z"
   },
   {
    "duration": 19,
    "start_time": "2021-08-19T17:30:28.482Z"
   },
   {
    "duration": 21,
    "start_time": "2021-08-19T17:30:36.743Z"
   },
   {
    "duration": 380,
    "start_time": "2021-08-19T17:30:44.657Z"
   },
   {
    "duration": 20,
    "start_time": "2021-08-19T17:30:56.206Z"
   },
   {
    "duration": 1814,
    "start_time": "2021-08-19T17:33:30.150Z"
   },
   {
    "duration": 987,
    "start_time": "2021-08-19T20:59:39.934Z"
   },
   {
    "duration": 54,
    "start_time": "2021-08-19T20:59:40.923Z"
   },
   {
    "duration": 6,
    "start_time": "2021-08-19T20:59:40.979Z"
   },
   {
    "duration": 26,
    "start_time": "2021-08-19T20:59:40.987Z"
   },
   {
    "duration": 9,
    "start_time": "2021-08-19T20:59:41.014Z"
   },
   {
    "duration": 3,
    "start_time": "2021-08-19T20:59:41.025Z"
   },
   {
    "duration": 27,
    "start_time": "2021-08-19T20:59:41.029Z"
   },
   {
    "duration": 5,
    "start_time": "2021-08-19T20:59:41.058Z"
   },
   {
    "duration": 8,
    "start_time": "2021-08-19T20:59:41.064Z"
   },
   {
    "duration": 4,
    "start_time": "2021-08-19T20:59:41.073Z"
   },
   {
    "duration": 14,
    "start_time": "2021-08-19T20:59:41.079Z"
   },
   {
    "duration": 7,
    "start_time": "2021-08-19T20:59:41.095Z"
   },
   {
    "duration": 46,
    "start_time": "2021-08-19T20:59:41.104Z"
   },
   {
    "duration": 28,
    "start_time": "2021-08-19T20:59:41.151Z"
   },
   {
    "duration": 8,
    "start_time": "2021-08-19T20:59:41.181Z"
   },
   {
    "duration": 29,
    "start_time": "2021-08-19T20:59:41.190Z"
   },
   {
    "duration": 6,
    "start_time": "2021-08-19T20:59:41.220Z"
   },
   {
    "duration": 15,
    "start_time": "2021-08-19T20:59:41.227Z"
   },
   {
    "duration": 14,
    "start_time": "2021-08-19T20:59:41.247Z"
   },
   {
    "duration": 16,
    "start_time": "2021-08-19T20:59:41.262Z"
   },
   {
    "duration": 19,
    "start_time": "2021-08-19T20:59:41.280Z"
   },
   {
    "duration": 12,
    "start_time": "2021-08-19T20:59:41.300Z"
   },
   {
    "duration": 42,
    "start_time": "2021-08-19T20:59:41.314Z"
   },
   {
    "duration": 1006,
    "start_time": "2021-08-19T20:59:41.358Z"
   },
   {
    "duration": 7,
    "start_time": "2021-08-19T20:59:42.366Z"
   },
   {
    "duration": 14,
    "start_time": "2021-08-19T20:59:42.375Z"
   },
   {
    "duration": 744,
    "start_time": "2021-08-19T20:59:42.391Z"
   },
   {
    "duration": 135,
    "start_time": "2021-08-19T20:59:43.141Z"
   },
   {
    "duration": 20,
    "start_time": "2021-08-19T20:59:43.277Z"
   },
   {
    "duration": 12,
    "start_time": "2021-08-19T20:59:43.299Z"
   },
   {
    "duration": 8,
    "start_time": "2021-08-19T20:59:43.313Z"
   },
   {
    "duration": 14,
    "start_time": "2021-08-19T20:59:43.341Z"
   },
   {
    "duration": 10,
    "start_time": "2021-08-19T20:59:43.356Z"
   },
   {
    "duration": 9,
    "start_time": "2021-08-19T20:59:43.367Z"
   },
   {
    "duration": 14,
    "start_time": "2021-08-19T20:59:43.378Z"
   },
   {
    "duration": 10,
    "start_time": "2021-08-19T20:59:43.393Z"
   },
   {
    "duration": 38,
    "start_time": "2021-08-19T20:59:43.404Z"
   },
   {
    "duration": 15,
    "start_time": "2021-08-19T20:59:43.443Z"
   },
   {
    "duration": 13,
    "start_time": "2021-08-19T20:59:43.460Z"
   },
   {
    "duration": 15,
    "start_time": "2021-08-19T20:59:43.474Z"
   },
   {
    "duration": 14,
    "start_time": "2021-08-19T20:59:43.490Z"
   },
   {
    "duration": 3,
    "start_time": "2021-08-19T21:09:36.238Z"
   },
   {
    "duration": 51,
    "start_time": "2021-08-19T21:09:36.244Z"
   },
   {
    "duration": 7,
    "start_time": "2021-08-19T21:09:36.297Z"
   },
   {
    "duration": 48,
    "start_time": "2021-08-19T21:09:36.306Z"
   },
   {
    "duration": 10,
    "start_time": "2021-08-19T21:09:36.356Z"
   },
   {
    "duration": 3,
    "start_time": "2021-08-19T21:09:36.368Z"
   },
   {
    "duration": 12,
    "start_time": "2021-08-19T21:09:36.374Z"
   },
   {
    "duration": 5,
    "start_time": "2021-08-19T21:09:36.388Z"
   },
   {
    "duration": 7,
    "start_time": "2021-08-19T21:09:36.394Z"
   },
   {
    "duration": 4,
    "start_time": "2021-08-19T21:09:36.402Z"
   },
   {
    "duration": 43,
    "start_time": "2021-08-19T21:09:36.407Z"
   },
   {
    "duration": 9,
    "start_time": "2021-08-19T21:09:36.451Z"
   },
   {
    "duration": 16,
    "start_time": "2021-08-19T21:09:36.462Z"
   },
   {
    "duration": 63,
    "start_time": "2021-08-19T21:09:36.479Z"
   },
   {
    "duration": 5,
    "start_time": "2021-08-19T21:09:36.544Z"
   },
   {
    "duration": 37,
    "start_time": "2021-08-19T21:09:36.550Z"
   },
   {
    "duration": 6,
    "start_time": "2021-08-19T21:09:36.589Z"
   },
   {
    "duration": 7,
    "start_time": "2021-08-19T21:09:36.596Z"
   },
   {
    "duration": 36,
    "start_time": "2021-08-19T21:09:36.606Z"
   },
   {
    "duration": 16,
    "start_time": "2021-08-19T21:09:36.644Z"
   },
   {
    "duration": 20,
    "start_time": "2021-08-19T21:09:36.662Z"
   },
   {
    "duration": 11,
    "start_time": "2021-08-19T21:09:36.684Z"
   },
   {
    "duration": 11,
    "start_time": "2021-08-19T21:09:36.696Z"
   },
   {
    "duration": 1022,
    "start_time": "2021-08-19T21:09:36.709Z"
   },
   {
    "duration": 11,
    "start_time": "2021-08-19T21:09:37.733Z"
   },
   {
    "duration": 16,
    "start_time": "2021-08-19T21:09:37.745Z"
   },
   {
    "duration": 650,
    "start_time": "2021-08-19T21:09:37.762Z"
   },
   {
    "duration": 122,
    "start_time": "2021-08-19T21:09:38.414Z"
   },
   {
    "duration": 19,
    "start_time": "2021-08-19T21:09:38.537Z"
   },
   {
    "duration": 13,
    "start_time": "2021-08-19T21:09:38.557Z"
   },
   {
    "duration": 9,
    "start_time": "2021-08-19T21:09:38.572Z"
   },
   {
    "duration": 9,
    "start_time": "2021-08-19T21:09:38.582Z"
   },
   {
    "duration": 9,
    "start_time": "2021-08-19T21:09:38.592Z"
   },
   {
    "duration": 46,
    "start_time": "2021-08-19T21:09:38.602Z"
   },
   {
    "duration": 12,
    "start_time": "2021-08-19T21:09:38.649Z"
   },
   {
    "duration": 10,
    "start_time": "2021-08-19T21:09:38.663Z"
   },
   {
    "duration": 12,
    "start_time": "2021-08-19T21:09:38.674Z"
   },
   {
    "duration": 10,
    "start_time": "2021-08-19T21:09:38.687Z"
   },
   {
    "duration": 10,
    "start_time": "2021-08-19T21:09:38.698Z"
   },
   {
    "duration": 13,
    "start_time": "2021-08-19T21:09:38.741Z"
   },
   {
    "duration": 12,
    "start_time": "2021-08-19T21:09:38.756Z"
   },
   {
    "duration": 114,
    "start_time": "2021-08-19T21:12:47.918Z"
   },
   {
    "duration": 21,
    "start_time": "2021-08-19T21:19:41.728Z"
   },
   {
    "duration": 21,
    "start_time": "2021-08-19T21:20:34.115Z"
   },
   {
    "duration": 22,
    "start_time": "2021-08-19T21:24:22.242Z"
   },
   {
    "duration": 23,
    "start_time": "2021-08-19T21:25:09.200Z"
   },
   {
    "duration": 16,
    "start_time": "2021-08-19T21:26:20.026Z"
   },
   {
    "duration": 702,
    "start_time": "2021-08-19T21:26:23.698Z"
   },
   {
    "duration": 723,
    "start_time": "2021-08-19T21:26:44.137Z"
   },
   {
    "duration": 741,
    "start_time": "2021-08-19T21:27:14.532Z"
   },
   {
    "duration": 7,
    "start_time": "2021-08-19T21:29:04.382Z"
   },
   {
    "duration": 3,
    "start_time": "2021-08-19T21:55:05.840Z"
   },
   {
    "duration": 84,
    "start_time": "2021-08-19T22:01:36.026Z"
   },
   {
    "duration": 1069,
    "start_time": "2021-08-19T22:24:50.231Z"
   },
   {
    "duration": 51,
    "start_time": "2021-08-19T22:24:51.302Z"
   },
   {
    "duration": 6,
    "start_time": "2021-08-19T22:24:51.355Z"
   },
   {
    "duration": 31,
    "start_time": "2021-08-19T22:24:51.362Z"
   },
   {
    "duration": 8,
    "start_time": "2021-08-19T22:24:51.395Z"
   },
   {
    "duration": 4,
    "start_time": "2021-08-19T22:24:51.405Z"
   },
   {
    "duration": 13,
    "start_time": "2021-08-19T22:24:51.410Z"
   },
   {
    "duration": 16,
    "start_time": "2021-08-19T22:24:51.426Z"
   },
   {
    "duration": 14,
    "start_time": "2021-08-19T22:24:51.444Z"
   },
   {
    "duration": 6,
    "start_time": "2021-08-19T22:24:51.459Z"
   },
   {
    "duration": 13,
    "start_time": "2021-08-19T22:24:51.467Z"
   },
   {
    "duration": 9,
    "start_time": "2021-08-19T22:24:51.481Z"
   },
   {
    "duration": 14,
    "start_time": "2021-08-19T22:24:51.492Z"
   },
   {
    "duration": 39,
    "start_time": "2021-08-19T22:24:51.508Z"
   },
   {
    "duration": 7,
    "start_time": "2021-08-19T22:24:51.549Z"
   },
   {
    "duration": 33,
    "start_time": "2021-08-19T22:24:51.557Z"
   },
   {
    "duration": 7,
    "start_time": "2021-08-19T22:24:51.592Z"
   },
   {
    "duration": 10,
    "start_time": "2021-08-19T22:24:51.600Z"
   },
   {
    "duration": 16,
    "start_time": "2021-08-19T22:24:51.611Z"
   },
   {
    "duration": 27,
    "start_time": "2021-08-19T22:24:51.628Z"
   },
   {
    "duration": 19,
    "start_time": "2021-08-19T22:24:51.657Z"
   },
   {
    "duration": 12,
    "start_time": "2021-08-19T22:24:51.678Z"
   },
   {
    "duration": 11,
    "start_time": "2021-08-19T22:24:51.693Z"
   },
   {
    "duration": 979,
    "start_time": "2021-08-19T22:24:51.706Z"
   },
   {
    "duration": 6,
    "start_time": "2021-08-19T22:24:52.687Z"
   },
   {
    "duration": 13,
    "start_time": "2021-08-19T22:24:52.695Z"
   },
   {
    "duration": 659,
    "start_time": "2021-08-19T22:24:52.710Z"
   },
   {
    "duration": 127,
    "start_time": "2021-08-19T22:24:53.371Z"
   },
   {
    "duration": 17,
    "start_time": "2021-08-19T22:24:53.500Z"
   },
   {
    "duration": 874,
    "start_time": "2021-08-19T22:24:53.518Z"
   },
   {
    "duration": 9,
    "start_time": "2021-08-19T22:24:54.394Z"
   },
   {
    "duration": 23,
    "start_time": "2021-08-19T22:24:54.404Z"
   },
   {
    "duration": 18,
    "start_time": "2021-08-19T22:24:54.429Z"
   },
   {
    "duration": 9,
    "start_time": "2021-08-19T22:24:54.449Z"
   },
   {
    "duration": 9,
    "start_time": "2021-08-19T22:24:54.460Z"
   },
   {
    "duration": 9,
    "start_time": "2021-08-19T22:24:54.470Z"
   },
   {
    "duration": 9,
    "start_time": "2021-08-19T22:24:54.481Z"
   },
   {
    "duration": 10,
    "start_time": "2021-08-19T22:24:54.491Z"
   },
   {
    "duration": 46,
    "start_time": "2021-08-19T22:24:54.503Z"
   },
   {
    "duration": 12,
    "start_time": "2021-08-19T22:24:54.551Z"
   },
   {
    "duration": 10,
    "start_time": "2021-08-19T22:24:54.564Z"
   },
   {
    "duration": 12,
    "start_time": "2021-08-19T22:24:54.575Z"
   },
   {
    "duration": 14,
    "start_time": "2021-08-19T22:24:54.588Z"
   },
   {
    "duration": 1013,
    "start_time": "2021-08-19T22:27:02.973Z"
   },
   {
    "duration": 58,
    "start_time": "2021-08-19T22:27:03.988Z"
   },
   {
    "duration": 7,
    "start_time": "2021-08-19T22:27:04.047Z"
   },
   {
    "duration": 33,
    "start_time": "2021-08-19T22:27:04.055Z"
   },
   {
    "duration": 8,
    "start_time": "2021-08-19T22:27:04.089Z"
   },
   {
    "duration": 3,
    "start_time": "2021-08-19T22:27:04.098Z"
   },
   {
    "duration": 11,
    "start_time": "2021-08-19T22:27:04.102Z"
   },
   {
    "duration": 4,
    "start_time": "2021-08-19T22:27:04.115Z"
   },
   {
    "duration": 24,
    "start_time": "2021-08-19T22:27:04.121Z"
   },
   {
    "duration": 4,
    "start_time": "2021-08-19T22:27:04.146Z"
   },
   {
    "duration": 10,
    "start_time": "2021-08-19T22:27:04.152Z"
   },
   {
    "duration": 8,
    "start_time": "2021-08-19T22:27:04.164Z"
   },
   {
    "duration": 10,
    "start_time": "2021-08-19T22:27:04.174Z"
   },
   {
    "duration": 28,
    "start_time": "2021-08-19T22:27:04.186Z"
   },
   {
    "duration": 7,
    "start_time": "2021-08-19T22:27:04.241Z"
   },
   {
    "duration": 28,
    "start_time": "2021-08-19T22:27:04.249Z"
   },
   {
    "duration": 6,
    "start_time": "2021-08-19T22:27:04.279Z"
   },
   {
    "duration": 5,
    "start_time": "2021-08-19T22:27:04.286Z"
   },
   {
    "duration": 16,
    "start_time": "2021-08-19T22:27:04.293Z"
   },
   {
    "duration": 32,
    "start_time": "2021-08-19T22:27:04.311Z"
   },
   {
    "duration": 19,
    "start_time": "2021-08-19T22:27:04.344Z"
   },
   {
    "duration": 11,
    "start_time": "2021-08-19T22:27:04.364Z"
   },
   {
    "duration": 11,
    "start_time": "2021-08-19T22:27:04.378Z"
   },
   {
    "duration": 965,
    "start_time": "2021-08-19T22:27:04.391Z"
   },
   {
    "duration": 7,
    "start_time": "2021-08-19T22:27:05.357Z"
   },
   {
    "duration": 17,
    "start_time": "2021-08-19T22:27:05.365Z"
   },
   {
    "duration": 649,
    "start_time": "2021-08-19T22:27:05.383Z"
   },
   {
    "duration": 124,
    "start_time": "2021-08-19T22:27:06.034Z"
   },
   {
    "duration": 17,
    "start_time": "2021-08-19T22:27:06.160Z"
   },
   {
    "duration": 828,
    "start_time": "2021-08-19T22:27:06.178Z"
   },
   {
    "duration": 9,
    "start_time": "2021-08-19T22:27:07.008Z"
   },
   {
    "duration": 31,
    "start_time": "2021-08-19T22:27:07.020Z"
   },
   {
    "duration": 11,
    "start_time": "2021-08-19T22:27:07.053Z"
   },
   {
    "duration": 13,
    "start_time": "2021-08-19T22:27:07.066Z"
   },
   {
    "duration": 11,
    "start_time": "2021-08-19T22:27:07.082Z"
   },
   {
    "duration": 46,
    "start_time": "2021-08-19T22:27:07.095Z"
   },
   {
    "duration": 13,
    "start_time": "2021-08-19T22:27:07.142Z"
   },
   {
    "duration": 12,
    "start_time": "2021-08-19T22:27:07.157Z"
   },
   {
    "duration": 10,
    "start_time": "2021-08-19T22:27:07.171Z"
   },
   {
    "duration": 12,
    "start_time": "2021-08-19T22:27:07.183Z"
   },
   {
    "duration": 46,
    "start_time": "2021-08-19T22:27:07.196Z"
   },
   {
    "duration": 15,
    "start_time": "2021-08-19T22:27:07.244Z"
   },
   {
    "duration": 1373,
    "start_time": "2021-08-20T07:40:09.770Z"
   },
   {
    "duration": 74,
    "start_time": "2021-08-20T07:40:11.146Z"
   },
   {
    "duration": 10,
    "start_time": "2021-08-20T07:40:11.223Z"
   },
   {
    "duration": 67,
    "start_time": "2021-08-20T07:40:11.236Z"
   },
   {
    "duration": 17,
    "start_time": "2021-08-20T07:40:11.306Z"
   },
   {
    "duration": 12,
    "start_time": "2021-08-20T07:40:11.326Z"
   },
   {
    "duration": 32,
    "start_time": "2021-08-20T07:40:11.340Z"
   },
   {
    "duration": 20,
    "start_time": "2021-08-20T07:40:11.375Z"
   },
   {
    "duration": 17,
    "start_time": "2021-08-20T07:40:11.401Z"
   },
   {
    "duration": 19,
    "start_time": "2021-08-20T07:40:11.422Z"
   },
   {
    "duration": 37,
    "start_time": "2021-08-20T07:40:11.444Z"
   },
   {
    "duration": 30,
    "start_time": "2021-08-20T07:40:11.487Z"
   },
   {
    "duration": 31,
    "start_time": "2021-08-20T07:40:11.519Z"
   },
   {
    "duration": 56,
    "start_time": "2021-08-20T07:40:11.553Z"
   },
   {
    "duration": 7,
    "start_time": "2021-08-20T07:40:11.611Z"
   },
   {
    "duration": 72,
    "start_time": "2021-08-20T07:40:11.620Z"
   },
   {
    "duration": 11,
    "start_time": "2021-08-20T07:40:11.694Z"
   },
   {
    "duration": 14,
    "start_time": "2021-08-20T07:40:11.708Z"
   },
   {
    "duration": 42,
    "start_time": "2021-08-20T07:40:11.724Z"
   },
   {
    "duration": 52,
    "start_time": "2021-08-20T07:40:11.768Z"
   },
   {
    "duration": 31,
    "start_time": "2021-08-20T07:40:11.822Z"
   },
   {
    "duration": 17,
    "start_time": "2021-08-20T07:40:11.855Z"
   },
   {
    "duration": 20,
    "start_time": "2021-08-20T07:40:11.885Z"
   },
   {
    "duration": 1765,
    "start_time": "2021-08-20T07:40:11.908Z"
   },
   {
    "duration": 19,
    "start_time": "2021-08-20T07:40:13.675Z"
   },
   {
    "duration": 29,
    "start_time": "2021-08-20T07:40:13.697Z"
   },
   {
    "duration": 1240,
    "start_time": "2021-08-20T07:40:13.731Z"
   },
   {
    "duration": 245,
    "start_time": "2021-08-20T07:40:14.974Z"
   },
   {
    "duration": 25,
    "start_time": "2021-08-20T07:40:15.222Z"
   },
   {
    "duration": 1607,
    "start_time": "2021-08-20T07:40:15.250Z"
   },
   {
    "duration": 23,
    "start_time": "2021-08-20T07:40:16.860Z"
   },
   {
    "duration": 28,
    "start_time": "2021-08-20T07:40:16.889Z"
   },
   {
    "duration": 15,
    "start_time": "2021-08-20T07:40:16.920Z"
   },
   {
    "duration": 13,
    "start_time": "2021-08-20T07:40:16.937Z"
   },
   {
    "duration": 55,
    "start_time": "2021-08-20T07:40:16.952Z"
   },
   {
    "duration": 19,
    "start_time": "2021-08-20T07:40:17.010Z"
   },
   {
    "duration": 16,
    "start_time": "2021-08-20T07:40:17.031Z"
   },
   {
    "duration": 21,
    "start_time": "2021-08-20T07:40:17.085Z"
   },
   {
    "duration": 18,
    "start_time": "2021-08-20T07:40:17.109Z"
   },
   {
    "duration": 15,
    "start_time": "2021-08-20T07:40:17.130Z"
   },
   {
    "duration": 52,
    "start_time": "2021-08-20T07:40:17.147Z"
   },
   {
    "duration": 27,
    "start_time": "2021-08-20T07:40:17.202Z"
   },
   {
    "duration": 20,
    "start_time": "2021-08-20T07:40:17.231Z"
   },
   {
    "duration": 1327,
    "start_time": "2021-08-20T17:19:44.408Z"
   },
   {
    "duration": 71,
    "start_time": "2021-08-20T17:19:45.738Z"
   },
   {
    "duration": 10,
    "start_time": "2021-08-20T17:19:45.813Z"
   },
   {
    "duration": 86,
    "start_time": "2021-08-20T17:19:45.826Z"
   },
   {
    "duration": 20,
    "start_time": "2021-08-20T17:19:45.916Z"
   },
   {
    "duration": 22,
    "start_time": "2021-08-20T17:19:45.940Z"
   },
   {
    "duration": 20,
    "start_time": "2021-08-20T17:19:45.965Z"
   },
   {
    "duration": 9,
    "start_time": "2021-08-20T17:19:45.990Z"
   },
   {
    "duration": 12,
    "start_time": "2021-08-20T17:19:46.003Z"
   },
   {
    "duration": 47,
    "start_time": "2021-08-20T17:19:46.019Z"
   },
   {
    "duration": 21,
    "start_time": "2021-08-20T17:19:46.068Z"
   },
   {
    "duration": 13,
    "start_time": "2021-08-20T17:19:46.092Z"
   },
   {
    "duration": 24,
    "start_time": "2021-08-20T17:19:46.108Z"
   },
   {
    "duration": 96,
    "start_time": "2021-08-20T17:19:46.135Z"
   },
   {
    "duration": 7,
    "start_time": "2021-08-20T17:19:46.234Z"
   },
   {
    "duration": 46,
    "start_time": "2021-08-20T17:19:46.263Z"
   },
   {
    "duration": 11,
    "start_time": "2021-08-20T17:19:46.311Z"
   },
   {
    "duration": 11,
    "start_time": "2021-08-20T17:19:46.363Z"
   },
   {
    "duration": 22,
    "start_time": "2021-08-20T17:19:46.380Z"
   },
   {
    "duration": 57,
    "start_time": "2021-08-20T17:19:46.405Z"
   },
   {
    "duration": 33,
    "start_time": "2021-08-20T17:19:46.464Z"
   },
   {
    "duration": 18,
    "start_time": "2021-08-20T17:19:46.500Z"
   },
   {
    "duration": 46,
    "start_time": "2021-08-20T17:19:46.523Z"
   },
   {
    "duration": 1862,
    "start_time": "2021-08-20T17:19:46.572Z"
   },
   {
    "duration": 8,
    "start_time": "2021-08-20T17:19:48.436Z"
   },
   {
    "duration": 36,
    "start_time": "2021-08-20T17:19:48.446Z"
   },
   {
    "duration": 1230,
    "start_time": "2021-08-20T17:19:48.484Z"
   },
   {
    "duration": 217,
    "start_time": "2021-08-20T17:19:49.716Z"
   },
   {
    "duration": 38,
    "start_time": "2021-08-20T17:19:49.935Z"
   },
   {
    "duration": 1351,
    "start_time": "2021-08-20T17:19:49.975Z"
   },
   {
    "duration": 13,
    "start_time": "2021-08-20T17:19:51.328Z"
   },
   {
    "duration": 39,
    "start_time": "2021-08-20T17:19:51.344Z"
   },
   {
    "duration": 19,
    "start_time": "2021-08-20T17:19:51.386Z"
   },
   {
    "duration": 56,
    "start_time": "2021-08-20T17:19:51.408Z"
   },
   {
    "duration": 18,
    "start_time": "2021-08-20T17:19:51.467Z"
   },
   {
    "duration": 18,
    "start_time": "2021-08-20T17:19:51.488Z"
   },
   {
    "duration": 57,
    "start_time": "2021-08-20T17:19:51.509Z"
   },
   {
    "duration": 17,
    "start_time": "2021-08-20T17:19:51.568Z"
   },
   {
    "duration": 16,
    "start_time": "2021-08-20T17:19:51.587Z"
   },
   {
    "duration": 16,
    "start_time": "2021-08-20T17:19:51.605Z"
   },
   {
    "duration": 49,
    "start_time": "2021-08-20T17:19:51.623Z"
   },
   {
    "duration": 21,
    "start_time": "2021-08-20T17:19:51.675Z"
   },
   {
    "duration": 24,
    "start_time": "2021-08-20T17:19:51.698Z"
   },
   {
    "duration": 4,
    "start_time": "2021-08-20T17:30:22.364Z"
   },
   {
    "duration": 70,
    "start_time": "2021-08-20T17:30:22.372Z"
   },
   {
    "duration": 21,
    "start_time": "2021-08-20T17:30:22.445Z"
   },
   {
    "duration": 45,
    "start_time": "2021-08-20T17:30:22.469Z"
   },
   {
    "duration": 14,
    "start_time": "2021-08-20T17:30:22.516Z"
   },
   {
    "duration": 4,
    "start_time": "2021-08-20T17:30:22.563Z"
   },
   {
    "duration": 16,
    "start_time": "2021-08-20T17:30:22.570Z"
   },
   {
    "duration": 7,
    "start_time": "2021-08-20T17:30:22.590Z"
   },
   {
    "duration": 10,
    "start_time": "2021-08-20T17:30:22.599Z"
   },
   {
    "duration": 53,
    "start_time": "2021-08-20T17:30:22.611Z"
   },
   {
    "duration": 27,
    "start_time": "2021-08-20T17:30:22.666Z"
   },
   {
    "duration": 13,
    "start_time": "2021-08-20T17:30:22.695Z"
   },
   {
    "duration": 16,
    "start_time": "2021-08-20T17:30:22.710Z"
   },
   {
    "duration": 75,
    "start_time": "2021-08-20T17:30:22.729Z"
   },
   {
    "duration": 5,
    "start_time": "2021-08-20T17:30:22.807Z"
   },
   {
    "duration": 92,
    "start_time": "2021-08-20T17:30:22.815Z"
   },
   {
    "duration": 12,
    "start_time": "2021-08-20T17:30:22.910Z"
   },
   {
    "duration": 87,
    "start_time": "2021-08-20T17:30:22.926Z"
   },
   {
    "duration": 8,
    "start_time": "2021-08-20T17:30:23.016Z"
   },
   {
    "duration": 49,
    "start_time": "2021-08-20T17:30:23.027Z"
   },
   {
    "duration": 37,
    "start_time": "2021-08-20T17:30:23.079Z"
   },
   {
    "duration": 62,
    "start_time": "2021-08-20T17:30:23.119Z"
   },
   {
    "duration": 19,
    "start_time": "2021-08-20T17:30:23.186Z"
   },
   {
    "duration": 17,
    "start_time": "2021-08-20T17:30:23.208Z"
   },
   {
    "duration": 1806,
    "start_time": "2021-08-20T17:30:23.227Z"
   },
   {
    "duration": 8,
    "start_time": "2021-08-20T17:30:25.035Z"
   },
   {
    "duration": 34,
    "start_time": "2021-08-20T17:30:25.045Z"
   },
   {
    "duration": 1250,
    "start_time": "2021-08-20T17:30:25.081Z"
   },
   {
    "duration": 218,
    "start_time": "2021-08-20T17:30:26.334Z"
   },
   {
    "duration": 30,
    "start_time": "2021-08-20T17:30:26.555Z"
   },
   {
    "duration": 1486,
    "start_time": "2021-08-20T17:30:26.588Z"
   },
   {
    "duration": 12,
    "start_time": "2021-08-20T17:30:28.077Z"
   },
   {
    "duration": 25,
    "start_time": "2021-08-20T17:30:28.091Z"
   },
   {
    "duration": 46,
    "start_time": "2021-08-20T17:30:28.118Z"
   },
   {
    "duration": 21,
    "start_time": "2021-08-20T17:30:28.167Z"
   },
   {
    "duration": 20,
    "start_time": "2021-08-20T17:30:28.193Z"
   },
   {
    "duration": 55,
    "start_time": "2021-08-20T17:30:28.216Z"
   },
   {
    "duration": 18,
    "start_time": "2021-08-20T17:30:28.273Z"
   },
   {
    "duration": 17,
    "start_time": "2021-08-20T17:30:28.293Z"
   },
   {
    "duration": 62,
    "start_time": "2021-08-20T17:30:28.313Z"
   },
   {
    "duration": 23,
    "start_time": "2021-08-20T17:30:28.378Z"
   },
   {
    "duration": 23,
    "start_time": "2021-08-20T17:30:28.404Z"
   },
   {
    "duration": 59,
    "start_time": "2021-08-20T17:30:28.430Z"
   },
   {
    "duration": 31,
    "start_time": "2021-08-20T17:30:28.492Z"
   },
   {
    "duration": 5,
    "start_time": "2021-08-20T17:33:30.409Z"
   },
   {
    "duration": 117,
    "start_time": "2021-08-20T17:33:30.418Z"
   },
   {
    "duration": 9,
    "start_time": "2021-08-20T17:33:30.538Z"
   },
   {
    "duration": 56,
    "start_time": "2021-08-20T17:33:30.549Z"
   },
   {
    "duration": 14,
    "start_time": "2021-08-20T17:33:30.608Z"
   },
   {
    "duration": 38,
    "start_time": "2021-08-20T17:33:30.625Z"
   },
   {
    "duration": 125,
    "start_time": "2021-08-20T17:33:30.666Z"
   },
   {
    "duration": 29,
    "start_time": "2021-08-20T17:33:30.795Z"
   },
   {
    "duration": 23,
    "start_time": "2021-08-20T17:33:30.827Z"
   },
   {
    "duration": 21,
    "start_time": "2021-08-20T17:33:30.852Z"
   },
   {
    "duration": 25,
    "start_time": "2021-08-20T17:33:30.875Z"
   },
   {
    "duration": 26,
    "start_time": "2021-08-20T17:33:30.903Z"
   },
   {
    "duration": 43,
    "start_time": "2021-08-20T17:33:30.932Z"
   },
   {
    "duration": 52,
    "start_time": "2021-08-20T17:33:30.978Z"
   },
   {
    "duration": 5,
    "start_time": "2021-08-20T17:33:31.032Z"
   },
   {
    "duration": 49,
    "start_time": "2021-08-20T17:33:31.062Z"
   },
   {
    "duration": 9,
    "start_time": "2021-08-20T17:33:31.113Z"
   },
   {
    "duration": 9576,
    "start_time": "2021-08-20T17:33:31.125Z"
   },
   {
    "duration": -210,
    "start_time": "2021-08-20T17:33:40.914Z"
   },
   {
    "duration": -217,
    "start_time": "2021-08-20T17:33:40.924Z"
   },
   {
    "duration": -220,
    "start_time": "2021-08-20T17:33:40.928Z"
   },
   {
    "duration": -222,
    "start_time": "2021-08-20T17:33:40.932Z"
   },
   {
    "duration": -232,
    "start_time": "2021-08-20T17:33:40.944Z"
   },
   {
    "duration": -242,
    "start_time": "2021-08-20T17:33:40.955Z"
   },
   {
    "duration": -244,
    "start_time": "2021-08-20T17:33:40.959Z"
   },
   {
    "duration": -246,
    "start_time": "2021-08-20T17:33:40.962Z"
   },
   {
    "duration": -256,
    "start_time": "2021-08-20T17:33:40.973Z"
   },
   {
    "duration": -258,
    "start_time": "2021-08-20T17:33:40.977Z"
   },
   {
    "duration": -261,
    "start_time": "2021-08-20T17:33:40.981Z"
   },
   {
    "duration": -271,
    "start_time": "2021-08-20T17:33:40.992Z"
   },
   {
    "duration": -273,
    "start_time": "2021-08-20T17:33:40.996Z"
   },
   {
    "duration": -284,
    "start_time": "2021-08-20T17:33:41.008Z"
   },
   {
    "duration": -286,
    "start_time": "2021-08-20T17:33:41.011Z"
   },
   {
    "duration": -288,
    "start_time": "2021-08-20T17:33:41.015Z"
   },
   {
    "duration": -298,
    "start_time": "2021-08-20T17:33:41.026Z"
   },
   {
    "duration": -303,
    "start_time": "2021-08-20T17:33:41.032Z"
   },
   {
    "duration": -312,
    "start_time": "2021-08-20T17:33:41.043Z"
   },
   {
    "duration": -314,
    "start_time": "2021-08-20T17:33:41.046Z"
   },
   {
    "duration": -324,
    "start_time": "2021-08-20T17:33:41.057Z"
   },
   {
    "duration": -326,
    "start_time": "2021-08-20T17:33:41.061Z"
   },
   {
    "duration": -329,
    "start_time": "2021-08-20T17:33:41.065Z"
   },
   {
    "duration": -339,
    "start_time": "2021-08-20T17:33:41.076Z"
   },
   {
    "duration": -340,
    "start_time": "2021-08-20T17:33:41.079Z"
   },
   {
    "duration": -343,
    "start_time": "2021-08-20T17:33:41.083Z"
   },
   {
    "duration": 1404,
    "start_time": "2021-08-20T17:34:07.426Z"
   },
   {
    "duration": 73,
    "start_time": "2021-08-20T17:34:08.833Z"
   },
   {
    "duration": 11,
    "start_time": "2021-08-20T17:34:08.910Z"
   },
   {
    "duration": 71,
    "start_time": "2021-08-20T17:34:08.925Z"
   },
   {
    "duration": 15,
    "start_time": "2021-08-20T17:34:08.999Z"
   },
   {
    "duration": 4,
    "start_time": "2021-08-20T17:34:09.017Z"
   },
   {
    "duration": 47,
    "start_time": "2021-08-20T17:34:09.023Z"
   },
   {
    "duration": 7,
    "start_time": "2021-08-20T17:34:09.074Z"
   },
   {
    "duration": 12,
    "start_time": "2021-08-20T17:34:09.084Z"
   },
   {
    "duration": 5,
    "start_time": "2021-08-20T17:34:09.099Z"
   },
   {
    "duration": 21,
    "start_time": "2021-08-20T17:34:09.107Z"
   },
   {
    "duration": 12,
    "start_time": "2021-08-20T17:34:09.162Z"
   },
   {
    "duration": 19,
    "start_time": "2021-08-20T17:34:09.176Z"
   },
   {
    "duration": 68,
    "start_time": "2021-08-20T17:34:09.198Z"
   },
   {
    "duration": 10,
    "start_time": "2021-08-20T17:34:09.269Z"
   },
   {
    "duration": 50,
    "start_time": "2021-08-20T17:34:09.282Z"
   },
   {
    "duration": 30,
    "start_time": "2021-08-20T17:34:09.334Z"
   },
   {
    "duration": 6840,
    "start_time": "2021-08-20T17:34:09.367Z"
   },
   {
    "duration": -258,
    "start_time": "2021-08-20T17:34:16.471Z"
   },
   {
    "duration": -259,
    "start_time": "2021-08-20T17:34:16.475Z"
   },
   {
    "duration": -261,
    "start_time": "2021-08-20T17:34:16.479Z"
   },
   {
    "duration": -262,
    "start_time": "2021-08-20T17:34:16.482Z"
   },
   {
    "duration": -262,
    "start_time": "2021-08-20T17:34:16.484Z"
   },
   {
    "duration": -264,
    "start_time": "2021-08-20T17:34:16.488Z"
   },
   {
    "duration": -265,
    "start_time": "2021-08-20T17:34:16.491Z"
   },
   {
    "duration": -265,
    "start_time": "2021-08-20T17:34:16.493Z"
   },
   {
    "duration": -266,
    "start_time": "2021-08-20T17:34:16.496Z"
   },
   {
    "duration": -267,
    "start_time": "2021-08-20T17:34:16.499Z"
   },
   {
    "duration": -268,
    "start_time": "2021-08-20T17:34:16.502Z"
   },
   {
    "duration": -270,
    "start_time": "2021-08-20T17:34:16.506Z"
   },
   {
    "duration": -272,
    "start_time": "2021-08-20T17:34:16.510Z"
   },
   {
    "duration": -282,
    "start_time": "2021-08-20T17:34:16.521Z"
   },
   {
    "duration": -287,
    "start_time": "2021-08-20T17:34:16.528Z"
   },
   {
    "duration": -291,
    "start_time": "2021-08-20T17:34:16.534Z"
   },
   {
    "duration": -292,
    "start_time": "2021-08-20T17:34:16.537Z"
   },
   {
    "duration": -299,
    "start_time": "2021-08-20T17:34:16.546Z"
   },
   {
    "duration": -301,
    "start_time": "2021-08-20T17:34:16.549Z"
   },
   {
    "duration": -303,
    "start_time": "2021-08-20T17:34:16.552Z"
   },
   {
    "duration": -295,
    "start_time": "2021-08-20T17:34:16.556Z"
   },
   {
    "duration": -302,
    "start_time": "2021-08-20T17:34:16.565Z"
   },
   {
    "duration": -304,
    "start_time": "2021-08-20T17:34:16.568Z"
   },
   {
    "duration": -308,
    "start_time": "2021-08-20T17:34:16.573Z"
   },
   {
    "duration": -313,
    "start_time": "2021-08-20T17:34:16.580Z"
   },
   {
    "duration": -315,
    "start_time": "2021-08-20T17:34:16.583Z"
   },
   {
    "duration": 7434,
    "start_time": "2021-08-20T17:34:46.278Z"
   },
   {
    "duration": 6437,
    "start_time": "2021-08-20T17:35:12.784Z"
   },
   {
    "duration": 8,
    "start_time": "2021-08-20T17:40:52.037Z"
   },
   {
    "duration": 22,
    "start_time": "2021-08-20T17:40:59.472Z"
   },
   {
    "duration": 4,
    "start_time": "2021-08-20T17:41:11.073Z"
   },
   {
    "duration": 114,
    "start_time": "2021-08-20T17:41:11.081Z"
   },
   {
    "duration": 13,
    "start_time": "2021-08-20T17:41:11.200Z"
   },
   {
    "duration": 76,
    "start_time": "2021-08-20T17:41:11.216Z"
   },
   {
    "duration": 13,
    "start_time": "2021-08-20T17:41:11.295Z"
   },
   {
    "duration": 5,
    "start_time": "2021-08-20T17:41:11.310Z"
   },
   {
    "duration": 50,
    "start_time": "2021-08-20T17:41:11.318Z"
   },
   {
    "duration": 8,
    "start_time": "2021-08-20T17:41:11.372Z"
   },
   {
    "duration": 12,
    "start_time": "2021-08-20T17:41:11.382Z"
   },
   {
    "duration": 5,
    "start_time": "2021-08-20T17:41:11.397Z"
   },
   {
    "duration": 24,
    "start_time": "2021-08-20T17:41:11.405Z"
   },
   {
    "duration": 12,
    "start_time": "2021-08-20T17:41:11.463Z"
   },
   {
    "duration": 20,
    "start_time": "2021-08-20T17:41:11.477Z"
   },
   {
    "duration": 72,
    "start_time": "2021-08-20T17:41:11.500Z"
   },
   {
    "duration": 5,
    "start_time": "2021-08-20T17:41:11.574Z"
   },
   {
    "duration": 50,
    "start_time": "2021-08-20T17:41:11.582Z"
   },
   {
    "duration": 37,
    "start_time": "2021-08-20T17:41:11.634Z"
   },
   {
    "duration": 12,
    "start_time": "2021-08-20T17:41:11.673Z"
   },
   {
    "duration": 8,
    "start_time": "2021-08-20T17:41:11.690Z"
   },
   {
    "duration": 24,
    "start_time": "2021-08-20T17:41:11.701Z"
   },
   {
    "duration": 27,
    "start_time": "2021-08-20T17:41:11.763Z"
   },
   {
    "duration": 34,
    "start_time": "2021-08-20T17:41:11.792Z"
   },
   {
    "duration": 48,
    "start_time": "2021-08-20T17:41:11.829Z"
   },
   {
    "duration": 18,
    "start_time": "2021-08-20T17:41:11.879Z"
   },
   {
    "duration": 1905,
    "start_time": "2021-08-20T17:41:11.899Z"
   },
   {
    "duration": 11,
    "start_time": "2021-08-20T17:41:13.807Z"
   },
   {
    "duration": 45,
    "start_time": "2021-08-20T17:41:13.821Z"
   },
   {
    "duration": 1225,
    "start_time": "2021-08-20T17:41:13.869Z"
   },
   {
    "duration": 326,
    "start_time": "2021-08-20T17:41:15.097Z"
   },
   {
    "duration": 40,
    "start_time": "2021-08-20T17:41:15.425Z"
   },
   {
    "duration": 1443,
    "start_time": "2021-08-20T17:41:15.467Z"
   },
   {
    "duration": 11,
    "start_time": "2021-08-20T17:41:16.913Z"
   },
   {
    "duration": 40,
    "start_time": "2021-08-20T17:41:16.927Z"
   },
   {
    "duration": 16,
    "start_time": "2021-08-20T17:41:16.969Z"
   },
   {
    "duration": 15,
    "start_time": "2021-08-20T17:41:16.988Z"
   },
   {
    "duration": 16,
    "start_time": "2021-08-20T17:41:17.005Z"
   },
   {
    "duration": 16,
    "start_time": "2021-08-20T17:41:17.063Z"
   },
   {
    "duration": 17,
    "start_time": "2021-08-20T17:41:17.081Z"
   },
   {
    "duration": 20,
    "start_time": "2021-08-20T17:41:17.100Z"
   },
   {
    "duration": 50,
    "start_time": "2021-08-20T17:41:17.123Z"
   },
   {
    "duration": 17,
    "start_time": "2021-08-20T17:41:17.175Z"
   },
   {
    "duration": 19,
    "start_time": "2021-08-20T17:41:17.194Z"
   },
   {
    "duration": 66,
    "start_time": "2021-08-20T17:41:17.216Z"
   },
   {
    "duration": 23,
    "start_time": "2021-08-20T17:41:17.284Z"
   },
   {
    "duration": 89,
    "start_time": "2021-08-20T17:47:23.245Z"
   },
   {
    "duration": 17,
    "start_time": "2021-08-20T17:48:31.192Z"
   },
   {
    "duration": 596,
    "start_time": "2021-08-20T17:56:41.048Z"
   },
   {
    "duration": 690,
    "start_time": "2021-08-20T17:57:15.941Z"
   },
   {
    "duration": 1740,
    "start_time": "2021-08-20T18:10:46.574Z"
   },
   {
    "duration": 292,
    "start_time": "2021-08-20T18:23:37.346Z"
   },
   {
    "duration": 4,
    "start_time": "2021-08-20T18:23:42.885Z"
   },
   {
    "duration": 622,
    "start_time": "2021-08-20T18:23:44.079Z"
   },
   {
    "duration": 5,
    "start_time": "2021-08-20T18:24:21.262Z"
   },
   {
    "duration": 487,
    "start_time": "2021-08-20T18:24:23.194Z"
   },
   {
    "duration": 5,
    "start_time": "2021-08-20T18:26:56.353Z"
   },
   {
    "duration": 642,
    "start_time": "2021-08-20T18:27:00.337Z"
   },
   {
    "duration": 6,
    "start_time": "2021-08-20T18:27:12.077Z"
   },
   {
    "duration": 694,
    "start_time": "2021-08-20T18:27:17.072Z"
   },
   {
    "duration": 246,
    "start_time": "2021-08-20T18:27:23.684Z"
   },
   {
    "duration": 1445,
    "start_time": "2021-08-20T18:27:33.435Z"
   },
   {
    "duration": 494,
    "start_time": "2021-08-20T18:29:53.018Z"
   },
   {
    "duration": 584,
    "start_time": "2021-08-20T18:30:07.111Z"
   },
   {
    "duration": 596,
    "start_time": "2021-08-20T18:31:03.449Z"
   },
   {
    "duration": 298,
    "start_time": "2021-08-20T18:31:34.833Z"
   },
   {
    "duration": 291,
    "start_time": "2021-08-20T18:32:34.792Z"
   },
   {
    "duration": 287,
    "start_time": "2021-08-20T18:33:31.607Z"
   },
   {
    "duration": 4,
    "start_time": "2021-08-20T18:35:49.490Z"
   },
   {
    "duration": 88,
    "start_time": "2021-08-20T18:35:49.498Z"
   },
   {
    "duration": 12,
    "start_time": "2021-08-20T18:35:49.590Z"
   },
   {
    "duration": 81,
    "start_time": "2021-08-20T18:35:49.605Z"
   },
   {
    "duration": 17,
    "start_time": "2021-08-20T18:35:49.691Z"
   },
   {
    "duration": 6,
    "start_time": "2021-08-20T18:35:49.710Z"
   },
   {
    "duration": 52,
    "start_time": "2021-08-20T18:35:49.719Z"
   },
   {
    "duration": 10,
    "start_time": "2021-08-20T18:35:49.774Z"
   },
   {
    "duration": 20,
    "start_time": "2021-08-20T18:35:49.791Z"
   },
   {
    "duration": 7,
    "start_time": "2021-08-20T18:35:49.815Z"
   },
   {
    "duration": 61,
    "start_time": "2021-08-20T18:35:49.825Z"
   },
   {
    "duration": 20,
    "start_time": "2021-08-20T18:35:49.889Z"
   },
   {
    "duration": 24,
    "start_time": "2021-08-20T18:35:49.912Z"
   },
   {
    "duration": 67,
    "start_time": "2021-08-20T18:35:49.963Z"
   },
   {
    "duration": 6,
    "start_time": "2021-08-20T18:35:50.033Z"
   },
   {
    "duration": 71,
    "start_time": "2021-08-20T18:35:50.041Z"
   },
   {
    "duration": 11,
    "start_time": "2021-08-20T18:35:50.115Z"
   },
   {
    "duration": 37,
    "start_time": "2021-08-20T18:35:50.128Z"
   },
   {
    "duration": 21,
    "start_time": "2021-08-20T18:35:50.168Z"
   },
   {
    "duration": 310,
    "start_time": "2021-08-20T18:35:50.192Z"
   },
   {
    "duration": -240,
    "start_time": "2021-08-20T18:35:50.745Z"
   },
   {
    "duration": -242,
    "start_time": "2021-08-20T18:35:50.749Z"
   },
   {
    "duration": -245,
    "start_time": "2021-08-20T18:35:50.753Z"
   },
   {
    "duration": -253,
    "start_time": "2021-08-20T18:35:50.763Z"
   },
   {
    "duration": -255,
    "start_time": "2021-08-20T18:35:50.767Z"
   },
   {
    "duration": -257,
    "start_time": "2021-08-20T18:35:50.770Z"
   },
   {
    "duration": -259,
    "start_time": "2021-08-20T18:35:50.774Z"
   },
   {
    "duration": -261,
    "start_time": "2021-08-20T18:35:50.777Z"
   },
   {
    "duration": -264,
    "start_time": "2021-08-20T18:35:50.781Z"
   },
   {
    "duration": -265,
    "start_time": "2021-08-20T18:35:50.784Z"
   },
   {
    "duration": -267,
    "start_time": "2021-08-20T18:35:50.788Z"
   },
   {
    "duration": -269,
    "start_time": "2021-08-20T18:35:50.792Z"
   },
   {
    "duration": -270,
    "start_time": "2021-08-20T18:35:50.795Z"
   },
   {
    "duration": -271,
    "start_time": "2021-08-20T18:35:50.797Z"
   },
   {
    "duration": -273,
    "start_time": "2021-08-20T18:35:50.800Z"
   },
   {
    "duration": -275,
    "start_time": "2021-08-20T18:35:50.803Z"
   },
   {
    "duration": -275,
    "start_time": "2021-08-20T18:35:50.805Z"
   },
   {
    "duration": -277,
    "start_time": "2021-08-20T18:35:50.808Z"
   },
   {
    "duration": -278,
    "start_time": "2021-08-20T18:35:50.811Z"
   },
   {
    "duration": -280,
    "start_time": "2021-08-20T18:35:50.814Z"
   },
   {
    "duration": -280,
    "start_time": "2021-08-20T18:35:50.817Z"
   },
   {
    "duration": -280,
    "start_time": "2021-08-20T18:35:50.819Z"
   },
   {
    "duration": -281,
    "start_time": "2021-08-20T18:35:50.822Z"
   },
   {
    "duration": -283,
    "start_time": "2021-08-20T18:35:50.825Z"
   },
   {
    "duration": -285,
    "start_time": "2021-08-20T18:35:50.828Z"
   },
   {
    "duration": -287,
    "start_time": "2021-08-20T18:35:50.831Z"
   },
   {
    "duration": -273,
    "start_time": "2021-08-20T18:35:50.834Z"
   },
   {
    "duration": -274,
    "start_time": "2021-08-20T18:35:50.837Z"
   },
   {
    "duration": -276,
    "start_time": "2021-08-20T18:35:50.841Z"
   },
   {
    "duration": 1721,
    "start_time": "2021-08-20T18:36:30.512Z"
   },
   {
    "duration": 98,
    "start_time": "2021-08-20T18:36:32.236Z"
   },
   {
    "duration": 13,
    "start_time": "2021-08-20T18:36:32.338Z"
   },
   {
    "duration": 62,
    "start_time": "2021-08-20T18:36:32.363Z"
   },
   {
    "duration": 40,
    "start_time": "2021-08-20T18:36:32.429Z"
   },
   {
    "duration": 5,
    "start_time": "2021-08-20T18:36:32.473Z"
   },
   {
    "duration": 26,
    "start_time": "2021-08-20T18:36:32.480Z"
   },
   {
    "duration": 8,
    "start_time": "2021-08-20T18:36:32.512Z"
   },
   {
    "duration": 45,
    "start_time": "2021-08-20T18:36:32.524Z"
   },
   {
    "duration": 8,
    "start_time": "2021-08-20T18:36:32.572Z"
   },
   {
    "duration": 22,
    "start_time": "2021-08-20T18:36:32.583Z"
   },
   {
    "duration": 15,
    "start_time": "2021-08-20T18:36:32.608Z"
   },
   {
    "duration": 46,
    "start_time": "2021-08-20T18:36:32.625Z"
   },
   {
    "duration": 49,
    "start_time": "2021-08-20T18:36:32.674Z"
   },
   {
    "duration": 36,
    "start_time": "2021-08-20T18:36:32.726Z"
   },
   {
    "duration": 47,
    "start_time": "2021-08-20T18:36:32.765Z"
   },
   {
    "duration": 9,
    "start_time": "2021-08-20T18:36:32.815Z"
   },
   {
    "duration": 39,
    "start_time": "2021-08-20T18:36:32.826Z"
   },
   {
    "duration": 20,
    "start_time": "2021-08-20T18:36:32.867Z"
   },
   {
    "duration": 354,
    "start_time": "2021-08-20T18:36:32.889Z"
   },
   {
    "duration": -41,
    "start_time": "2021-08-20T18:36:33.288Z"
   },
   {
    "duration": -66,
    "start_time": "2021-08-20T18:36:33.315Z"
   },
   {
    "duration": -71,
    "start_time": "2021-08-20T18:36:33.321Z"
   },
   {
    "duration": -75,
    "start_time": "2021-08-20T18:36:33.326Z"
   },
   {
    "duration": -78,
    "start_time": "2021-08-20T18:36:33.330Z"
   },
   {
    "duration": -80,
    "start_time": "2021-08-20T18:36:33.334Z"
   },
   {
    "duration": -83,
    "start_time": "2021-08-20T18:36:33.338Z"
   },
   {
    "duration": -86,
    "start_time": "2021-08-20T18:36:33.342Z"
   },
   {
    "duration": -88,
    "start_time": "2021-08-20T18:36:33.346Z"
   },
   {
    "duration": -91,
    "start_time": "2021-08-20T18:36:33.350Z"
   },
   {
    "duration": -94,
    "start_time": "2021-08-20T18:36:33.354Z"
   },
   {
    "duration": -96,
    "start_time": "2021-08-20T18:36:33.357Z"
   },
   {
    "duration": -107,
    "start_time": "2021-08-20T18:36:33.370Z"
   },
   {
    "duration": -110,
    "start_time": "2021-08-20T18:36:33.375Z"
   },
   {
    "duration": -113,
    "start_time": "2021-08-20T18:36:33.379Z"
   },
   {
    "duration": -115,
    "start_time": "2021-08-20T18:36:33.382Z"
   },
   {
    "duration": -118,
    "start_time": "2021-08-20T18:36:33.386Z"
   },
   {
    "duration": -120,
    "start_time": "2021-08-20T18:36:33.389Z"
   },
   {
    "duration": -123,
    "start_time": "2021-08-20T18:36:33.393Z"
   },
   {
    "duration": -125,
    "start_time": "2021-08-20T18:36:33.397Z"
   },
   {
    "duration": -128,
    "start_time": "2021-08-20T18:36:33.401Z"
   },
   {
    "duration": -130,
    "start_time": "2021-08-20T18:36:33.404Z"
   },
   {
    "duration": -151,
    "start_time": "2021-08-20T18:36:33.427Z"
   },
   {
    "duration": -153,
    "start_time": "2021-08-20T18:36:33.430Z"
   },
   {
    "duration": -155,
    "start_time": "2021-08-20T18:36:33.433Z"
   },
   {
    "duration": -157,
    "start_time": "2021-08-20T18:36:33.436Z"
   },
   {
    "duration": -179,
    "start_time": "2021-08-20T18:36:33.460Z"
   },
   {
    "duration": -182,
    "start_time": "2021-08-20T18:36:33.464Z"
   },
   {
    "duration": -184,
    "start_time": "2021-08-20T18:36:33.467Z"
   },
   {
    "duration": 10,
    "start_time": "2021-08-20T18:37:05.098Z"
   },
   {
    "duration": 4,
    "start_time": "2021-08-20T18:37:10.661Z"
   },
   {
    "duration": 98,
    "start_time": "2021-08-20T18:37:10.668Z"
   },
   {
    "duration": 10,
    "start_time": "2021-08-20T18:37:10.768Z"
   },
   {
    "duration": 46,
    "start_time": "2021-08-20T18:37:10.780Z"
   },
   {
    "duration": 44,
    "start_time": "2021-08-20T18:37:10.828Z"
   },
   {
    "duration": 3,
    "start_time": "2021-08-20T18:37:10.875Z"
   },
   {
    "duration": 15,
    "start_time": "2021-08-20T18:37:10.882Z"
   },
   {
    "duration": 7,
    "start_time": "2021-08-20T18:37:10.900Z"
   },
   {
    "duration": 10,
    "start_time": "2021-08-20T18:37:10.909Z"
   },
   {
    "duration": 6,
    "start_time": "2021-08-20T18:37:10.962Z"
   },
   {
    "duration": 22,
    "start_time": "2021-08-20T18:37:10.970Z"
   },
   {
    "duration": 13,
    "start_time": "2021-08-20T18:37:10.994Z"
   },
   {
    "duration": 16,
    "start_time": "2021-08-20T18:37:11.009Z"
   },
   {
    "duration": 76,
    "start_time": "2021-08-20T18:37:11.027Z"
   },
   {
    "duration": 5,
    "start_time": "2021-08-20T18:37:11.105Z"
   },
   {
    "duration": 74,
    "start_time": "2021-08-20T18:37:11.112Z"
   },
   {
    "duration": 13,
    "start_time": "2021-08-20T18:37:11.189Z"
   },
   {
    "duration": 8,
    "start_time": "2021-08-20T18:37:11.206Z"
   },
   {
    "duration": 52,
    "start_time": "2021-08-20T18:37:11.220Z"
   },
   {
    "duration": 27,
    "start_time": "2021-08-20T18:37:11.275Z"
   },
   {
    "duration": 63,
    "start_time": "2021-08-20T18:37:11.304Z"
   },
   {
    "duration": 20,
    "start_time": "2021-08-20T18:37:11.369Z"
   },
   {
    "duration": 20,
    "start_time": "2021-08-20T18:37:11.391Z"
   },
   {
    "duration": 340,
    "start_time": "2021-08-20T18:37:11.413Z"
   },
   {
    "duration": 340,
    "start_time": "2021-08-20T18:37:11.755Z"
   },
   {
    "duration": 344,
    "start_time": "2021-08-20T18:37:12.097Z"
   },
   {
    "duration": 359,
    "start_time": "2021-08-20T18:37:12.445Z"
   },
   {
    "duration": 325,
    "start_time": "2021-08-20T18:37:12.806Z"
   },
   {
    "duration": 359,
    "start_time": "2021-08-20T18:37:13.133Z"
   },
   {
    "duration": 1825,
    "start_time": "2021-08-20T18:37:13.495Z"
   },
   {
    "duration": 8,
    "start_time": "2021-08-20T18:37:15.322Z"
   },
   {
    "duration": 45,
    "start_time": "2021-08-20T18:37:15.332Z"
   },
   {
    "duration": 1258,
    "start_time": "2021-08-20T18:37:15.379Z"
   },
   {
    "duration": 219,
    "start_time": "2021-08-20T18:37:16.639Z"
   },
   {
    "duration": 26,
    "start_time": "2021-08-20T18:37:16.862Z"
   },
   {
    "duration": 1321,
    "start_time": "2021-08-20T18:37:16.890Z"
   },
   {
    "duration": 11,
    "start_time": "2021-08-20T18:37:18.214Z"
   },
   {
    "duration": 41,
    "start_time": "2021-08-20T18:37:18.227Z"
   },
   {
    "duration": 16,
    "start_time": "2021-08-20T18:37:18.270Z"
   },
   {
    "duration": 17,
    "start_time": "2021-08-20T18:37:18.289Z"
   },
   {
    "duration": 54,
    "start_time": "2021-08-20T18:37:18.308Z"
   },
   {
    "duration": 17,
    "start_time": "2021-08-20T18:37:18.364Z"
   },
   {
    "duration": 16,
    "start_time": "2021-08-20T18:37:18.384Z"
   },
   {
    "duration": 17,
    "start_time": "2021-08-20T18:37:18.402Z"
   },
   {
    "duration": 49,
    "start_time": "2021-08-20T18:37:18.422Z"
   },
   {
    "duration": 20,
    "start_time": "2021-08-20T18:37:18.474Z"
   },
   {
    "duration": 17,
    "start_time": "2021-08-20T18:37:18.497Z"
   },
   {
    "duration": 57,
    "start_time": "2021-08-20T18:37:18.516Z"
   },
   {
    "duration": 22,
    "start_time": "2021-08-20T18:37:18.575Z"
   },
   {
    "duration": 281,
    "start_time": "2021-08-20T18:43:06.846Z"
   },
   {
    "duration": 249,
    "start_time": "2021-08-20T18:43:37.345Z"
   },
   {
    "duration": 357,
    "start_time": "2021-08-20T18:43:51.453Z"
   },
   {
    "duration": 345,
    "start_time": "2021-08-20T18:46:08.887Z"
   },
   {
    "duration": 4,
    "start_time": "2021-08-20T18:53:30.965Z"
   },
   {
    "duration": 106,
    "start_time": "2021-08-20T18:53:30.973Z"
   },
   {
    "duration": 10,
    "start_time": "2021-08-20T18:53:31.082Z"
   },
   {
    "duration": 113,
    "start_time": "2021-08-20T18:53:31.096Z"
   },
   {
    "duration": 20,
    "start_time": "2021-08-20T18:53:31.213Z"
   },
   {
    "duration": 26,
    "start_time": "2021-08-20T18:53:31.236Z"
   },
   {
    "duration": 36,
    "start_time": "2021-08-20T18:53:31.266Z"
   },
   {
    "duration": 12,
    "start_time": "2021-08-20T18:53:31.305Z"
   },
   {
    "duration": 29,
    "start_time": "2021-08-20T18:53:31.321Z"
   },
   {
    "duration": 19,
    "start_time": "2021-08-20T18:53:31.353Z"
   },
   {
    "duration": 36,
    "start_time": "2021-08-20T18:53:31.375Z"
   },
   {
    "duration": 42,
    "start_time": "2021-08-20T18:53:31.413Z"
   },
   {
    "duration": 34,
    "start_time": "2021-08-20T18:53:31.458Z"
   },
   {
    "duration": 57,
    "start_time": "2021-08-20T18:53:31.495Z"
   },
   {
    "duration": 4,
    "start_time": "2021-08-20T18:53:31.555Z"
   },
   {
    "duration": 68,
    "start_time": "2021-08-20T18:53:31.562Z"
   },
   {
    "duration": 10,
    "start_time": "2021-08-20T18:53:31.632Z"
   },
   {
    "duration": 38,
    "start_time": "2021-08-20T18:53:31.644Z"
   },
   {
    "duration": 44,
    "start_time": "2021-08-20T18:53:31.685Z"
   },
   {
    "duration": 43,
    "start_time": "2021-08-20T18:53:31.731Z"
   },
   {
    "duration": 35,
    "start_time": "2021-08-20T18:53:31.777Z"
   },
   {
    "duration": 17,
    "start_time": "2021-08-20T18:53:31.815Z"
   },
   {
    "duration": 18,
    "start_time": "2021-08-20T18:53:31.862Z"
   },
   {
    "duration": 303,
    "start_time": "2021-08-20T18:53:31.885Z"
   },
   {
    "duration": 333,
    "start_time": "2021-08-20T18:53:32.191Z"
   },
   {
    "duration": 407,
    "start_time": "2021-08-20T18:53:32.527Z"
   },
   {
    "duration": 302,
    "start_time": "2021-08-20T18:53:32.936Z"
   },
   {
    "duration": 344,
    "start_time": "2021-08-20T18:53:33.240Z"
   },
   {
    "duration": 373,
    "start_time": "2021-08-20T18:53:33.587Z"
   },
   {
    "duration": 8,
    "start_time": "2021-08-20T18:53:33.962Z"
   },
   {
    "duration": 24,
    "start_time": "2021-08-20T18:53:33.972Z"
   },
   {
    "duration": 394,
    "start_time": "2021-08-20T18:53:33.999Z"
   },
   {
    "duration": -899,
    "start_time": "2021-08-20T18:53:35.294Z"
   },
   {
    "duration": -900,
    "start_time": "2021-08-20T18:53:35.297Z"
   },
   {
    "duration": -902,
    "start_time": "2021-08-20T18:53:35.300Z"
   },
   {
    "duration": -905,
    "start_time": "2021-08-20T18:53:35.304Z"
   },
   {
    "duration": -907,
    "start_time": "2021-08-20T18:53:35.308Z"
   },
   {
    "duration": -908,
    "start_time": "2021-08-20T18:53:35.310Z"
   },
   {
    "duration": -913,
    "start_time": "2021-08-20T18:53:35.316Z"
   },
   {
    "duration": -916,
    "start_time": "2021-08-20T18:53:35.320Z"
   },
   {
    "duration": -917,
    "start_time": "2021-08-20T18:53:35.323Z"
   },
   {
    "duration": -919,
    "start_time": "2021-08-20T18:53:35.326Z"
   },
   {
    "duration": -949,
    "start_time": "2021-08-20T18:53:35.358Z"
   },
   {
    "duration": -951,
    "start_time": "2021-08-20T18:53:35.361Z"
   },
   {
    "duration": -953,
    "start_time": "2021-08-20T18:53:35.364Z"
   },
   {
    "duration": -1005,
    "start_time": "2021-08-20T18:53:35.418Z"
   },
   {
    "duration": -1008,
    "start_time": "2021-08-20T18:53:35.422Z"
   },
   {
    "duration": -1010,
    "start_time": "2021-08-20T18:53:35.425Z"
   },
   {
    "duration": -1012,
    "start_time": "2021-08-20T18:53:35.429Z"
   },
   {
    "duration": -1014,
    "start_time": "2021-08-20T18:53:35.432Z"
   },
   {
    "duration": -1016,
    "start_time": "2021-08-20T18:53:35.435Z"
   },
   {
    "duration": -1017,
    "start_time": "2021-08-20T18:53:35.438Z"
   },
   {
    "duration": -1019,
    "start_time": "2021-08-20T18:53:35.441Z"
   },
   {
    "duration": 4,
    "start_time": "2021-08-20T18:53:50.098Z"
   },
   {
    "duration": 95,
    "start_time": "2021-08-20T18:53:50.106Z"
   },
   {
    "duration": 12,
    "start_time": "2021-08-20T18:53:50.205Z"
   },
   {
    "duration": 86,
    "start_time": "2021-08-20T18:53:50.221Z"
   },
   {
    "duration": 14,
    "start_time": "2021-08-20T18:53:50.310Z"
   },
   {
    "duration": 35,
    "start_time": "2021-08-20T18:53:50.327Z"
   },
   {
    "duration": 15,
    "start_time": "2021-08-20T18:53:50.364Z"
   },
   {
    "duration": 8,
    "start_time": "2021-08-20T18:53:50.383Z"
   },
   {
    "duration": 12,
    "start_time": "2021-08-20T18:53:50.394Z"
   },
   {
    "duration": 10,
    "start_time": "2021-08-20T18:53:50.408Z"
   },
   {
    "duration": 56,
    "start_time": "2021-08-20T18:53:50.421Z"
   },
   {
    "duration": 12,
    "start_time": "2021-08-20T18:53:50.480Z"
   },
   {
    "duration": 22,
    "start_time": "2021-08-20T18:53:50.495Z"
   },
   {
    "duration": 73,
    "start_time": "2021-08-20T18:53:50.519Z"
   },
   {
    "duration": 5,
    "start_time": "2021-08-20T18:53:50.594Z"
   },
   {
    "duration": 69,
    "start_time": "2021-08-20T18:53:50.602Z"
   },
   {
    "duration": 10,
    "start_time": "2021-08-20T18:53:50.675Z"
   },
   {
    "duration": 10,
    "start_time": "2021-08-20T18:53:50.688Z"
   },
   {
    "duration": 24,
    "start_time": "2021-08-20T18:53:50.700Z"
   },
   {
    "duration": 54,
    "start_time": "2021-08-20T18:53:50.727Z"
   },
   {
    "duration": 34,
    "start_time": "2021-08-20T18:53:50.784Z"
   },
   {
    "duration": 47,
    "start_time": "2021-08-20T18:53:50.820Z"
   },
   {
    "duration": 17,
    "start_time": "2021-08-20T18:53:50.872Z"
   },
   {
    "duration": 308,
    "start_time": "2021-08-20T18:53:50.893Z"
   },
   {
    "duration": 323,
    "start_time": "2021-08-20T18:53:51.204Z"
   },
   {
    "duration": 331,
    "start_time": "2021-08-20T18:53:51.530Z"
   },
   {
    "duration": 302,
    "start_time": "2021-08-20T18:53:51.864Z"
   },
   {
    "duration": 333,
    "start_time": "2021-08-20T18:53:52.168Z"
   },
   {
    "duration": 347,
    "start_time": "2021-08-20T18:53:52.503Z"
   },
   {
    "duration": 14,
    "start_time": "2021-08-20T18:53:52.853Z"
   },
   {
    "duration": 29,
    "start_time": "2021-08-20T18:53:52.869Z"
   },
   {
    "duration": 1364,
    "start_time": "2021-08-20T18:53:52.900Z"
   },
   {
    "duration": 325,
    "start_time": "2021-08-20T18:53:54.266Z"
   },
   {
    "duration": 354,
    "start_time": "2021-08-20T18:53:54.593Z"
   },
   {
    "duration": 324,
    "start_time": "2021-08-20T18:53:54.950Z"
   },
   {
    "duration": 344,
    "start_time": "2021-08-20T18:53:55.276Z"
   },
   {
    "duration": 210,
    "start_time": "2021-08-20T18:53:55.623Z"
   },
   {
    "duration": 38,
    "start_time": "2021-08-20T18:53:55.835Z"
   },
   {
    "duration": 1238,
    "start_time": "2021-08-20T18:53:55.875Z"
   },
   {
    "duration": 13,
    "start_time": "2021-08-20T18:53:57.116Z"
   },
   {
    "duration": 47,
    "start_time": "2021-08-20T18:53:57.132Z"
   },
   {
    "duration": 16,
    "start_time": "2021-08-20T18:53:57.182Z"
   },
   {
    "duration": 14,
    "start_time": "2021-08-20T18:53:57.201Z"
   },
   {
    "duration": 153,
    "start_time": "2021-08-20T18:53:57.217Z"
   },
   {
    "duration": 17,
    "start_time": "2021-08-20T18:53:57.372Z"
   },
   {
    "duration": 18,
    "start_time": "2021-08-20T18:53:57.392Z"
   },
   {
    "duration": 52,
    "start_time": "2021-08-20T18:53:57.413Z"
   },
   {
    "duration": 21,
    "start_time": "2021-08-20T18:53:57.467Z"
   },
   {
    "duration": 24,
    "start_time": "2021-08-20T18:53:57.491Z"
   },
   {
    "duration": 56,
    "start_time": "2021-08-20T18:53:57.518Z"
   },
   {
    "duration": 33,
    "start_time": "2021-08-20T18:53:57.577Z"
   },
   {
    "duration": 23,
    "start_time": "2021-08-20T18:53:57.612Z"
   },
   {
    "duration": 6791,
    "start_time": "2021-08-20T19:23:12.949Z"
   },
   {
    "duration": 419,
    "start_time": "2021-08-20T19:23:55.550Z"
   },
   {
    "duration": 552,
    "start_time": "2021-08-20T19:27:31.731Z"
   },
   {
    "duration": 363,
    "start_time": "2021-08-20T19:28:05.923Z"
   },
   {
    "duration": 26,
    "start_time": "2021-08-20T19:29:30.594Z"
   },
   {
    "duration": 25,
    "start_time": "2021-08-20T19:30:14.433Z"
   },
   {
    "duration": 25,
    "start_time": "2021-08-20T19:30:51.855Z"
   },
   {
    "duration": 250,
    "start_time": "2021-08-20T19:42:39.111Z"
   },
   {
    "duration": 276,
    "start_time": "2021-08-20T19:42:58.190Z"
   },
   {
    "duration": 270,
    "start_time": "2021-08-20T19:44:12.975Z"
   },
   {
    "duration": 487,
    "start_time": "2021-08-20T19:44:21.028Z"
   },
   {
    "duration": 447,
    "start_time": "2021-08-20T19:44:54.428Z"
   },
   {
    "duration": 12143,
    "start_time": "2021-08-20T19:46:20.707Z"
   },
   {
    "duration": 6803,
    "start_time": "2021-08-20T19:48:19.113Z"
   },
   {
    "duration": 6,
    "start_time": "2021-08-20T19:48:47.077Z"
   },
   {
    "duration": 115,
    "start_time": "2021-08-20T19:48:47.088Z"
   },
   {
    "duration": 13,
    "start_time": "2021-08-20T19:48:47.207Z"
   },
   {
    "duration": 83,
    "start_time": "2021-08-20T19:48:47.224Z"
   },
   {
    "duration": 52,
    "start_time": "2021-08-20T19:48:47.310Z"
   },
   {
    "duration": 6,
    "start_time": "2021-08-20T19:48:47.365Z"
   },
   {
    "duration": 18,
    "start_time": "2021-08-20T19:48:47.374Z"
   },
   {
    "duration": 8,
    "start_time": "2021-08-20T19:48:47.399Z"
   },
   {
    "duration": 58,
    "start_time": "2021-08-20T19:48:47.411Z"
   },
   {
    "duration": 7,
    "start_time": "2021-08-20T19:48:47.473Z"
   },
   {
    "duration": 27,
    "start_time": "2021-08-20T19:48:47.484Z"
   },
   {
    "duration": 55,
    "start_time": "2021-08-20T19:48:47.515Z"
   },
   {
    "duration": 21,
    "start_time": "2021-08-20T19:48:47.573Z"
   },
   {
    "duration": 96,
    "start_time": "2021-08-20T19:48:47.598Z"
   },
   {
    "duration": 6,
    "start_time": "2021-08-20T19:48:47.698Z"
   },
   {
    "duration": 92,
    "start_time": "2021-08-20T19:48:47.708Z"
   },
   {
    "duration": 14,
    "start_time": "2021-08-20T19:48:47.804Z"
   },
   {
    "duration": 14,
    "start_time": "2021-08-20T19:48:47.820Z"
   },
   {
    "duration": 22,
    "start_time": "2021-08-20T19:48:47.864Z"
   },
   {
    "duration": 27,
    "start_time": "2021-08-20T19:48:47.888Z"
   },
   {
    "duration": 66,
    "start_time": "2021-08-20T19:48:47.918Z"
   },
   {
    "duration": 20,
    "start_time": "2021-08-20T19:48:47.987Z"
   },
   {
    "duration": 19,
    "start_time": "2021-08-20T19:48:48.013Z"
   },
   {
    "duration": 306,
    "start_time": "2021-08-20T19:48:48.064Z"
   },
   {
    "duration": 341,
    "start_time": "2021-08-20T19:48:48.372Z"
   },
   {
    "duration": 352,
    "start_time": "2021-08-20T19:48:48.716Z"
   },
   {
    "duration": 323,
    "start_time": "2021-08-20T19:48:49.071Z"
   },
   {
    "duration": 437,
    "start_time": "2021-08-20T19:48:49.396Z"
   },
   {
    "duration": 479,
    "start_time": "2021-08-20T19:48:49.836Z"
   },
   {
    "duration": 9,
    "start_time": "2021-08-20T19:48:50.317Z"
   },
   {
    "duration": 48,
    "start_time": "2021-08-20T19:48:50.329Z"
   },
   {
    "duration": 346,
    "start_time": "2021-08-20T19:48:50.380Z"
   },
   {
    "duration": 382,
    "start_time": "2021-08-20T19:48:50.729Z"
   },
   {
    "duration": 353,
    "start_time": "2021-08-20T19:48:51.114Z"
   },
   {
    "duration": 353,
    "start_time": "2021-08-20T19:48:51.469Z"
   },
   {
    "duration": 233,
    "start_time": "2021-08-20T19:48:51.825Z"
   },
   {
    "duration": 31,
    "start_time": "2021-08-20T19:48:52.063Z"
   },
   {
    "duration": 1379,
    "start_time": "2021-08-20T19:48:52.097Z"
   },
   {
    "duration": 12,
    "start_time": "2021-08-20T19:48:53.479Z"
   },
   {
    "duration": 401,
    "start_time": "2021-08-20T19:48:53.494Z"
   },
   {
    "duration": 26,
    "start_time": "2021-08-20T19:48:53.898Z"
   },
   {
    "duration": 43,
    "start_time": "2021-08-20T19:48:53.926Z"
   },
   {
    "duration": 23,
    "start_time": "2021-08-20T19:48:53.972Z"
   },
   {
    "duration": 63,
    "start_time": "2021-08-20T19:48:53.999Z"
   },
   {
    "duration": 28,
    "start_time": "2021-08-20T19:48:54.065Z"
   },
   {
    "duration": 6593,
    "start_time": "2021-08-20T19:48:54.096Z"
   },
   {
    "duration": -213,
    "start_time": "2021-08-20T19:49:00.905Z"
   },
   {
    "duration": -215,
    "start_time": "2021-08-20T19:49:00.909Z"
   },
   {
    "duration": -217,
    "start_time": "2021-08-20T19:49:00.913Z"
   },
   {
    "duration": -219,
    "start_time": "2021-08-20T19:49:00.916Z"
   },
   {
    "duration": -221,
    "start_time": "2021-08-20T19:49:00.920Z"
   },
   {
    "duration": -222,
    "start_time": "2021-08-20T19:49:00.923Z"
   },
   {
    "duration": -224,
    "start_time": "2021-08-20T19:49:00.926Z"
   },
   {
    "duration": -225,
    "start_time": "2021-08-20T19:49:00.929Z"
   },
   {
    "duration": 309,
    "start_time": "2021-08-20T19:51:08.904Z"
   },
   {
    "duration": 404,
    "start_time": "2021-08-20T19:51:31.399Z"
   },
   {
    "duration": 287,
    "start_time": "2021-08-20T19:51:49.143Z"
   },
   {
    "duration": 240,
    "start_time": "2021-08-20T19:52:36.400Z"
   },
   {
    "duration": 269,
    "start_time": "2021-08-20T19:53:15.423Z"
   },
   {
    "duration": 293,
    "start_time": "2021-08-20T19:53:31.295Z"
   },
   {
    "duration": 5,
    "start_time": "2021-08-20T19:53:44.225Z"
   },
   {
    "duration": 73,
    "start_time": "2021-08-20T19:53:44.233Z"
   },
   {
    "duration": 9,
    "start_time": "2021-08-20T19:53:44.309Z"
   },
   {
    "duration": 83,
    "start_time": "2021-08-20T19:53:44.321Z"
   },
   {
    "duration": 13,
    "start_time": "2021-08-20T19:53:44.407Z"
   },
   {
    "duration": 5,
    "start_time": "2021-08-20T19:53:44.462Z"
   },
   {
    "duration": 18,
    "start_time": "2021-08-20T19:53:44.469Z"
   },
   {
    "duration": 7,
    "start_time": "2021-08-20T19:53:44.491Z"
   },
   {
    "duration": 16,
    "start_time": "2021-08-20T19:53:44.502Z"
   },
   {
    "duration": 44,
    "start_time": "2021-08-20T19:53:44.521Z"
   },
   {
    "duration": 20,
    "start_time": "2021-08-20T19:53:44.568Z"
   },
   {
    "duration": 14,
    "start_time": "2021-08-20T19:53:44.591Z"
   },
   {
    "duration": 16,
    "start_time": "2021-08-20T19:53:44.607Z"
   },
   {
    "duration": 83,
    "start_time": "2021-08-20T19:53:44.626Z"
   },
   {
    "duration": 5,
    "start_time": "2021-08-20T19:53:44.711Z"
   },
   {
    "duration": 74,
    "start_time": "2021-08-20T19:53:44.718Z"
   },
   {
    "duration": 10,
    "start_time": "2021-08-20T19:53:44.795Z"
   },
   {
    "duration": 12,
    "start_time": "2021-08-20T19:53:44.808Z"
   },
   {
    "duration": 51,
    "start_time": "2021-08-20T19:53:44.822Z"
   },
   {
    "duration": 25,
    "start_time": "2021-08-20T19:53:44.876Z"
   },
   {
    "duration": 33,
    "start_time": "2021-08-20T19:53:44.904Z"
   },
   {
    "duration": 19,
    "start_time": "2021-08-20T19:53:44.963Z"
   },
   {
    "duration": 16,
    "start_time": "2021-08-20T19:53:44.988Z"
   },
   {
    "duration": 317,
    "start_time": "2021-08-20T19:53:45.007Z"
   },
   {
    "duration": 602,
    "start_time": "2021-08-20T19:53:45.326Z"
   },
   {
    "duration": 477,
    "start_time": "2021-08-20T19:53:45.931Z"
   },
   {
    "duration": 445,
    "start_time": "2021-08-20T19:53:46.411Z"
   },
   {
    "duration": 473,
    "start_time": "2021-08-20T19:53:46.863Z"
   },
   {
    "duration": 529,
    "start_time": "2021-08-20T19:53:47.339Z"
   },
   {
    "duration": 11,
    "start_time": "2021-08-20T19:53:47.871Z"
   },
   {
    "duration": 31,
    "start_time": "2021-08-20T19:53:47.886Z"
   },
   {
    "duration": 512,
    "start_time": "2021-08-20T19:53:47.920Z"
   },
   {
    "duration": 508,
    "start_time": "2021-08-20T19:53:48.435Z"
   },
   {
    "duration": 462,
    "start_time": "2021-08-20T19:53:48.947Z"
   },
   {
    "duration": 489,
    "start_time": "2021-08-20T19:53:49.412Z"
   },
   {
    "duration": 329,
    "start_time": "2021-08-20T19:53:49.904Z"
   },
   {
    "duration": 50,
    "start_time": "2021-08-20T19:53:50.236Z"
   },
   {
    "duration": 2095,
    "start_time": "2021-08-20T19:53:50.289Z"
   },
   {
    "duration": 15,
    "start_time": "2021-08-20T19:53:52.388Z"
   },
   {
    "duration": 410,
    "start_time": "2021-08-20T19:53:52.406Z"
   },
   {
    "duration": 24,
    "start_time": "2021-08-20T19:53:52.818Z"
   },
   {
    "duration": 29,
    "start_time": "2021-08-20T19:53:52.845Z"
   },
   {
    "duration": 22,
    "start_time": "2021-08-20T19:53:52.876Z"
   },
   {
    "duration": 18,
    "start_time": "2021-08-20T19:53:52.901Z"
   },
   {
    "duration": 57,
    "start_time": "2021-08-20T19:53:52.922Z"
   },
   {
    "duration": 307,
    "start_time": "2021-08-20T19:53:52.982Z"
   },
   {
    "duration": -448,
    "start_time": "2021-08-20T19:53:53.740Z"
   },
   {
    "duration": -450,
    "start_time": "2021-08-20T19:53:53.743Z"
   },
   {
    "duration": -451,
    "start_time": "2021-08-20T19:53:53.746Z"
   },
   {
    "duration": -453,
    "start_time": "2021-08-20T19:53:53.749Z"
   },
   {
    "duration": -454,
    "start_time": "2021-08-20T19:53:53.752Z"
   },
   {
    "duration": -464,
    "start_time": "2021-08-20T19:53:53.763Z"
   },
   {
    "duration": -467,
    "start_time": "2021-08-20T19:53:53.767Z"
   },
   {
    "duration": -476,
    "start_time": "2021-08-20T19:53:53.778Z"
   },
   {
    "duration": 983,
    "start_time": "2021-08-20T19:55:33.130Z"
   },
   {
    "duration": 5,
    "start_time": "2021-08-20T19:55:44.475Z"
   },
   {
    "duration": 93,
    "start_time": "2021-08-20T19:55:44.482Z"
   },
   {
    "duration": 10,
    "start_time": "2021-08-20T19:55:44.578Z"
   },
   {
    "duration": 88,
    "start_time": "2021-08-20T19:55:44.591Z"
   },
   {
    "duration": 15,
    "start_time": "2021-08-20T19:55:44.682Z"
   },
   {
    "duration": 4,
    "start_time": "2021-08-20T19:55:44.699Z"
   },
   {
    "duration": 16,
    "start_time": "2021-08-20T19:55:44.707Z"
   },
   {
    "duration": 40,
    "start_time": "2021-08-20T19:55:44.726Z"
   },
   {
    "duration": 10,
    "start_time": "2021-08-20T19:55:44.769Z"
   },
   {
    "duration": 12,
    "start_time": "2021-08-20T19:55:44.782Z"
   },
   {
    "duration": 21,
    "start_time": "2021-08-20T19:55:44.797Z"
   },
   {
    "duration": 44,
    "start_time": "2021-08-20T19:55:44.820Z"
   },
   {
    "duration": 22,
    "start_time": "2021-08-20T19:55:44.867Z"
   },
   {
    "duration": 46,
    "start_time": "2021-08-20T19:55:44.892Z"
   },
   {
    "duration": 22,
    "start_time": "2021-08-20T19:55:44.941Z"
   },
   {
    "duration": 55,
    "start_time": "2021-08-20T19:55:44.965Z"
   },
   {
    "duration": 10,
    "start_time": "2021-08-20T19:55:45.023Z"
   },
   {
    "duration": 33,
    "start_time": "2021-08-20T19:55:45.037Z"
   },
   {
    "duration": 23,
    "start_time": "2021-08-20T19:55:45.075Z"
   },
   {
    "duration": 63,
    "start_time": "2021-08-20T19:55:45.103Z"
   },
   {
    "duration": 55,
    "start_time": "2021-08-20T19:55:45.169Z"
   },
   {
    "duration": 53,
    "start_time": "2021-08-20T19:55:45.227Z"
   },
   {
    "duration": 27,
    "start_time": "2021-08-20T19:55:45.283Z"
   },
   {
    "duration": 483,
    "start_time": "2021-08-20T19:55:45.313Z"
   },
   {
    "duration": 478,
    "start_time": "2021-08-20T19:55:45.800Z"
   },
   {
    "duration": 488,
    "start_time": "2021-08-20T19:55:46.281Z"
   },
   {
    "duration": 457,
    "start_time": "2021-08-20T19:55:46.772Z"
   },
   {
    "duration": 483,
    "start_time": "2021-08-20T19:55:47.232Z"
   },
   {
    "duration": 628,
    "start_time": "2021-08-20T19:55:47.718Z"
   },
   {
    "duration": 21,
    "start_time": "2021-08-20T19:55:48.349Z"
   },
   {
    "duration": 33,
    "start_time": "2021-08-20T19:55:48.373Z"
   },
   {
    "duration": 507,
    "start_time": "2021-08-20T19:55:48.409Z"
   },
   {
    "duration": 523,
    "start_time": "2021-08-20T19:55:48.919Z"
   },
   {
    "duration": 466,
    "start_time": "2021-08-20T19:55:49.446Z"
   },
   {
    "duration": 493,
    "start_time": "2021-08-20T19:55:49.916Z"
   },
   {
    "duration": 329,
    "start_time": "2021-08-20T19:55:50.412Z"
   },
   {
    "duration": 48,
    "start_time": "2021-08-20T19:55:50.745Z"
   },
   {
    "duration": 2261,
    "start_time": "2021-08-20T19:55:50.797Z"
   },
   {
    "duration": 16,
    "start_time": "2021-08-20T19:55:53.062Z"
   },
   {
    "duration": 437,
    "start_time": "2021-08-20T19:55:53.080Z"
   },
   {
    "duration": 24,
    "start_time": "2021-08-20T19:55:53.520Z"
   },
   {
    "duration": 16,
    "start_time": "2021-08-20T19:55:53.563Z"
   },
   {
    "duration": 16,
    "start_time": "2021-08-20T19:55:53.581Z"
   },
   {
    "duration": 23,
    "start_time": "2021-08-20T19:55:53.599Z"
   },
   {
    "duration": 47,
    "start_time": "2021-08-20T19:55:53.624Z"
   },
   {
    "duration": 411,
    "start_time": "2021-08-20T19:55:53.674Z"
   },
   {
    "duration": -53,
    "start_time": "2021-08-20T19:55:54.141Z"
   },
   {
    "duration": -55,
    "start_time": "2021-08-20T19:55:54.144Z"
   },
   {
    "duration": -60,
    "start_time": "2021-08-20T19:55:54.150Z"
   },
   {
    "duration": -61,
    "start_time": "2021-08-20T19:55:54.153Z"
   },
   {
    "duration": -63,
    "start_time": "2021-08-20T19:55:54.157Z"
   },
   {
    "duration": -65,
    "start_time": "2021-08-20T19:55:54.160Z"
   },
   {
    "duration": -67,
    "start_time": "2021-08-20T19:55:54.163Z"
   },
   {
    "duration": 1524,
    "start_time": "2021-08-20T19:56:18.586Z"
   },
   {
    "duration": 77,
    "start_time": "2021-08-20T19:56:20.113Z"
   },
   {
    "duration": 11,
    "start_time": "2021-08-20T19:56:20.194Z"
   },
   {
    "duration": 66,
    "start_time": "2021-08-20T19:56:20.207Z"
   },
   {
    "duration": 15,
    "start_time": "2021-08-20T19:56:20.275Z"
   },
   {
    "duration": 11,
    "start_time": "2021-08-20T19:56:20.292Z"
   },
   {
    "duration": 24,
    "start_time": "2021-08-20T19:56:20.306Z"
   },
   {
    "duration": 30,
    "start_time": "2021-08-20T19:56:20.334Z"
   },
   {
    "duration": 22,
    "start_time": "2021-08-20T19:56:20.367Z"
   },
   {
    "duration": 7,
    "start_time": "2021-08-20T19:56:20.392Z"
   },
   {
    "duration": 21,
    "start_time": "2021-08-20T19:56:20.402Z"
   },
   {
    "duration": 43,
    "start_time": "2021-08-20T19:56:20.425Z"
   },
   {
    "duration": 19,
    "start_time": "2021-08-20T19:56:20.471Z"
   },
   {
    "duration": 81,
    "start_time": "2021-08-20T19:56:20.493Z"
   },
   {
    "duration": 7,
    "start_time": "2021-08-20T19:56:20.578Z"
   },
   {
    "duration": 75,
    "start_time": "2021-08-20T19:56:20.588Z"
   },
   {
    "duration": 11,
    "start_time": "2021-08-20T19:56:20.666Z"
   },
   {
    "duration": 11,
    "start_time": "2021-08-20T19:56:20.681Z"
   },
   {
    "duration": 23,
    "start_time": "2021-08-20T19:56:20.695Z"
   },
   {
    "duration": 27,
    "start_time": "2021-08-20T19:56:20.761Z"
   },
   {
    "duration": 36,
    "start_time": "2021-08-20T19:56:20.791Z"
   },
   {
    "duration": 46,
    "start_time": "2021-08-20T19:56:20.830Z"
   },
   {
    "duration": 20,
    "start_time": "2021-08-20T19:56:20.882Z"
   },
   {
    "duration": 343,
    "start_time": "2021-08-20T19:56:20.906Z"
   },
   {
    "duration": 346,
    "start_time": "2021-08-20T19:56:21.251Z"
   },
   {
    "duration": 376,
    "start_time": "2021-08-20T19:56:21.600Z"
   },
   {
    "duration": 328,
    "start_time": "2021-08-20T19:56:21.979Z"
   },
   {
    "duration": 343,
    "start_time": "2021-08-20T19:56:22.310Z"
   },
   {
    "duration": 380,
    "start_time": "2021-08-20T19:56:22.656Z"
   },
   {
    "duration": 24,
    "start_time": "2021-08-20T19:56:23.038Z"
   },
   {
    "duration": 26,
    "start_time": "2021-08-20T19:56:23.064Z"
   },
   {
    "duration": 411,
    "start_time": "2021-08-20T19:56:23.093Z"
   },
   {
    "duration": -52,
    "start_time": "2021-08-20T19:56:23.559Z"
   },
   {
    "duration": -56,
    "start_time": "2021-08-20T19:56:23.565Z"
   },
   {
    "duration": -65,
    "start_time": "2021-08-20T19:56:23.576Z"
   },
   {
    "duration": -67,
    "start_time": "2021-08-20T19:56:23.580Z"
   },
   {
    "duration": -77,
    "start_time": "2021-08-20T19:56:23.592Z"
   },
   {
    "duration": -78,
    "start_time": "2021-08-20T19:56:23.596Z"
   },
   {
    "duration": -89,
    "start_time": "2021-08-20T19:56:23.608Z"
   },
   {
    "duration": -91,
    "start_time": "2021-08-20T19:56:23.613Z"
   },
   {
    "duration": -101,
    "start_time": "2021-08-20T19:56:23.625Z"
   },
   {
    "duration": -106,
    "start_time": "2021-08-20T19:56:23.632Z"
   },
   {
    "duration": -116,
    "start_time": "2021-08-20T19:56:23.644Z"
   },
   {
    "duration": -128,
    "start_time": "2021-08-20T19:56:23.658Z"
   },
   {
    "duration": -130,
    "start_time": "2021-08-20T19:56:23.662Z"
   },
   {
    "duration": -139,
    "start_time": "2021-08-20T19:56:23.674Z"
   },
   {
    "duration": -141,
    "start_time": "2021-08-20T19:56:23.678Z"
   },
   {
    "duration": -152,
    "start_time": "2021-08-20T19:56:23.691Z"
   },
   {
    "duration": -154,
    "start_time": "2021-08-20T19:56:23.696Z"
   },
   {
    "duration": -165,
    "start_time": "2021-08-20T19:56:23.709Z"
   },
   {
    "duration": -167,
    "start_time": "2021-08-20T19:56:23.713Z"
   },
   {
    "duration": -180,
    "start_time": "2021-08-20T19:56:23.726Z"
   },
   {
    "duration": 4,
    "start_time": "2021-08-20T19:57:01.070Z"
   },
   {
    "duration": 102,
    "start_time": "2021-08-20T19:57:01.076Z"
   },
   {
    "duration": 17,
    "start_time": "2021-08-20T19:57:01.182Z"
   },
   {
    "duration": 115,
    "start_time": "2021-08-20T19:57:01.203Z"
   },
   {
    "duration": 15,
    "start_time": "2021-08-20T19:57:01.320Z"
   },
   {
    "duration": 25,
    "start_time": "2021-08-20T19:57:01.338Z"
   },
   {
    "duration": 35,
    "start_time": "2021-08-20T19:57:01.366Z"
   },
   {
    "duration": 10,
    "start_time": "2021-08-20T19:57:01.408Z"
   },
   {
    "duration": 40,
    "start_time": "2021-08-20T19:57:01.423Z"
   },
   {
    "duration": 7,
    "start_time": "2021-08-20T19:57:01.467Z"
   },
   {
    "duration": 43,
    "start_time": "2021-08-20T19:57:01.477Z"
   },
   {
    "duration": 41,
    "start_time": "2021-08-20T19:57:01.523Z"
   },
   {
    "duration": 24,
    "start_time": "2021-08-20T19:57:01.568Z"
   },
   {
    "duration": 97,
    "start_time": "2021-08-20T19:57:01.595Z"
   },
   {
    "duration": 5,
    "start_time": "2021-08-20T19:57:01.694Z"
   },
   {
    "duration": 69,
    "start_time": "2021-08-20T19:57:01.702Z"
   },
   {
    "duration": 10,
    "start_time": "2021-08-20T19:57:01.774Z"
   },
   {
    "duration": 26,
    "start_time": "2021-08-20T19:57:01.787Z"
   },
   {
    "duration": 52,
    "start_time": "2021-08-20T19:57:01.816Z"
   },
   {
    "duration": 53,
    "start_time": "2021-08-20T19:57:01.871Z"
   },
   {
    "duration": 65,
    "start_time": "2021-08-20T19:57:01.927Z"
   },
   {
    "duration": 26,
    "start_time": "2021-08-20T19:57:01.995Z"
   },
   {
    "duration": 52,
    "start_time": "2021-08-20T19:57:02.031Z"
   },
   {
    "duration": 509,
    "start_time": "2021-08-20T19:57:02.089Z"
   },
   {
    "duration": 643,
    "start_time": "2021-08-20T19:57:02.601Z"
   },
   {
    "duration": 535,
    "start_time": "2021-08-20T19:57:03.247Z"
   },
   {
    "duration": 464,
    "start_time": "2021-08-20T19:57:03.785Z"
   },
   {
    "duration": 498,
    "start_time": "2021-08-20T19:57:04.253Z"
   },
   {
    "duration": 371,
    "start_time": "2021-08-20T19:57:04.754Z"
   },
   {
    "duration": 10,
    "start_time": "2021-08-20T19:57:05.128Z"
   },
   {
    "duration": 43,
    "start_time": "2021-08-20T19:57:05.141Z"
   },
   {
    "duration": 282,
    "start_time": "2021-08-20T19:57:05.187Z"
   },
   {
    "duration": -42,
    "start_time": "2021-08-20T19:57:05.515Z"
   },
   {
    "duration": -49,
    "start_time": "2021-08-20T19:57:05.524Z"
   },
   {
    "duration": -51,
    "start_time": "2021-08-20T19:57:05.528Z"
   },
   {
    "duration": -53,
    "start_time": "2021-08-20T19:57:05.532Z"
   },
   {
    "duration": -53,
    "start_time": "2021-08-20T19:57:05.535Z"
   },
   {
    "duration": -55,
    "start_time": "2021-08-20T19:57:05.539Z"
   },
   {
    "duration": -57,
    "start_time": "2021-08-20T19:57:05.542Z"
   },
   {
    "duration": -59,
    "start_time": "2021-08-20T19:57:05.546Z"
   },
   {
    "duration": -61,
    "start_time": "2021-08-20T19:57:05.549Z"
   },
   {
    "duration": -63,
    "start_time": "2021-08-20T19:57:05.552Z"
   },
   {
    "duration": -64,
    "start_time": "2021-08-20T19:57:05.555Z"
   },
   {
    "duration": -72,
    "start_time": "2021-08-20T19:57:05.564Z"
   },
   {
    "duration": -100,
    "start_time": "2021-08-20T19:57:05.593Z"
   },
   {
    "duration": -103,
    "start_time": "2021-08-20T19:57:05.598Z"
   },
   {
    "duration": -105,
    "start_time": "2021-08-20T19:57:05.601Z"
   },
   {
    "duration": -108,
    "start_time": "2021-08-20T19:57:05.605Z"
   },
   {
    "duration": -110,
    "start_time": "2021-08-20T19:57:05.609Z"
   },
   {
    "duration": -117,
    "start_time": "2021-08-20T19:57:05.618Z"
   },
   {
    "duration": -119,
    "start_time": "2021-08-20T19:57:05.622Z"
   },
   {
    "duration": -127,
    "start_time": "2021-08-20T19:57:05.632Z"
   },
   {
    "duration": 6,
    "start_time": "2021-08-20T19:58:33.597Z"
   },
   {
    "duration": 82,
    "start_time": "2021-08-20T19:58:33.607Z"
   },
   {
    "duration": 10,
    "start_time": "2021-08-20T19:58:33.692Z"
   },
   {
    "duration": 72,
    "start_time": "2021-08-20T19:58:33.705Z"
   },
   {
    "duration": 16,
    "start_time": "2021-08-20T19:58:33.779Z"
   },
   {
    "duration": 9,
    "start_time": "2021-08-20T19:58:33.798Z"
   },
   {
    "duration": 27,
    "start_time": "2021-08-20T19:58:33.810Z"
   },
   {
    "duration": 21,
    "start_time": "2021-08-20T19:58:33.866Z"
   },
   {
    "duration": 23,
    "start_time": "2021-08-20T19:58:33.892Z"
   },
   {
    "duration": 7,
    "start_time": "2021-08-20T19:58:33.919Z"
   },
   {
    "duration": 54,
    "start_time": "2021-08-20T19:58:33.928Z"
   },
   {
    "duration": 35,
    "start_time": "2021-08-20T19:58:33.985Z"
   },
   {
    "duration": 29,
    "start_time": "2021-08-20T19:58:34.023Z"
   },
   {
    "duration": 53,
    "start_time": "2021-08-20T19:58:34.055Z"
   },
   {
    "duration": 6,
    "start_time": "2021-08-20T19:58:34.111Z"
   },
   {
    "duration": 78,
    "start_time": "2021-08-20T19:58:34.120Z"
   },
   {
    "duration": 12,
    "start_time": "2021-08-20T19:58:34.201Z"
   },
   {
    "duration": 26,
    "start_time": "2021-08-20T19:58:34.216Z"
   },
   {
    "duration": 24,
    "start_time": "2021-08-20T19:58:34.262Z"
   },
   {
    "duration": 37,
    "start_time": "2021-08-20T19:58:34.290Z"
   },
   {
    "duration": 51,
    "start_time": "2021-08-20T19:58:34.330Z"
   },
   {
    "duration": 20,
    "start_time": "2021-08-20T19:58:34.383Z"
   },
   {
    "duration": 17,
    "start_time": "2021-08-20T19:58:34.409Z"
   },
   {
    "duration": 335,
    "start_time": "2021-08-20T19:58:34.430Z"
   },
   {
    "duration": 333,
    "start_time": "2021-08-20T19:58:34.767Z"
   },
   {
    "duration": 352,
    "start_time": "2021-08-20T19:58:35.103Z"
   },
   {
    "duration": 415,
    "start_time": "2021-08-20T19:58:35.462Z"
   },
   {
    "duration": 340,
    "start_time": "2021-08-20T19:58:35.879Z"
   },
   {
    "duration": 381,
    "start_time": "2021-08-20T19:58:36.221Z"
   },
   {
    "duration": 8,
    "start_time": "2021-08-20T19:58:36.605Z"
   },
   {
    "duration": 49,
    "start_time": "2021-08-20T19:58:36.615Z"
   },
   {
    "duration": 445,
    "start_time": "2021-08-20T19:58:36.666Z"
   },
   {
    "duration": 369,
    "start_time": "2021-08-20T19:58:37.114Z"
   },
   {
    "duration": 321,
    "start_time": "2021-08-20T19:58:37.485Z"
   },
   {
    "duration": 599,
    "start_time": "2021-08-20T19:58:37.809Z"
   },
   {
    "duration": 335,
    "start_time": "2021-08-20T19:58:38.412Z"
   },
   {
    "duration": 41,
    "start_time": "2021-08-20T19:58:38.750Z"
   },
   {
    "duration": 1971,
    "start_time": "2021-08-20T19:58:38.794Z"
   },
   {
    "duration": 16,
    "start_time": "2021-08-20T19:58:40.768Z"
   },
   {
    "duration": 411,
    "start_time": "2021-08-20T19:58:40.787Z"
   },
   {
    "duration": 23,
    "start_time": "2021-08-20T19:58:41.201Z"
   },
   {
    "duration": 38,
    "start_time": "2021-08-20T19:58:41.226Z"
   },
   {
    "duration": 18,
    "start_time": "2021-08-20T19:58:41.266Z"
   },
   {
    "duration": 16,
    "start_time": "2021-08-20T19:58:41.287Z"
   },
   {
    "duration": 59,
    "start_time": "2021-08-20T19:58:41.305Z"
   },
   {
    "duration": 18,
    "start_time": "2021-08-20T19:58:41.366Z"
   },
   {
    "duration": 17,
    "start_time": "2021-08-20T19:58:41.386Z"
   },
   {
    "duration": 58,
    "start_time": "2021-08-20T19:58:41.405Z"
   },
   {
    "duration": 18,
    "start_time": "2021-08-20T19:58:41.465Z"
   },
   {
    "duration": 17,
    "start_time": "2021-08-20T19:58:41.485Z"
   },
   {
    "duration": 62,
    "start_time": "2021-08-20T19:58:41.504Z"
   },
   {
    "duration": 26,
    "start_time": "2021-08-20T19:58:41.568Z"
   },
   {
    "duration": 1497,
    "start_time": "2021-08-20T19:59:36.312Z"
   },
   {
    "duration": 73,
    "start_time": "2021-08-20T19:59:37.811Z"
   },
   {
    "duration": 10,
    "start_time": "2021-08-20T19:59:37.887Z"
   },
   {
    "duration": 66,
    "start_time": "2021-08-20T19:59:37.899Z"
   },
   {
    "duration": 15,
    "start_time": "2021-08-20T19:59:37.967Z"
   },
   {
    "duration": 10,
    "start_time": "2021-08-20T19:59:37.984Z"
   },
   {
    "duration": 22,
    "start_time": "2021-08-20T19:59:37.997Z"
   },
   {
    "duration": 10,
    "start_time": "2021-08-20T19:59:38.023Z"
   },
   {
    "duration": 30,
    "start_time": "2021-08-20T19:59:38.037Z"
   },
   {
    "duration": 11,
    "start_time": "2021-08-20T19:59:38.069Z"
   },
   {
    "duration": 28,
    "start_time": "2021-08-20T19:59:38.082Z"
   },
   {
    "duration": 21,
    "start_time": "2021-08-20T19:59:38.112Z"
   },
   {
    "duration": 34,
    "start_time": "2021-08-20T19:59:38.135Z"
   },
   {
    "duration": 47,
    "start_time": "2021-08-20T19:59:38.172Z"
   },
   {
    "duration": 11,
    "start_time": "2021-08-20T19:59:38.222Z"
   },
   {
    "duration": 69,
    "start_time": "2021-08-20T19:59:38.236Z"
   },
   {
    "duration": 9,
    "start_time": "2021-08-20T19:59:38.308Z"
   },
   {
    "duration": 15,
    "start_time": "2021-08-20T19:59:38.320Z"
   },
   {
    "duration": 42,
    "start_time": "2021-08-20T19:59:38.338Z"
   },
   {
    "duration": 31,
    "start_time": "2021-08-20T19:59:38.382Z"
   },
   {
    "duration": 63,
    "start_time": "2021-08-20T19:59:38.415Z"
   },
   {
    "duration": 19,
    "start_time": "2021-08-20T19:59:38.481Z"
   },
   {
    "duration": 19,
    "start_time": "2021-08-20T19:59:38.506Z"
   },
   {
    "duration": 333,
    "start_time": "2021-08-20T19:59:38.529Z"
   },
   {
    "duration": 333,
    "start_time": "2021-08-20T19:59:38.864Z"
   },
   {
    "duration": 335,
    "start_time": "2021-08-20T19:59:39.199Z"
   },
   {
    "duration": 316,
    "start_time": "2021-08-20T19:59:39.537Z"
   },
   {
    "duration": 380,
    "start_time": "2021-08-20T19:59:39.856Z"
   },
   {
    "duration": 396,
    "start_time": "2021-08-20T19:59:40.238Z"
   },
   {
    "duration": 8,
    "start_time": "2021-08-20T19:59:40.636Z"
   },
   {
    "duration": 39,
    "start_time": "2021-08-20T19:59:40.647Z"
   },
   {
    "duration": 515,
    "start_time": "2021-08-20T19:59:40.689Z"
   },
   {
    "duration": 648,
    "start_time": "2021-08-20T19:59:41.207Z"
   },
   {
    "duration": 480,
    "start_time": "2021-08-20T19:59:41.862Z"
   },
   {
    "duration": 517,
    "start_time": "2021-08-20T19:59:42.345Z"
   },
   {
    "duration": 340,
    "start_time": "2021-08-20T19:59:42.865Z"
   },
   {
    "duration": 36,
    "start_time": "2021-08-20T19:59:43.208Z"
   },
   {
    "duration": 2032,
    "start_time": "2021-08-20T19:59:43.247Z"
   },
   {
    "duration": 19,
    "start_time": "2021-08-20T19:59:45.282Z"
   },
   {
    "duration": 411,
    "start_time": "2021-08-20T19:59:45.304Z"
   },
   {
    "duration": 26,
    "start_time": "2021-08-20T19:59:45.717Z"
   },
   {
    "duration": 29,
    "start_time": "2021-08-20T19:59:45.746Z"
   },
   {
    "duration": 18,
    "start_time": "2021-08-20T19:59:45.778Z"
   },
   {
    "duration": 18,
    "start_time": "2021-08-20T19:59:45.799Z"
   },
   {
    "duration": 58,
    "start_time": "2021-08-20T19:59:45.819Z"
   },
   {
    "duration": 19,
    "start_time": "2021-08-20T19:59:45.879Z"
   },
   {
    "duration": 16,
    "start_time": "2021-08-20T19:59:45.901Z"
   },
   {
    "duration": 52,
    "start_time": "2021-08-20T19:59:45.919Z"
   },
   {
    "duration": 17,
    "start_time": "2021-08-20T19:59:45.973Z"
   },
   {
    "duration": 18,
    "start_time": "2021-08-20T19:59:45.993Z"
   },
   {
    "duration": 54,
    "start_time": "2021-08-20T19:59:46.014Z"
   },
   {
    "duration": 24,
    "start_time": "2021-08-20T19:59:46.070Z"
   },
   {
    "duration": 1694,
    "start_time": "2021-08-20T20:02:27.219Z"
   },
   {
    "duration": 72,
    "start_time": "2021-08-20T20:02:28.916Z"
   },
   {
    "duration": 10,
    "start_time": "2021-08-20T20:02:28.991Z"
   },
   {
    "duration": 61,
    "start_time": "2021-08-20T20:02:29.003Z"
   },
   {
    "duration": 13,
    "start_time": "2021-08-20T20:02:29.066Z"
   },
   {
    "duration": 9,
    "start_time": "2021-08-20T20:02:29.082Z"
   },
   {
    "duration": 19,
    "start_time": "2021-08-20T20:02:29.093Z"
   },
   {
    "duration": 7,
    "start_time": "2021-08-20T20:02:29.116Z"
   },
   {
    "duration": 42,
    "start_time": "2021-08-20T20:02:29.126Z"
   },
   {
    "duration": 25,
    "start_time": "2021-08-20T20:02:29.171Z"
   },
   {
    "duration": 26,
    "start_time": "2021-08-20T20:02:29.198Z"
   },
   {
    "duration": 26,
    "start_time": "2021-08-20T20:02:29.226Z"
   },
   {
    "duration": 35,
    "start_time": "2021-08-20T20:02:29.255Z"
   },
   {
    "duration": 67,
    "start_time": "2021-08-20T20:02:29.293Z"
   },
   {
    "duration": 12,
    "start_time": "2021-08-20T20:02:29.363Z"
   },
   {
    "duration": 73,
    "start_time": "2021-08-20T20:02:29.378Z"
   },
   {
    "duration": 13,
    "start_time": "2021-08-20T20:02:29.461Z"
   },
   {
    "duration": 18,
    "start_time": "2021-08-20T20:02:29.478Z"
   },
   {
    "duration": 28,
    "start_time": "2021-08-20T20:02:29.499Z"
   },
   {
    "duration": 61,
    "start_time": "2021-08-20T20:02:29.531Z"
   },
   {
    "duration": 47,
    "start_time": "2021-08-20T20:02:29.596Z"
   },
   {
    "duration": 40,
    "start_time": "2021-08-20T20:02:29.646Z"
   },
   {
    "duration": 26,
    "start_time": "2021-08-20T20:02:29.694Z"
   },
   {
    "duration": 566,
    "start_time": "2021-08-20T20:02:29.724Z"
   },
   {
    "duration": 473,
    "start_time": "2021-08-20T20:02:30.293Z"
   },
   {
    "duration": 489,
    "start_time": "2021-08-20T20:02:30.769Z"
   },
   {
    "duration": 441,
    "start_time": "2021-08-20T20:02:31.262Z"
   },
   {
    "duration": 477,
    "start_time": "2021-08-20T20:02:31.706Z"
   },
   {
    "duration": 512,
    "start_time": "2021-08-20T20:02:32.187Z"
   },
   {
    "duration": 11,
    "start_time": "2021-08-20T20:02:32.702Z"
   },
   {
    "duration": 48,
    "start_time": "2021-08-20T20:02:32.716Z"
   },
   {
    "duration": 324,
    "start_time": "2021-08-20T20:02:32.766Z"
   },
   {
    "duration": 414,
    "start_time": "2021-08-20T20:02:33.093Z"
   },
   {
    "duration": 320,
    "start_time": "2021-08-20T20:02:33.510Z"
   },
   {
    "duration": 321,
    "start_time": "2021-08-20T20:02:33.832Z"
   },
   {
    "duration": 215,
    "start_time": "2021-08-20T20:02:34.156Z"
   },
   {
    "duration": 24,
    "start_time": "2021-08-20T20:02:34.373Z"
   },
   {
    "duration": 1330,
    "start_time": "2021-08-20T20:02:34.399Z"
   },
   {
    "duration": 13,
    "start_time": "2021-08-20T20:02:35.732Z"
   },
   {
    "duration": 350,
    "start_time": "2021-08-20T20:02:35.763Z"
   },
   {
    "duration": 23,
    "start_time": "2021-08-20T20:02:36.115Z"
   },
   {
    "duration": 32,
    "start_time": "2021-08-20T20:02:36.140Z"
   },
   {
    "duration": 24,
    "start_time": "2021-08-20T20:02:36.174Z"
   },
   {
    "duration": 32,
    "start_time": "2021-08-20T20:02:36.200Z"
   },
   {
    "duration": 32,
    "start_time": "2021-08-20T20:02:36.235Z"
   },
   {
    "duration": 22,
    "start_time": "2021-08-20T20:02:36.271Z"
   },
   {
    "duration": 36,
    "start_time": "2021-08-20T20:02:36.296Z"
   },
   {
    "duration": 45,
    "start_time": "2021-08-20T20:02:36.334Z"
   },
   {
    "duration": 53,
    "start_time": "2021-08-20T20:02:36.381Z"
   },
   {
    "duration": 34,
    "start_time": "2021-08-20T20:02:36.436Z"
   },
   {
    "duration": 24,
    "start_time": "2021-08-20T20:02:36.473Z"
   },
   {
    "duration": 37,
    "start_time": "2021-08-20T20:02:36.499Z"
   }
  ],
  "kernelspec": {
   "display_name": "Python 3",
   "language": "python",
   "name": "python3"
  },
  "language_info": {
   "codemirror_mode": {
    "name": "ipython",
    "version": 3
   },
   "file_extension": ".py",
   "mimetype": "text/x-python",
   "name": "python",
   "nbconvert_exporter": "python",
   "pygments_lexer": "ipython3",
   "version": "3.8.8"
  },
  "toc": {
   "base_numbering": 1,
   "nav_menu": {},
   "number_sections": true,
   "sideBar": true,
   "skip_h1_title": true,
   "title_cell": "Table of Contents",
   "title_sidebar": "Contents",
   "toc_cell": false,
   "toc_position": {},
   "toc_section_display": true,
   "toc_window_display": false
  }
 },
 "nbformat": 4,
 "nbformat_minor": 2
}
